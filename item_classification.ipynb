{
 "cells": [
  {
   "cell_type": "markdown",
   "metadata": {},
   "source": [
    "#### Import libraries"
   ]
  },
  {
   "cell_type": "code",
   "execution_count": 2,
   "metadata": {},
   "outputs": [],
   "source": [
    "import pandas as pd\n",
    "import chart_studio as cs\n",
    "cs.tools.set_credentials_file(username='macv97', api_key='rW2ViBF5BhcWxasj9Ijb')\n",
    "import plotly.graph_objects as go\n",
    "import pandas as pd\n",
    "\n",
    "from get_database_data import get_pessoa\n",
    "from get_database_data import get_produto\n",
    "from get_database_data import get_fabricante\n",
    "from get_database_data import get_saida\n",
    "from get_database_data import get_saida_produto\n",
    "\n",
    "from title_treatment import *\n",
    "from datetime import datetime\n",
    "\n",
    "from descriptive_analysis import *"
   ]
  },
  {
   "cell_type": "markdown",
   "metadata": {},
   "source": [
    "#### Import vocabulary"
   ]
  },
  {
   "cell_type": "code",
   "execution_count": 3,
   "metadata": {},
   "outputs": [],
   "source": [
    "from vocabulary import cores\n",
    "from vocabulary import marcas\n",
    "from vocabulary import preposicoes\n",
    "from vocabulary import abb\n",
    "from vocabulary import models\n",
    "from vocabulary import categories"
   ]
  },
  {
   "cell_type": "markdown",
   "metadata": {},
   "source": [
    "# Feature Engineering"
   ]
  },
  {
   "cell_type": "markdown",
   "metadata": {},
   "source": [
    "## Filtering the product titles"
   ]
  },
  {
   "cell_type": "code",
   "execution_count": 4,
   "metadata": {},
   "outputs": [
    {
     "data": {
      "text/html": [
       "<div>\n",
       "<style scoped>\n",
       "    .dataframe tbody tr th:only-of-type {\n",
       "        vertical-align: middle;\n",
       "    }\n",
       "\n",
       "    .dataframe tbody tr th {\n",
       "        vertical-align: top;\n",
       "    }\n",
       "\n",
       "    .dataframe thead th {\n",
       "        text-align: right;\n",
       "    }\n",
       "</style>\n",
       "<table border=\"1\" class=\"dataframe\">\n",
       "  <thead>\n",
       "    <tr style=\"text-align: right;\">\n",
       "      <th></th>\n",
       "      <th>ID_PRODUTO</th>\n",
       "      <th>NOME</th>\n",
       "      <th>ID_FABRICANTE</th>\n",
       "      <th>COR</th>\n",
       "      <th>GRUPO_PRODUTO</th>\n",
       "      <th>MODELO</th>\n",
       "      <th>CATEGORIA</th>\n",
       "    </tr>\n",
       "  </thead>\n",
       "  <tbody>\n",
       "    <tr>\n",
       "      <th>0</th>\n",
       "      <td>1</td>\n",
       "      <td>ESPIRAL 07MM PRETO COM 100 UN - 25 FOLHAS</td>\n",
       "      <td>3</td>\n",
       "      <td>PRETO</td>\n",
       "      <td>ESPIRAL</td>\n",
       "      <td>07MM 100 UN - 25 FOLHAS</td>\n",
       "      <td>SUPRIMENTO</td>\n",
       "    </tr>\n",
       "    <tr>\n",
       "      <th>1</th>\n",
       "      <td>2</td>\n",
       "      <td>ESPIRAL 07MM CRISTAL COM 100 UN - 25 FOLHAS</td>\n",
       "      <td>3</td>\n",
       "      <td>CRISTAL</td>\n",
       "      <td>ESPIRAL</td>\n",
       "      <td>07MM 100 UN - 25 FOLHAS</td>\n",
       "      <td>SUPRIMENTO</td>\n",
       "    </tr>\n",
       "    <tr>\n",
       "      <th>2</th>\n",
       "      <td>3</td>\n",
       "      <td>ESPIRAL 07MM AZUL ROYAL COM 100 UN - 25 FOLHAS</td>\n",
       "      <td>3</td>\n",
       "      <td>AZUL ROYAL</td>\n",
       "      <td>ESPIRAL</td>\n",
       "      <td>07MM 100 UN - 25 FOLHAS</td>\n",
       "      <td>SUPRIMENTO</td>\n",
       "    </tr>\n",
       "    <tr>\n",
       "      <th>3</th>\n",
       "      <td>4</td>\n",
       "      <td>ESPIRAL 09MM AZUL ROYAL COM 100 UN - 50 FOLHAS</td>\n",
       "      <td>3</td>\n",
       "      <td>AZUL ROYAL</td>\n",
       "      <td>ESPIRAL</td>\n",
       "      <td>09MM 100 UN - 50 FOLHAS</td>\n",
       "      <td>SUPRIMENTO</td>\n",
       "    </tr>\n",
       "    <tr>\n",
       "      <th>4</th>\n",
       "      <td>5</td>\n",
       "      <td>ESPIRAL 09MM CRISTAL COM 100 UN - 50 FOLHAS</td>\n",
       "      <td>3</td>\n",
       "      <td>CRISTAL</td>\n",
       "      <td>ESPIRAL</td>\n",
       "      <td>09MM 100 UN - 50 FOLHAS</td>\n",
       "      <td>SUPRIMENTO</td>\n",
       "    </tr>\n",
       "    <tr>\n",
       "      <th>5</th>\n",
       "      <td>6</td>\n",
       "      <td>ESPIRAL 09MM PRETO COM 100 UN - 50 FOLHAS</td>\n",
       "      <td>3</td>\n",
       "      <td>PRETO</td>\n",
       "      <td>ESPIRAL</td>\n",
       "      <td>09MM 100 UN - 50 FOLHAS</td>\n",
       "      <td>SUPRIMENTO</td>\n",
       "    </tr>\n",
       "    <tr>\n",
       "      <th>6</th>\n",
       "      <td>7</td>\n",
       "      <td>ESPIRAL 12MM CRISTAL COM 100 UN - 70 FOLHAS</td>\n",
       "      <td>3</td>\n",
       "      <td>CRISTAL</td>\n",
       "      <td>ESPIRAL</td>\n",
       "      <td>12MM 100 UN - 70 FOLHAS</td>\n",
       "      <td>SUPRIMENTO</td>\n",
       "    </tr>\n",
       "    <tr>\n",
       "      <th>7</th>\n",
       "      <td>87</td>\n",
       "      <td>CAPA PP LINE CRISTAL A4 COM 100 UNID</td>\n",
       "      <td>10</td>\n",
       "      <td>CRISTAL</td>\n",
       "      <td>CAPA PP</td>\n",
       "      <td>LINE A4 100 UNID</td>\n",
       "      <td>SUPRIMENTO</td>\n",
       "    </tr>\n",
       "    <tr>\n",
       "      <th>8</th>\n",
       "      <td>88</td>\n",
       "      <td>CAPA PP LINE CRISTAL OFICIO COM 100 UNID</td>\n",
       "      <td>10</td>\n",
       "      <td>CRISTAL</td>\n",
       "      <td>CAPA PP</td>\n",
       "      <td>LINE OFICIO 100 UNID</td>\n",
       "      <td>SUPRIMENTO</td>\n",
       "    </tr>\n",
       "    <tr>\n",
       "      <th>9</th>\n",
       "      <td>89</td>\n",
       "      <td>CAPA PP LINE CRISTAL A3 COM 100 UNID</td>\n",
       "      <td>5</td>\n",
       "      <td>CRISTAL</td>\n",
       "      <td>CAPA PP</td>\n",
       "      <td>LINE A3 100 UNID</td>\n",
       "      <td>SUPRIMENTO</td>\n",
       "    </tr>\n",
       "  </tbody>\n",
       "</table>\n",
       "</div>"
      ],
      "text/plain": [
       "   ID_PRODUTO                                            NOME  ID_FABRICANTE  \\\n",
       "0           1       ESPIRAL 07MM PRETO COM 100 UN - 25 FOLHAS              3   \n",
       "1           2     ESPIRAL 07MM CRISTAL COM 100 UN - 25 FOLHAS              3   \n",
       "2           3  ESPIRAL 07MM AZUL ROYAL COM 100 UN - 25 FOLHAS              3   \n",
       "3           4  ESPIRAL 09MM AZUL ROYAL COM 100 UN - 50 FOLHAS              3   \n",
       "4           5     ESPIRAL 09MM CRISTAL COM 100 UN - 50 FOLHAS              3   \n",
       "5           6       ESPIRAL 09MM PRETO COM 100 UN - 50 FOLHAS              3   \n",
       "6           7     ESPIRAL 12MM CRISTAL COM 100 UN - 70 FOLHAS              3   \n",
       "7          87            CAPA PP LINE CRISTAL A4 COM 100 UNID             10   \n",
       "8          88        CAPA PP LINE CRISTAL OFICIO COM 100 UNID             10   \n",
       "9          89            CAPA PP LINE CRISTAL A3 COM 100 UNID              5   \n",
       "\n",
       "           COR GRUPO_PRODUTO                   MODELO   CATEGORIA  \n",
       "0        PRETO       ESPIRAL  07MM 100 UN - 25 FOLHAS  SUPRIMENTO  \n",
       "1      CRISTAL       ESPIRAL  07MM 100 UN - 25 FOLHAS  SUPRIMENTO  \n",
       "2   AZUL ROYAL       ESPIRAL  07MM 100 UN - 25 FOLHAS  SUPRIMENTO  \n",
       "3   AZUL ROYAL       ESPIRAL  09MM 100 UN - 50 FOLHAS  SUPRIMENTO  \n",
       "4      CRISTAL       ESPIRAL  09MM 100 UN - 50 FOLHAS  SUPRIMENTO  \n",
       "5        PRETO       ESPIRAL  09MM 100 UN - 50 FOLHAS  SUPRIMENTO  \n",
       "6      CRISTAL       ESPIRAL  12MM 100 UN - 70 FOLHAS  SUPRIMENTO  \n",
       "7      CRISTAL       CAPA PP         LINE A4 100 UNID  SUPRIMENTO  \n",
       "8      CRISTAL       CAPA PP     LINE OFICIO 100 UNID  SUPRIMENTO  \n",
       "9      CRISTAL       CAPA PP         LINE A3 100 UNID  SUPRIMENTO  "
      ]
     },
     "execution_count": 4,
     "metadata": {},
     "output_type": "execute_result"
    }
   ],
   "source": [
    "df = get_produto().reset_index(drop=True).drop(['PRECO_VENDA', 'CUSTO_TOTAL', 'GANHO_LIQUIDO'], axis=1)\n",
    "#df = add_ith_name([1, 2, 3], df, 'NOME')\n",
    "df.rename(columns={'ID': 'ID_PRODUTO'}, inplace=True)\n",
    "fab = get_fabricante()\n",
    "df = filter_name(df, fab, cores, abb, marcas, models, preposicoes)\n",
    "\n",
    "dict_of_categories = categories\n",
    "df.rename(columns={'NOME_FILTRADO': 'GRUPO_PRODUTO'}, inplace=True)\n",
    "\n",
    "df = detect_category(df, 'GRUPO_PRODUTO', dict_of_categories)\n",
    "#df = cluster_items(df, 'NOME_FILTRADO', list(range(1, 300, 50)), 0)\n",
    "#df = cluster_items(df, 'NOME_FILTRADO', list(range(1, 300, 50)), 80)\n",
    "\n",
    "df.head(10)\n"
   ]
  },
  {
   "cell_type": "markdown",
   "metadata": {},
   "source": [
    "### Distribution of quantity of existing products per category"
   ]
  },
  {
   "cell_type": "code",
   "execution_count": 5,
   "metadata": {},
   "outputs": [
    {
     "data": {
      "application/vnd.plotly.v1+json": {
       "config": {
        "plotlyServerURL": "https://plotly.com"
       },
       "data": [
        {
         "marker": {
          "color": "rgba(100, 159, 237, 1)"
         },
         "type": "bar",
         "x": [
          "SUPRIMENTOS",
          "MATERIAL DE ESCRITORIO",
          "EQUIPAMENTO"
         ],
         "y": [
          1171,
          544,
          352,
          320
         ]
        }
       ],
       "layout": {
        "height": 500,
        "plot_bgcolor": "rgba(0, 0, 0, 0)",
        "template": {
         "data": {
          "bar": [
           {
            "error_x": {
             "color": "#2a3f5f"
            },
            "error_y": {
             "color": "#2a3f5f"
            },
            "marker": {
             "line": {
              "color": "#E5ECF6",
              "width": 0.5
             },
             "pattern": {
              "fillmode": "overlay",
              "size": 10,
              "solidity": 0.2
             }
            },
            "type": "bar"
           }
          ],
          "barpolar": [
           {
            "marker": {
             "line": {
              "color": "#E5ECF6",
              "width": 0.5
             },
             "pattern": {
              "fillmode": "overlay",
              "size": 10,
              "solidity": 0.2
             }
            },
            "type": "barpolar"
           }
          ],
          "carpet": [
           {
            "aaxis": {
             "endlinecolor": "#2a3f5f",
             "gridcolor": "white",
             "linecolor": "white",
             "minorgridcolor": "white",
             "startlinecolor": "#2a3f5f"
            },
            "baxis": {
             "endlinecolor": "#2a3f5f",
             "gridcolor": "white",
             "linecolor": "white",
             "minorgridcolor": "white",
             "startlinecolor": "#2a3f5f"
            },
            "type": "carpet"
           }
          ],
          "choropleth": [
           {
            "colorbar": {
             "outlinewidth": 0,
             "ticks": ""
            },
            "type": "choropleth"
           }
          ],
          "contour": [
           {
            "colorbar": {
             "outlinewidth": 0,
             "ticks": ""
            },
            "colorscale": [
             [
              0,
              "#0d0887"
             ],
             [
              0.1111111111111111,
              "#46039f"
             ],
             [
              0.2222222222222222,
              "#7201a8"
             ],
             [
              0.3333333333333333,
              "#9c179e"
             ],
             [
              0.4444444444444444,
              "#bd3786"
             ],
             [
              0.5555555555555556,
              "#d8576b"
             ],
             [
              0.6666666666666666,
              "#ed7953"
             ],
             [
              0.7777777777777778,
              "#fb9f3a"
             ],
             [
              0.8888888888888888,
              "#fdca26"
             ],
             [
              1,
              "#f0f921"
             ]
            ],
            "type": "contour"
           }
          ],
          "contourcarpet": [
           {
            "colorbar": {
             "outlinewidth": 0,
             "ticks": ""
            },
            "type": "contourcarpet"
           }
          ],
          "heatmap": [
           {
            "colorbar": {
             "outlinewidth": 0,
             "ticks": ""
            },
            "colorscale": [
             [
              0,
              "#0d0887"
             ],
             [
              0.1111111111111111,
              "#46039f"
             ],
             [
              0.2222222222222222,
              "#7201a8"
             ],
             [
              0.3333333333333333,
              "#9c179e"
             ],
             [
              0.4444444444444444,
              "#bd3786"
             ],
             [
              0.5555555555555556,
              "#d8576b"
             ],
             [
              0.6666666666666666,
              "#ed7953"
             ],
             [
              0.7777777777777778,
              "#fb9f3a"
             ],
             [
              0.8888888888888888,
              "#fdca26"
             ],
             [
              1,
              "#f0f921"
             ]
            ],
            "type": "heatmap"
           }
          ],
          "heatmapgl": [
           {
            "colorbar": {
             "outlinewidth": 0,
             "ticks": ""
            },
            "colorscale": [
             [
              0,
              "#0d0887"
             ],
             [
              0.1111111111111111,
              "#46039f"
             ],
             [
              0.2222222222222222,
              "#7201a8"
             ],
             [
              0.3333333333333333,
              "#9c179e"
             ],
             [
              0.4444444444444444,
              "#bd3786"
             ],
             [
              0.5555555555555556,
              "#d8576b"
             ],
             [
              0.6666666666666666,
              "#ed7953"
             ],
             [
              0.7777777777777778,
              "#fb9f3a"
             ],
             [
              0.8888888888888888,
              "#fdca26"
             ],
             [
              1,
              "#f0f921"
             ]
            ],
            "type": "heatmapgl"
           }
          ],
          "histogram": [
           {
            "marker": {
             "pattern": {
              "fillmode": "overlay",
              "size": 10,
              "solidity": 0.2
             }
            },
            "type": "histogram"
           }
          ],
          "histogram2d": [
           {
            "colorbar": {
             "outlinewidth": 0,
             "ticks": ""
            },
            "colorscale": [
             [
              0,
              "#0d0887"
             ],
             [
              0.1111111111111111,
              "#46039f"
             ],
             [
              0.2222222222222222,
              "#7201a8"
             ],
             [
              0.3333333333333333,
              "#9c179e"
             ],
             [
              0.4444444444444444,
              "#bd3786"
             ],
             [
              0.5555555555555556,
              "#d8576b"
             ],
             [
              0.6666666666666666,
              "#ed7953"
             ],
             [
              0.7777777777777778,
              "#fb9f3a"
             ],
             [
              0.8888888888888888,
              "#fdca26"
             ],
             [
              1,
              "#f0f921"
             ]
            ],
            "type": "histogram2d"
           }
          ],
          "histogram2dcontour": [
           {
            "colorbar": {
             "outlinewidth": 0,
             "ticks": ""
            },
            "colorscale": [
             [
              0,
              "#0d0887"
             ],
             [
              0.1111111111111111,
              "#46039f"
             ],
             [
              0.2222222222222222,
              "#7201a8"
             ],
             [
              0.3333333333333333,
              "#9c179e"
             ],
             [
              0.4444444444444444,
              "#bd3786"
             ],
             [
              0.5555555555555556,
              "#d8576b"
             ],
             [
              0.6666666666666666,
              "#ed7953"
             ],
             [
              0.7777777777777778,
              "#fb9f3a"
             ],
             [
              0.8888888888888888,
              "#fdca26"
             ],
             [
              1,
              "#f0f921"
             ]
            ],
            "type": "histogram2dcontour"
           }
          ],
          "mesh3d": [
           {
            "colorbar": {
             "outlinewidth": 0,
             "ticks": ""
            },
            "type": "mesh3d"
           }
          ],
          "parcoords": [
           {
            "line": {
             "colorbar": {
              "outlinewidth": 0,
              "ticks": ""
             }
            },
            "type": "parcoords"
           }
          ],
          "pie": [
           {
            "automargin": true,
            "type": "pie"
           }
          ],
          "scatter": [
           {
            "fillpattern": {
             "fillmode": "overlay",
             "size": 10,
             "solidity": 0.2
            },
            "type": "scatter"
           }
          ],
          "scatter3d": [
           {
            "line": {
             "colorbar": {
              "outlinewidth": 0,
              "ticks": ""
             }
            },
            "marker": {
             "colorbar": {
              "outlinewidth": 0,
              "ticks": ""
             }
            },
            "type": "scatter3d"
           }
          ],
          "scattercarpet": [
           {
            "marker": {
             "colorbar": {
              "outlinewidth": 0,
              "ticks": ""
             }
            },
            "type": "scattercarpet"
           }
          ],
          "scattergeo": [
           {
            "marker": {
             "colorbar": {
              "outlinewidth": 0,
              "ticks": ""
             }
            },
            "type": "scattergeo"
           }
          ],
          "scattergl": [
           {
            "marker": {
             "colorbar": {
              "outlinewidth": 0,
              "ticks": ""
             }
            },
            "type": "scattergl"
           }
          ],
          "scattermapbox": [
           {
            "marker": {
             "colorbar": {
              "outlinewidth": 0,
              "ticks": ""
             }
            },
            "type": "scattermapbox"
           }
          ],
          "scatterpolar": [
           {
            "marker": {
             "colorbar": {
              "outlinewidth": 0,
              "ticks": ""
             }
            },
            "type": "scatterpolar"
           }
          ],
          "scatterpolargl": [
           {
            "marker": {
             "colorbar": {
              "outlinewidth": 0,
              "ticks": ""
             }
            },
            "type": "scatterpolargl"
           }
          ],
          "scatterternary": [
           {
            "marker": {
             "colorbar": {
              "outlinewidth": 0,
              "ticks": ""
             }
            },
            "type": "scatterternary"
           }
          ],
          "surface": [
           {
            "colorbar": {
             "outlinewidth": 0,
             "ticks": ""
            },
            "colorscale": [
             [
              0,
              "#0d0887"
             ],
             [
              0.1111111111111111,
              "#46039f"
             ],
             [
              0.2222222222222222,
              "#7201a8"
             ],
             [
              0.3333333333333333,
              "#9c179e"
             ],
             [
              0.4444444444444444,
              "#bd3786"
             ],
             [
              0.5555555555555556,
              "#d8576b"
             ],
             [
              0.6666666666666666,
              "#ed7953"
             ],
             [
              0.7777777777777778,
              "#fb9f3a"
             ],
             [
              0.8888888888888888,
              "#fdca26"
             ],
             [
              1,
              "#f0f921"
             ]
            ],
            "type": "surface"
           }
          ],
          "table": [
           {
            "cells": {
             "fill": {
              "color": "#EBF0F8"
             },
             "line": {
              "color": "white"
             }
            },
            "header": {
             "fill": {
              "color": "#C8D4E3"
             },
             "line": {
              "color": "white"
             }
            },
            "type": "table"
           }
          ]
         },
         "layout": {
          "annotationdefaults": {
           "arrowcolor": "#2a3f5f",
           "arrowhead": 0,
           "arrowwidth": 1
          },
          "autotypenumbers": "strict",
          "coloraxis": {
           "colorbar": {
            "outlinewidth": 0,
            "ticks": ""
           }
          },
          "colorscale": {
           "diverging": [
            [
             0,
             "#8e0152"
            ],
            [
             0.1,
             "#c51b7d"
            ],
            [
             0.2,
             "#de77ae"
            ],
            [
             0.3,
             "#f1b6da"
            ],
            [
             0.4,
             "#fde0ef"
            ],
            [
             0.5,
             "#f7f7f7"
            ],
            [
             0.6,
             "#e6f5d0"
            ],
            [
             0.7,
             "#b8e186"
            ],
            [
             0.8,
             "#7fbc41"
            ],
            [
             0.9,
             "#4d9221"
            ],
            [
             1,
             "#276419"
            ]
           ],
           "sequential": [
            [
             0,
             "#0d0887"
            ],
            [
             0.1111111111111111,
             "#46039f"
            ],
            [
             0.2222222222222222,
             "#7201a8"
            ],
            [
             0.3333333333333333,
             "#9c179e"
            ],
            [
             0.4444444444444444,
             "#bd3786"
            ],
            [
             0.5555555555555556,
             "#d8576b"
            ],
            [
             0.6666666666666666,
             "#ed7953"
            ],
            [
             0.7777777777777778,
             "#fb9f3a"
            ],
            [
             0.8888888888888888,
             "#fdca26"
            ],
            [
             1,
             "#f0f921"
            ]
           ],
           "sequentialminus": [
            [
             0,
             "#0d0887"
            ],
            [
             0.1111111111111111,
             "#46039f"
            ],
            [
             0.2222222222222222,
             "#7201a8"
            ],
            [
             0.3333333333333333,
             "#9c179e"
            ],
            [
             0.4444444444444444,
             "#bd3786"
            ],
            [
             0.5555555555555556,
             "#d8576b"
            ],
            [
             0.6666666666666666,
             "#ed7953"
            ],
            [
             0.7777777777777778,
             "#fb9f3a"
            ],
            [
             0.8888888888888888,
             "#fdca26"
            ],
            [
             1,
             "#f0f921"
            ]
           ]
          },
          "colorway": [
           "#636efa",
           "#EF553B",
           "#00cc96",
           "#ab63fa",
           "#FFA15A",
           "#19d3f3",
           "#FF6692",
           "#B6E880",
           "#FF97FF",
           "#FECB52"
          ],
          "font": {
           "color": "#2a3f5f"
          },
          "geo": {
           "bgcolor": "white",
           "lakecolor": "white",
           "landcolor": "#E5ECF6",
           "showlakes": true,
           "showland": true,
           "subunitcolor": "white"
          },
          "hoverlabel": {
           "align": "left"
          },
          "hovermode": "closest",
          "mapbox": {
           "style": "light"
          },
          "paper_bgcolor": "white",
          "plot_bgcolor": "#E5ECF6",
          "polar": {
           "angularaxis": {
            "gridcolor": "white",
            "linecolor": "white",
            "ticks": ""
           },
           "bgcolor": "#E5ECF6",
           "radialaxis": {
            "gridcolor": "white",
            "linecolor": "white",
            "ticks": ""
           }
          },
          "scene": {
           "xaxis": {
            "backgroundcolor": "#E5ECF6",
            "gridcolor": "white",
            "gridwidth": 2,
            "linecolor": "white",
            "showbackground": true,
            "ticks": "",
            "zerolinecolor": "white"
           },
           "yaxis": {
            "backgroundcolor": "#E5ECF6",
            "gridcolor": "white",
            "gridwidth": 2,
            "linecolor": "white",
            "showbackground": true,
            "ticks": "",
            "zerolinecolor": "white"
           },
           "zaxis": {
            "backgroundcolor": "#E5ECF6",
            "gridcolor": "white",
            "gridwidth": 2,
            "linecolor": "white",
            "showbackground": true,
            "ticks": "",
            "zerolinecolor": "white"
           }
          },
          "shapedefaults": {
           "line": {
            "color": "#2a3f5f"
           }
          },
          "ternary": {
           "aaxis": {
            "gridcolor": "white",
            "linecolor": "white",
            "ticks": ""
           },
           "baxis": {
            "gridcolor": "white",
            "linecolor": "white",
            "ticks": ""
           },
           "bgcolor": "#E5ECF6",
           "caxis": {
            "gridcolor": "white",
            "linecolor": "white",
            "ticks": ""
           }
          },
          "title": {
           "x": 0.05
          },
          "xaxis": {
           "automargin": true,
           "gridcolor": "white",
           "linecolor": "white",
           "ticks": "",
           "title": {
            "standoff": 15
           },
           "zerolinecolor": "white",
           "zerolinewidth": 2
          },
          "yaxis": {
           "automargin": true,
           "gridcolor": "white",
           "linecolor": "white",
           "ticks": "",
           "title": {
            "standoff": 15
           },
           "zerolinecolor": "white",
           "zerolinewidth": 2
          }
         }
        },
        "title": {
         "font": {
          "size": 18
         },
         "text": "QUANTIDADE DE PRODUTOS POR CATEGORIA"
        },
        "width": 600,
        "xaxis": {
         "title": {
          "standoff": 10,
          "text": "CATEGORIA"
         }
        },
        "yaxis": {
         "title": {
          "text": "# DE PRODUTOS"
         }
        }
       }
      }
     },
     "metadata": {},
     "output_type": "display_data"
    }
   ],
   "source": [
    "count = df['CATEGORIA'].value_counts().to_list()\n",
    "\n",
    "bar = go.Figure(go.Bar(\n",
    "    x=['SUPRIMENTOS', 'MATERIAL DE ESCRITORIO', 'EQUIPAMENTO'],\n",
    "    y=count,\n",
    "    marker=dict(color= 'rgba(100, 159, 237, 1)')))\n",
    "\n",
    "bar.layout.update(title=dict(text=\"QUANTIDADE DE PRODUTOS POR CATEGORIA\"), title_font=dict(size=18),\n",
    "                  plot_bgcolor='rgba(0, 0, 0, 0)',\n",
    "                  xaxis=dict(title=\"CATEGORIA\", title_standoff=10),\n",
    "                  yaxis=dict(title=\"# DE PRODUTOS\"),\n",
    "                  width = 600, height=500)\n",
    "bar.show()"
   ]
  },
  {
   "cell_type": "markdown",
   "metadata": {},
   "source": [
    "## Clustering products"
   ]
  },
  {
   "cell_type": "markdown",
   "metadata": {},
   "source": [
    "### Clustering products by their selling rank"
   ]
  },
  {
   "cell_type": "markdown",
   "metadata": {},
   "source": [
    "RETRIEVE DATA"
   ]
  },
  {
   "cell_type": "code",
   "execution_count": 6,
   "metadata": {},
   "outputs": [],
   "source": [
    "# RETRIEVE TABLE SAIDA\n",
    "df_saida = get_saida().reset_index(drop=True)\n",
    "\n",
    "# RENAME COLUMN ID TO ID_SAIDA FOR BETTER DISCERNMENT \n",
    "df_saida.rename(columns={'ID': 'ID_SAIDA'}, inplace=True)\n",
    "\n",
    "# SORT VALUES IN DESCENDING ORDER TO GET THE LAST DATE OF SELLING\n",
    "df_saida = df_saida.sort_values(by='DATA', ascending=False)\n",
    "last_sell = df_saida.sort_values(by='DATA', ascending=False).iloc[0]['DATA']\n",
    "\n",
    "# RETRIEVE TABLE SAIDA_PRODUTO\n",
    "df_saida_produto = get_saida_produto().reset_index(drop=True)\n",
    "\n",
    "# RENAME COLUMN ID TO ID_SAIDAPRODUTO FOR BETTER DISCERNMENT\n",
    "df_saida_produto.rename(columns={'ID': 'ID_SAIDAPRODUTO'}, inplace=True)"
   ]
  },
  {
   "cell_type": "markdown",
   "metadata": {},
   "source": [
    "IMPORT NECESSARY LIBRARIES AND SHAPE THE DATAFRAME"
   ]
  },
  {
   "cell_type": "code",
   "execution_count": 7,
   "metadata": {},
   "outputs": [],
   "source": [
    "# IMPORT NECESSARY LIBRARIES TO DEAL WITH DATETIME DATA\n",
    "from datetime import date\n",
    "\n",
    "#data_i = last_sell - relativedelta(months=months)\n",
    "data_i = date(2017, 1, 1)\n",
    "data_f = last_sell\n",
    "\n",
    "# MERGE TABLES SAIDA AND SAIDAPRODUTO\n",
    "df_vendas = pd.merge(df_saida, df_saida_produto, on='ID_SAIDA', how='outer')\n",
    "\n",
    "# DROP CLIENTE BALCAO SHOPPING'S ROW\n",
    "df_vendas.drop(df_vendas.index[df_vendas['ID_CLIENTE'] == 0], inplace=True)\n",
    "\n",
    "# DROP CANCELED SHOPPINGS\n",
    "df_vendas.drop(df_vendas.index[df_vendas['CANCELADO'] == 'S'], inplace=True)\n",
    "\n",
    "# DROP UNNECESSARY COLUMNS\n",
    "df_vendas = df_vendas.drop(['HORA', 'CANCELADO'], axis=1)\n",
    "\n",
    "# DROP SHOPPINGS FROM BEFORE 2 YEARS AGO\n",
    "df_vendas.drop(df_vendas.index[df_vendas['DATA'] < data_i], inplace=True)\n",
    "\n",
    "# TRANSFORM VALUES IN ID_PRODUTO AND ID_SAIDAPRODUTO TO INTEGERS\n",
    "df_vendas['ID_PRODUTO'] = df_vendas['ID_PRODUTO'].astype(int)\n",
    "df_vendas['ID_SAIDAPRODUTO'] = df_vendas['ID_SAIDAPRODUTO'].astype(int)\n",
    "\n",
    "# CREATE DATAFRAME FOR TIMEFRAME SELLING ANALYSIS\n",
    "df_vendas = pd.merge(df_vendas, df, on='ID_PRODUTO', how='outer')\n",
    "df_vendas = df_vendas.dropna().reset_index(drop=True)\n",
    "#df_vendas = df_vendas[['NOME', 'GRUPO_PRODUTO', 'QUANT', 'ID_PRODUTO', 'CATEGORIA', 'PRECO', 'TOTAL']].reset_index(drop=True)\n",
    "df_vendas = df_vendas.drop(['ID_SAIDA', 'ID_CLIENTE', 'TOTALPRODUTOS', 'ID_SAIDAPRODUTO','PRECO', 'ID_FABRICANTE', 'MODELO'], axis=1)"
   ]
  },
  {
   "cell_type": "code",
   "execution_count": 8,
   "metadata": {},
   "outputs": [
    {
     "data": {
      "text/html": [
       "<div>\n",
       "<style scoped>\n",
       "    .dataframe tbody tr th:only-of-type {\n",
       "        vertical-align: middle;\n",
       "    }\n",
       "\n",
       "    .dataframe tbody tr th {\n",
       "        vertical-align: top;\n",
       "    }\n",
       "\n",
       "    .dataframe thead th {\n",
       "        text-align: right;\n",
       "    }\n",
       "</style>\n",
       "<table border=\"1\" class=\"dataframe\">\n",
       "  <thead>\n",
       "    <tr style=\"text-align: right;\">\n",
       "      <th></th>\n",
       "      <th>DATA</th>\n",
       "      <th>ID_PRODUTO</th>\n",
       "      <th>QUANT</th>\n",
       "      <th>TOTAL</th>\n",
       "      <th>NOME</th>\n",
       "      <th>COR</th>\n",
       "      <th>GRUPO_PRODUTO</th>\n",
       "      <th>CATEGORIA</th>\n",
       "    </tr>\n",
       "  </thead>\n",
       "  <tbody>\n",
       "    <tr>\n",
       "      <th>0</th>\n",
       "      <td>2023-05-17</td>\n",
       "      <td>5</td>\n",
       "      <td>1</td>\n",
       "      <td>25.85</td>\n",
       "      <td>ESPIRAL 09MM CRISTAL COM 100 UN - 50 FOLHAS</td>\n",
       "      <td>CRISTAL</td>\n",
       "      <td>ESPIRAL</td>\n",
       "      <td>SUPRIMENTO</td>\n",
       "    </tr>\n",
       "    <tr>\n",
       "      <th>1</th>\n",
       "      <td>2023-05-15</td>\n",
       "      <td>5</td>\n",
       "      <td>1</td>\n",
       "      <td>25.45</td>\n",
       "      <td>ESPIRAL 09MM CRISTAL COM 100 UN - 50 FOLHAS</td>\n",
       "      <td>CRISTAL</td>\n",
       "      <td>ESPIRAL</td>\n",
       "      <td>SUPRIMENTO</td>\n",
       "    </tr>\n",
       "    <tr>\n",
       "      <th>2</th>\n",
       "      <td>2023-05-10</td>\n",
       "      <td>5</td>\n",
       "      <td>1</td>\n",
       "      <td>26.5</td>\n",
       "      <td>ESPIRAL 09MM CRISTAL COM 100 UN - 50 FOLHAS</td>\n",
       "      <td>CRISTAL</td>\n",
       "      <td>ESPIRAL</td>\n",
       "      <td>SUPRIMENTO</td>\n",
       "    </tr>\n",
       "    <tr>\n",
       "      <th>3</th>\n",
       "      <td>2023-04-28</td>\n",
       "      <td>5</td>\n",
       "      <td>1</td>\n",
       "      <td>25.04</td>\n",
       "      <td>ESPIRAL 09MM CRISTAL COM 100 UN - 50 FOLHAS</td>\n",
       "      <td>CRISTAL</td>\n",
       "      <td>ESPIRAL</td>\n",
       "      <td>SUPRIMENTO</td>\n",
       "    </tr>\n",
       "    <tr>\n",
       "      <th>4</th>\n",
       "      <td>2023-04-27</td>\n",
       "      <td>5</td>\n",
       "      <td>1</td>\n",
       "      <td>26.5</td>\n",
       "      <td>ESPIRAL 09MM CRISTAL COM 100 UN - 50 FOLHAS</td>\n",
       "      <td>CRISTAL</td>\n",
       "      <td>ESPIRAL</td>\n",
       "      <td>SUPRIMENTO</td>\n",
       "    </tr>\n",
       "    <tr>\n",
       "      <th>...</th>\n",
       "      <td>...</td>\n",
       "      <td>...</td>\n",
       "      <td>...</td>\n",
       "      <td>...</td>\n",
       "      <td>...</td>\n",
       "      <td>...</td>\n",
       "      <td>...</td>\n",
       "      <td>...</td>\n",
       "    </tr>\n",
       "    <tr>\n",
       "      <th>131752</th>\n",
       "      <td>2017-04-04</td>\n",
       "      <td>1143</td>\n",
       "      <td>1</td>\n",
       "      <td>15</td>\n",
       "      <td>TAXA DE ENTREGA</td>\n",
       "      <td></td>\n",
       "      <td>TAXA ENTREGA</td>\n",
       "      <td>None</td>\n",
       "    </tr>\n",
       "    <tr>\n",
       "      <th>131753</th>\n",
       "      <td>2017-04-03</td>\n",
       "      <td>1143</td>\n",
       "      <td>1</td>\n",
       "      <td>15</td>\n",
       "      <td>TAXA DE ENTREGA</td>\n",
       "      <td></td>\n",
       "      <td>TAXA ENTREGA</td>\n",
       "      <td>None</td>\n",
       "    </tr>\n",
       "    <tr>\n",
       "      <th>131754</th>\n",
       "      <td>2017-03-31</td>\n",
       "      <td>455</td>\n",
       "      <td>2</td>\n",
       "      <td>124</td>\n",
       "      <td>TONER BROTHER CART. TN 450/DCP7066 LASER TONER</td>\n",
       "      <td></td>\n",
       "      <td>TONER</td>\n",
       "      <td>SUPRIMENTO</td>\n",
       "    </tr>\n",
       "    <tr>\n",
       "      <th>131755</th>\n",
       "      <td>2017-03-30</td>\n",
       "      <td>1012</td>\n",
       "      <td>1</td>\n",
       "      <td>190</td>\n",
       "      <td>ROLO DE PRESSAO RICOH AF1035/1045 PAULIMAC</td>\n",
       "      <td></td>\n",
       "      <td>ROLO PRESSAO</td>\n",
       "      <td>SUPRIMENTO</td>\n",
       "    </tr>\n",
       "    <tr>\n",
       "      <th>131756</th>\n",
       "      <td>2017-03-29</td>\n",
       "      <td>842</td>\n",
       "      <td>1</td>\n",
       "      <td>90</td>\n",
       "      <td>TONER KYOCERA MITA CART. TK1122 C/ CHIP LASER ...</td>\n",
       "      <td></td>\n",
       "      <td>TONER</td>\n",
       "      <td>SUPRIMENTO</td>\n",
       "    </tr>\n",
       "  </tbody>\n",
       "</table>\n",
       "<p>131757 rows × 8 columns</p>\n",
       "</div>"
      ],
      "text/plain": [
       "              DATA  ID_PRODUTO QUANT  TOTAL  \\\n",
       "0       2023-05-17           5     1  25.85   \n",
       "1       2023-05-15           5     1  25.45   \n",
       "2       2023-05-10           5     1   26.5   \n",
       "3       2023-04-28           5     1  25.04   \n",
       "4       2023-04-27           5     1   26.5   \n",
       "...            ...         ...   ...    ...   \n",
       "131752  2017-04-04        1143     1     15   \n",
       "131753  2017-04-03        1143     1     15   \n",
       "131754  2017-03-31         455     2    124   \n",
       "131755  2017-03-30        1012     1    190   \n",
       "131756  2017-03-29         842     1     90   \n",
       "\n",
       "                                                     NOME       COR  \\\n",
       "0             ESPIRAL 09MM CRISTAL COM 100 UN - 50 FOLHAS   CRISTAL   \n",
       "1             ESPIRAL 09MM CRISTAL COM 100 UN - 50 FOLHAS   CRISTAL   \n",
       "2             ESPIRAL 09MM CRISTAL COM 100 UN - 50 FOLHAS   CRISTAL   \n",
       "3             ESPIRAL 09MM CRISTAL COM 100 UN - 50 FOLHAS   CRISTAL   \n",
       "4             ESPIRAL 09MM CRISTAL COM 100 UN - 50 FOLHAS   CRISTAL   \n",
       "...                                                   ...       ...   \n",
       "131752                                    TAXA DE ENTREGA             \n",
       "131753                                    TAXA DE ENTREGA             \n",
       "131754     TONER BROTHER CART. TN 450/DCP7066 LASER TONER             \n",
       "131755         ROLO DE PRESSAO RICOH AF1035/1045 PAULIMAC             \n",
       "131756  TONER KYOCERA MITA CART. TK1122 C/ CHIP LASER ...             \n",
       "\n",
       "       GRUPO_PRODUTO   CATEGORIA  \n",
       "0            ESPIRAL  SUPRIMENTO  \n",
       "1            ESPIRAL  SUPRIMENTO  \n",
       "2            ESPIRAL  SUPRIMENTO  \n",
       "3            ESPIRAL  SUPRIMENTO  \n",
       "4            ESPIRAL  SUPRIMENTO  \n",
       "...              ...         ...  \n",
       "131752  TAXA ENTREGA        None  \n",
       "131753  TAXA ENTREGA        None  \n",
       "131754         TONER  SUPRIMENTO  \n",
       "131755  ROLO PRESSAO  SUPRIMENTO  \n",
       "131756         TONER  SUPRIMENTO  \n",
       "\n",
       "[131757 rows x 8 columns]"
      ]
     },
     "execution_count": 8,
     "metadata": {},
     "output_type": "execute_result"
    }
   ],
   "source": [
    "df_vendas"
   ]
  },
  {
   "cell_type": "markdown",
   "metadata": {},
   "source": [
    "### Produtos mais vendidos"
   ]
  },
  {
   "cell_type": "code",
   "execution_count": 9,
   "metadata": {},
   "outputs": [],
   "source": [
    "dict_weekdays = {1: 'Monday', 2: 'Tuesday', 3: 'Wednesday', 4: 'Thursday', 5: 'Friday'}"
   ]
  },
  {
   "cell_type": "code",
   "execution_count": 10,
   "metadata": {},
   "outputs": [],
   "source": [
    "# DEFINE TIME PERIOD TO BE CONSIDERED IN OUR ANALYSIS\n",
    "from dateutil.relativedelta import relativedelta\n",
    "\n",
    "initial_date = date(2017, 1, 1)\n",
    "final_date = date(2023, 5, 17)\n",
    "\n",
    "time_step = final_date - initial_date\n",
    "time_difference = relativedelta(final_date, initial_date)\n",
    "\n",
    "diff_months = time_difference.years * 12 + time_difference.months\n",
    "diff_days = time_step.days\n",
    "diff_weeks = diff_days//7\n",
    "\n",
    "step = 'week'\n",
    "years = 2\n",
    "month_intervals = list(range(diff_months, -1, -1))\n",
    "week_intervals = list(range(years*72, -1, -1))\n",
    "day_intervals = list(range(diff_days, -1, -1))\n",
    "last_sell = df_vendas.sort_values(by='DATA', ascending=False).iloc[0]['DATA']\n",
    "df_vendas = define_time_periods(df_vendas, last_sell, week_intervals, step)"
   ]
  },
  {
   "cell_type": "markdown",
   "metadata": {},
   "source": [
    "### In the last two years"
   ]
  },
  {
   "cell_type": "code",
   "execution_count": 11,
   "metadata": {},
   "outputs": [
    {
     "data": {
      "application/vnd.plotly.v1+json": {
       "config": {
        "plotlyServerURL": "https://plotly.com"
       },
       "data": [
        {
         "marker": {
          "color": "rgba(100, 159, 237, 1)"
         },
         "showlegend": false,
         "type": "bar",
         "x": [
          "ESPIRAL",
          "POLASEAL",
          "CAPA PP",
          "TONER",
          "FITA ADESIVA TRANSPARENTE",
          "CORDAO CRACHA",
          "GARRA",
          "CLIPS CRACHA LEITOSO",
          "CARRIER",
          "PROTETOR CRACHA"
         ],
         "xaxis": "x",
         "y": [
          13222,
          11933,
          7506,
          4012,
          2430,
          2418,
          2031,
          1989,
          1984,
          1077,
          1020,
          1015,
          851,
          799,
          700,
          631,
          627,
          592,
          520,
          472,
          455,
          427,
          426,
          407,
          382,
          379,
          377,
          370,
          362,
          314,
          269,
          255,
          254,
          251,
          201,
          197,
          187,
          177,
          176,
          173,
          167,
          165,
          148,
          141,
          135,
          132,
          126,
          122,
          121,
          118,
          111,
          109,
          109,
          109,
          101,
          94,
          93,
          88,
          82,
          82,
          75,
          72,
          70,
          69,
          68,
          66,
          66,
          65,
          64,
          60,
          59,
          57,
          57,
          50,
          48,
          48,
          46,
          46,
          39,
          37,
          37,
          37,
          36,
          36,
          35,
          35,
          34,
          34,
          33,
          32,
          32,
          32,
          31,
          31,
          31,
          30,
          30,
          29,
          29,
          29,
          29,
          29,
          28,
          28,
          27,
          26,
          25,
          25,
          25,
          24,
          24,
          23,
          23,
          23,
          22,
          22,
          21,
          21,
          21,
          21,
          21,
          21,
          20,
          20,
          20,
          20,
          19,
          19,
          19,
          18,
          18,
          18,
          17,
          17,
          17,
          17,
          16,
          16,
          15,
          15,
          15,
          15,
          14,
          14,
          14,
          14,
          13,
          13,
          13,
          12,
          12,
          12,
          12,
          12,
          12,
          12,
          11,
          11,
          11,
          11,
          11,
          11,
          10,
          10,
          10,
          10,
          10,
          10,
          10,
          10,
          10,
          10,
          10,
          10,
          9,
          9,
          9,
          9,
          9,
          9,
          8,
          8,
          8,
          8,
          8,
          8,
          8,
          8,
          8,
          7,
          7,
          7,
          7,
          7,
          7,
          7,
          7,
          6,
          6,
          6,
          6,
          6,
          6,
          6,
          6,
          6,
          6,
          6,
          6,
          6,
          6,
          6,
          6,
          6,
          6,
          6,
          5,
          5,
          5,
          5,
          5,
          5,
          5,
          5,
          5,
          5,
          5,
          5,
          5,
          5,
          5,
          5,
          5,
          5,
          5,
          5,
          5,
          4,
          4,
          4,
          4,
          4,
          4,
          4,
          4,
          4,
          4,
          4,
          4,
          4,
          4,
          4,
          4,
          4,
          4,
          4,
          4,
          4,
          4,
          3,
          3,
          3,
          3,
          3,
          3,
          3,
          3,
          3,
          3,
          3,
          3,
          3,
          3,
          3,
          3,
          3,
          3,
          3,
          3,
          3,
          3,
          3,
          3,
          2,
          2,
          2,
          2,
          2,
          2,
          2,
          2,
          2,
          2,
          2,
          2,
          2,
          2,
          2,
          2,
          2,
          2,
          2,
          2,
          2,
          2,
          2,
          2,
          2,
          2,
          2,
          2,
          2,
          2,
          2,
          2,
          2,
          2,
          2,
          2,
          2,
          2,
          2,
          2,
          2,
          2,
          2,
          2,
          2,
          2,
          2,
          2,
          2,
          2,
          2,
          2,
          2,
          1,
          1,
          1,
          1,
          1,
          1,
          1,
          1,
          1,
          1,
          1,
          1,
          1,
          1,
          1,
          1,
          1,
          1,
          1,
          1,
          1,
          1,
          1,
          1,
          1,
          1,
          1,
          1,
          1,
          1,
          1,
          1,
          1,
          1,
          1,
          1,
          1,
          1,
          1,
          1,
          1,
          1,
          1,
          1,
          1,
          1,
          1,
          1,
          1,
          1,
          1,
          1,
          1,
          1,
          1,
          1,
          1,
          1,
          1,
          1,
          1,
          1,
          1,
          1,
          1,
          1,
          1,
          1,
          1,
          1,
          1,
          1,
          1,
          1,
          1,
          1,
          1,
          1,
          1,
          1,
          1,
          1,
          1,
          1,
          1,
          1,
          1,
          1,
          1,
          1,
          1,
          1,
          1
         ],
         "yaxis": "y"
        },
        {
         "marker": {
          "color": "rgb(114, 172, 77)"
         },
         "showlegend": false,
         "type": "bar",
         "x": [
          "POLASEAL",
          "TONER",
          "GARRA",
          "ESPIRAL",
          "CAPA PP",
          "PLASTIFICADORA",
          "ENCADERNADORA",
          "CLIPS CRACHA LEITOSO",
          "CORDAO CRACHA",
          "PROTETOR CRACHA"
         ],
         "xaxis": "x2",
         "y": [
          711967.72,
          463143.9,
          435331.97,
          379270.09,
          336786.74,
          201678.71,
          102922.96,
          98759.78,
          87564.4,
          86194.67,
          75118.12,
          48693.38,
          47351.24,
          40375.98,
          36874.16,
          36473.22,
          34220.2,
          29887.29,
          29812.63,
          29411.99,
          28922.77,
          25874.56,
          25493.37,
          24760.59,
          24702.69,
          22484.29,
          22294.44,
          17340.64,
          15384.84,
          15047.14,
          12947.27,
          12590.32,
          12511.75,
          11763.25,
          11616.9,
          11011.47,
          10689.87,
          10098.09,
          9253.05,
          9251.12,
          8673.11,
          8606.42,
          8468.87,
          7980.87,
          7737.14,
          7189.02,
          6761.33,
          6380.43,
          6351.52,
          6196.37,
          5957.98,
          5720.41,
          5512,
          5244.56,
          5196.38,
          5128.15,
          5114.58,
          5104.44,
          4958.74,
          4941.22,
          4888.88,
          4731.04,
          4715.11,
          4550,
          4499.02,
          4417.89,
          4270,
          4133.54,
          3687.21,
          3669.31,
          3646.59,
          3454.48,
          3417.17,
          3280,
          3209.65,
          3177.03,
          3004.62,
          2999,
          2951.94,
          2858.39,
          2738.71,
          2655.07,
          2629.12,
          2487.58,
          2428.7,
          2350.78,
          2223.22,
          2200,
          2150,
          2100,
          1800,
          1780,
          1730,
          1702.51,
          1667.65,
          1615.74,
          1600.29,
          1600,
          1577.9,
          1575.14,
          1574.83,
          1549.41,
          1543.77,
          1483.11,
          1480.15,
          1452.87,
          1425.65,
          1340,
          1301.77,
          1286.18,
          1278.37,
          1161.91,
          1147.65,
          1140.53,
          1131.04,
          1123.31,
          1097.02,
          1090,
          1070,
          1012.57,
          1000,
          971.27,
          965.64,
          961.06,
          952.6,
          944.04,
          932.05,
          930,
          900,
          900,
          900,
          895,
          870,
          850,
          819.1,
          807.9,
          807.23,
          800,
          800,
          780,
          750.71,
          722.39,
          720,
          700,
          698.06,
          689.74,
          688.77,
          686.07,
          650,
          643.6,
          636.9,
          620,
          619.05,
          600,
          600,
          590,
          549.39,
          547.29,
          533.25,
          525.24,
          520.93,
          491.46,
          490,
          490,
          483.97,
          478.11,
          477.3,
          470,
          455.22,
          450,
          450,
          450,
          449.87,
          449.61,
          449.39,
          435.26,
          423.05,
          420.58,
          417.49,
          411.45,
          392.07,
          380.34,
          380,
          379.98,
          379.77,
          369,
          366.38,
          360.82,
          360,
          355,
          353.21,
          350.39,
          340,
          336.62,
          332,
          330.81,
          330.24,
          323.82,
          319.04,
          317.49,
          312.05,
          305.09,
          300,
          297.88,
          295,
          294.61,
          290,
          290,
          289,
          287.37,
          282.49,
          281.82,
          280,
          280,
          280,
          273.25,
          270,
          265.5,
          253.33,
          250,
          241.02,
          240,
          240,
          229.33,
          225.25,
          220.5,
          218,
          211.12,
          210.89,
          208.47,
          204.23,
          200,
          198.52,
          192,
          189.64,
          186.63,
          184,
          182,
          175,
          174,
          172.9,
          171.79,
          171.54,
          170,
          170,
          168.3,
          167.65,
          167.25,
          164.99,
          160,
          160,
          160,
          157,
          153,
          150,
          150,
          150,
          149.67,
          148,
          144,
          143.2,
          140,
          139.47,
          135.08,
          132.5,
          131.5,
          130,
          128.18,
          126.49,
          123.75,
          120,
          120,
          120,
          120,
          120,
          115,
          110.08,
          110,
          110,
          110,
          107.26,
          105,
          105,
          103,
          100,
          100,
          100,
          100,
          100,
          98.47,
          96,
          95,
          93.5,
          93,
          90,
          85,
          82.88,
          81.75,
          80.07,
          80,
          80,
          80,
          80,
          80,
          80,
          79.5,
          79.07,
          77.74,
          75,
          74.82,
          72,
          70,
          68.24,
          67.5,
          64.46,
          64,
          62.54,
          62.4,
          62.13,
          61.24,
          61,
          60,
          60,
          60,
          60,
          60,
          58,
          57.75,
          56,
          54,
          53.13,
          52.63,
          52,
          50.43,
          50,
          50,
          50,
          50,
          50,
          48.68,
          48,
          48,
          48,
          48,
          48,
          47,
          45,
          45,
          44.86,
          44,
          44,
          44,
          44,
          40,
          40,
          40,
          40,
          39.3,
          36.25,
          35.2,
          35,
          34.27,
          32.42,
          32,
          31.42,
          31,
          30.25,
          30,
          30,
          30,
          30,
          28.95,
          28,
          28,
          28,
          27,
          27,
          25.2,
          25,
          24.36,
          24,
          23,
          22,
          22,
          21.65,
          21.5,
          20,
          20,
          19.5,
          19.2,
          19,
          17,
          16.99,
          15.58,
          15.23,
          15,
          15,
          15,
          15,
          15,
          12,
          11.83,
          11.5,
          11,
          10,
          10,
          10,
          10,
          10,
          9,
          8.99,
          8,
          8,
          7,
          6.5,
          6.5,
          6.49,
          6,
          5.73,
          5.54,
          4.5,
          4.5,
          4.5,
          4,
          3.5,
          3.5,
          3.5,
          2,
          0
         ],
         "yaxis": "y2"
        }
       ],
       "layout": {
        "annotations": [
         {
          "font": {
           "color": "black",
           "size": 12
          },
          "showarrow": false,
          "text": "<span style=\"color:rgba(100, 159, 237, 1);\"># OF ITEMS</span> PER PRODUCT TYPE",
          "x": -0.02,
          "xref": "paper",
          "y": 1.15,
          "yref": "paper"
         },
         {
          "font": {
           "color": "black",
           "size": 12
          },
          "showarrow": false,
          "text": "<span style=\"color:rgb(114, 172, 77);\">REVENUE</span> PER PRODUCT TYPE",
          "x": 0.7,
          "xref": "paper",
          "y": 1.15,
          "yref": "paper"
         }
        ],
        "height": 500,
        "plot_bgcolor": "rgba(0, 0, 0, 0)",
        "template": {
         "data": {
          "bar": [
           {
            "error_x": {
             "color": "#2a3f5f"
            },
            "error_y": {
             "color": "#2a3f5f"
            },
            "marker": {
             "line": {
              "color": "#E5ECF6",
              "width": 0.5
             },
             "pattern": {
              "fillmode": "overlay",
              "size": 10,
              "solidity": 0.2
             }
            },
            "type": "bar"
           }
          ],
          "barpolar": [
           {
            "marker": {
             "line": {
              "color": "#E5ECF6",
              "width": 0.5
             },
             "pattern": {
              "fillmode": "overlay",
              "size": 10,
              "solidity": 0.2
             }
            },
            "type": "barpolar"
           }
          ],
          "carpet": [
           {
            "aaxis": {
             "endlinecolor": "#2a3f5f",
             "gridcolor": "white",
             "linecolor": "white",
             "minorgridcolor": "white",
             "startlinecolor": "#2a3f5f"
            },
            "baxis": {
             "endlinecolor": "#2a3f5f",
             "gridcolor": "white",
             "linecolor": "white",
             "minorgridcolor": "white",
             "startlinecolor": "#2a3f5f"
            },
            "type": "carpet"
           }
          ],
          "choropleth": [
           {
            "colorbar": {
             "outlinewidth": 0,
             "ticks": ""
            },
            "type": "choropleth"
           }
          ],
          "contour": [
           {
            "colorbar": {
             "outlinewidth": 0,
             "ticks": ""
            },
            "colorscale": [
             [
              0,
              "#0d0887"
             ],
             [
              0.1111111111111111,
              "#46039f"
             ],
             [
              0.2222222222222222,
              "#7201a8"
             ],
             [
              0.3333333333333333,
              "#9c179e"
             ],
             [
              0.4444444444444444,
              "#bd3786"
             ],
             [
              0.5555555555555556,
              "#d8576b"
             ],
             [
              0.6666666666666666,
              "#ed7953"
             ],
             [
              0.7777777777777778,
              "#fb9f3a"
             ],
             [
              0.8888888888888888,
              "#fdca26"
             ],
             [
              1,
              "#f0f921"
             ]
            ],
            "type": "contour"
           }
          ],
          "contourcarpet": [
           {
            "colorbar": {
             "outlinewidth": 0,
             "ticks": ""
            },
            "type": "contourcarpet"
           }
          ],
          "heatmap": [
           {
            "colorbar": {
             "outlinewidth": 0,
             "ticks": ""
            },
            "colorscale": [
             [
              0,
              "#0d0887"
             ],
             [
              0.1111111111111111,
              "#46039f"
             ],
             [
              0.2222222222222222,
              "#7201a8"
             ],
             [
              0.3333333333333333,
              "#9c179e"
             ],
             [
              0.4444444444444444,
              "#bd3786"
             ],
             [
              0.5555555555555556,
              "#d8576b"
             ],
             [
              0.6666666666666666,
              "#ed7953"
             ],
             [
              0.7777777777777778,
              "#fb9f3a"
             ],
             [
              0.8888888888888888,
              "#fdca26"
             ],
             [
              1,
              "#f0f921"
             ]
            ],
            "type": "heatmap"
           }
          ],
          "heatmapgl": [
           {
            "colorbar": {
             "outlinewidth": 0,
             "ticks": ""
            },
            "colorscale": [
             [
              0,
              "#0d0887"
             ],
             [
              0.1111111111111111,
              "#46039f"
             ],
             [
              0.2222222222222222,
              "#7201a8"
             ],
             [
              0.3333333333333333,
              "#9c179e"
             ],
             [
              0.4444444444444444,
              "#bd3786"
             ],
             [
              0.5555555555555556,
              "#d8576b"
             ],
             [
              0.6666666666666666,
              "#ed7953"
             ],
             [
              0.7777777777777778,
              "#fb9f3a"
             ],
             [
              0.8888888888888888,
              "#fdca26"
             ],
             [
              1,
              "#f0f921"
             ]
            ],
            "type": "heatmapgl"
           }
          ],
          "histogram": [
           {
            "marker": {
             "pattern": {
              "fillmode": "overlay",
              "size": 10,
              "solidity": 0.2
             }
            },
            "type": "histogram"
           }
          ],
          "histogram2d": [
           {
            "colorbar": {
             "outlinewidth": 0,
             "ticks": ""
            },
            "colorscale": [
             [
              0,
              "#0d0887"
             ],
             [
              0.1111111111111111,
              "#46039f"
             ],
             [
              0.2222222222222222,
              "#7201a8"
             ],
             [
              0.3333333333333333,
              "#9c179e"
             ],
             [
              0.4444444444444444,
              "#bd3786"
             ],
             [
              0.5555555555555556,
              "#d8576b"
             ],
             [
              0.6666666666666666,
              "#ed7953"
             ],
             [
              0.7777777777777778,
              "#fb9f3a"
             ],
             [
              0.8888888888888888,
              "#fdca26"
             ],
             [
              1,
              "#f0f921"
             ]
            ],
            "type": "histogram2d"
           }
          ],
          "histogram2dcontour": [
           {
            "colorbar": {
             "outlinewidth": 0,
             "ticks": ""
            },
            "colorscale": [
             [
              0,
              "#0d0887"
             ],
             [
              0.1111111111111111,
              "#46039f"
             ],
             [
              0.2222222222222222,
              "#7201a8"
             ],
             [
              0.3333333333333333,
              "#9c179e"
             ],
             [
              0.4444444444444444,
              "#bd3786"
             ],
             [
              0.5555555555555556,
              "#d8576b"
             ],
             [
              0.6666666666666666,
              "#ed7953"
             ],
             [
              0.7777777777777778,
              "#fb9f3a"
             ],
             [
              0.8888888888888888,
              "#fdca26"
             ],
             [
              1,
              "#f0f921"
             ]
            ],
            "type": "histogram2dcontour"
           }
          ],
          "mesh3d": [
           {
            "colorbar": {
             "outlinewidth": 0,
             "ticks": ""
            },
            "type": "mesh3d"
           }
          ],
          "parcoords": [
           {
            "line": {
             "colorbar": {
              "outlinewidth": 0,
              "ticks": ""
             }
            },
            "type": "parcoords"
           }
          ],
          "pie": [
           {
            "automargin": true,
            "type": "pie"
           }
          ],
          "scatter": [
           {
            "fillpattern": {
             "fillmode": "overlay",
             "size": 10,
             "solidity": 0.2
            },
            "type": "scatter"
           }
          ],
          "scatter3d": [
           {
            "line": {
             "colorbar": {
              "outlinewidth": 0,
              "ticks": ""
             }
            },
            "marker": {
             "colorbar": {
              "outlinewidth": 0,
              "ticks": ""
             }
            },
            "type": "scatter3d"
           }
          ],
          "scattercarpet": [
           {
            "marker": {
             "colorbar": {
              "outlinewidth": 0,
              "ticks": ""
             }
            },
            "type": "scattercarpet"
           }
          ],
          "scattergeo": [
           {
            "marker": {
             "colorbar": {
              "outlinewidth": 0,
              "ticks": ""
             }
            },
            "type": "scattergeo"
           }
          ],
          "scattergl": [
           {
            "marker": {
             "colorbar": {
              "outlinewidth": 0,
              "ticks": ""
             }
            },
            "type": "scattergl"
           }
          ],
          "scattermapbox": [
           {
            "marker": {
             "colorbar": {
              "outlinewidth": 0,
              "ticks": ""
             }
            },
            "type": "scattermapbox"
           }
          ],
          "scatterpolar": [
           {
            "marker": {
             "colorbar": {
              "outlinewidth": 0,
              "ticks": ""
             }
            },
            "type": "scatterpolar"
           }
          ],
          "scatterpolargl": [
           {
            "marker": {
             "colorbar": {
              "outlinewidth": 0,
              "ticks": ""
             }
            },
            "type": "scatterpolargl"
           }
          ],
          "scatterternary": [
           {
            "marker": {
             "colorbar": {
              "outlinewidth": 0,
              "ticks": ""
             }
            },
            "type": "scatterternary"
           }
          ],
          "surface": [
           {
            "colorbar": {
             "outlinewidth": 0,
             "ticks": ""
            },
            "colorscale": [
             [
              0,
              "#0d0887"
             ],
             [
              0.1111111111111111,
              "#46039f"
             ],
             [
              0.2222222222222222,
              "#7201a8"
             ],
             [
              0.3333333333333333,
              "#9c179e"
             ],
             [
              0.4444444444444444,
              "#bd3786"
             ],
             [
              0.5555555555555556,
              "#d8576b"
             ],
             [
              0.6666666666666666,
              "#ed7953"
             ],
             [
              0.7777777777777778,
              "#fb9f3a"
             ],
             [
              0.8888888888888888,
              "#fdca26"
             ],
             [
              1,
              "#f0f921"
             ]
            ],
            "type": "surface"
           }
          ],
          "table": [
           {
            "cells": {
             "fill": {
              "color": "#EBF0F8"
             },
             "line": {
              "color": "white"
             }
            },
            "header": {
             "fill": {
              "color": "#C8D4E3"
             },
             "line": {
              "color": "white"
             }
            },
            "type": "table"
           }
          ]
         },
         "layout": {
          "annotationdefaults": {
           "arrowcolor": "#2a3f5f",
           "arrowhead": 0,
           "arrowwidth": 1
          },
          "autotypenumbers": "strict",
          "coloraxis": {
           "colorbar": {
            "outlinewidth": 0,
            "ticks": ""
           }
          },
          "colorscale": {
           "diverging": [
            [
             0,
             "#8e0152"
            ],
            [
             0.1,
             "#c51b7d"
            ],
            [
             0.2,
             "#de77ae"
            ],
            [
             0.3,
             "#f1b6da"
            ],
            [
             0.4,
             "#fde0ef"
            ],
            [
             0.5,
             "#f7f7f7"
            ],
            [
             0.6,
             "#e6f5d0"
            ],
            [
             0.7,
             "#b8e186"
            ],
            [
             0.8,
             "#7fbc41"
            ],
            [
             0.9,
             "#4d9221"
            ],
            [
             1,
             "#276419"
            ]
           ],
           "sequential": [
            [
             0,
             "#0d0887"
            ],
            [
             0.1111111111111111,
             "#46039f"
            ],
            [
             0.2222222222222222,
             "#7201a8"
            ],
            [
             0.3333333333333333,
             "#9c179e"
            ],
            [
             0.4444444444444444,
             "#bd3786"
            ],
            [
             0.5555555555555556,
             "#d8576b"
            ],
            [
             0.6666666666666666,
             "#ed7953"
            ],
            [
             0.7777777777777778,
             "#fb9f3a"
            ],
            [
             0.8888888888888888,
             "#fdca26"
            ],
            [
             1,
             "#f0f921"
            ]
           ],
           "sequentialminus": [
            [
             0,
             "#0d0887"
            ],
            [
             0.1111111111111111,
             "#46039f"
            ],
            [
             0.2222222222222222,
             "#7201a8"
            ],
            [
             0.3333333333333333,
             "#9c179e"
            ],
            [
             0.4444444444444444,
             "#bd3786"
            ],
            [
             0.5555555555555556,
             "#d8576b"
            ],
            [
             0.6666666666666666,
             "#ed7953"
            ],
            [
             0.7777777777777778,
             "#fb9f3a"
            ],
            [
             0.8888888888888888,
             "#fdca26"
            ],
            [
             1,
             "#f0f921"
            ]
           ]
          },
          "colorway": [
           "#636efa",
           "#EF553B",
           "#00cc96",
           "#ab63fa",
           "#FFA15A",
           "#19d3f3",
           "#FF6692",
           "#B6E880",
           "#FF97FF",
           "#FECB52"
          ],
          "font": {
           "color": "#2a3f5f"
          },
          "geo": {
           "bgcolor": "white",
           "lakecolor": "white",
           "landcolor": "#E5ECF6",
           "showlakes": true,
           "showland": true,
           "subunitcolor": "white"
          },
          "hoverlabel": {
           "align": "left"
          },
          "hovermode": "closest",
          "mapbox": {
           "style": "light"
          },
          "paper_bgcolor": "white",
          "plot_bgcolor": "#E5ECF6",
          "polar": {
           "angularaxis": {
            "gridcolor": "white",
            "linecolor": "white",
            "ticks": ""
           },
           "bgcolor": "#E5ECF6",
           "radialaxis": {
            "gridcolor": "white",
            "linecolor": "white",
            "ticks": ""
           }
          },
          "scene": {
           "xaxis": {
            "backgroundcolor": "#E5ECF6",
            "gridcolor": "white",
            "gridwidth": 2,
            "linecolor": "white",
            "showbackground": true,
            "ticks": "",
            "zerolinecolor": "white"
           },
           "yaxis": {
            "backgroundcolor": "#E5ECF6",
            "gridcolor": "white",
            "gridwidth": 2,
            "linecolor": "white",
            "showbackground": true,
            "ticks": "",
            "zerolinecolor": "white"
           },
           "zaxis": {
            "backgroundcolor": "#E5ECF6",
            "gridcolor": "white",
            "gridwidth": 2,
            "linecolor": "white",
            "showbackground": true,
            "ticks": "",
            "zerolinecolor": "white"
           }
          },
          "shapedefaults": {
           "line": {
            "color": "#2a3f5f"
           }
          },
          "ternary": {
           "aaxis": {
            "gridcolor": "white",
            "linecolor": "white",
            "ticks": ""
           },
           "baxis": {
            "gridcolor": "white",
            "linecolor": "white",
            "ticks": ""
           },
           "bgcolor": "#E5ECF6",
           "caxis": {
            "gridcolor": "white",
            "linecolor": "white",
            "ticks": ""
           }
          },
          "title": {
           "x": 0.05
          },
          "xaxis": {
           "automargin": true,
           "gridcolor": "white",
           "linecolor": "white",
           "ticks": "",
           "title": {
            "standoff": 15
           },
           "zerolinecolor": "white",
           "zerolinewidth": 2
          },
          "yaxis": {
           "automargin": true,
           "gridcolor": "white",
           "linecolor": "white",
           "ticks": "",
           "title": {
            "standoff": 15
           },
           "zerolinecolor": "white",
           "zerolinewidth": 2
          }
         }
        },
        "title": {
         "font": {
          "size": 18
         },
         "text": "TOP 10 SELLING PRODUCTS IN THE LAST TWO YEARS"
        },
        "width": 1000,
        "xaxis": {
         "anchor": "y",
         "domain": [
          0,
          0.45
         ]
        },
        "xaxis2": {
         "anchor": "y2",
         "domain": [
          0.55,
          1
         ]
        },
        "yaxis": {
         "anchor": "x",
         "domain": [
          0,
          1
         ]
        },
        "yaxis2": {
         "anchor": "x2",
         "domain": [
          0,
          1
         ]
        }
       }
      }
     },
     "metadata": {},
     "output_type": "display_data"
    }
   ],
   "source": [
    "produtos_mais_vendidos, df_timeframe = top_n_sales(df, df_vendas, 24,  last_sell)\n",
    "show_top_sales(produtos_mais_vendidos, 'TWO YEARS', 10)"
   ]
  },
  {
   "cell_type": "markdown",
   "metadata": {},
   "source": [
    "## Frequency of sales per product "
   ]
  },
  {
   "cell_type": "markdown",
   "metadata": {},
   "source": [
    "### Polaseal\n",
    "To analyze the frequency of sales per product I will start by analysing the sales of the polaseal, the top source of revenue in the last year"
   ]
  },
  {
   "cell_type": "code",
   "execution_count": 12,
   "metadata": {},
   "outputs": [
    {
     "data": {
      "application/vnd.plotly.v1+json": {
       "config": {
        "plotlyServerURL": "https://plotly.com"
       },
       "data": [
        {
         "marker": {
          "color": "rgb(114, 172, 77)"
         },
         "type": "bar",
         "x": [
          0,
          1,
          2,
          3,
          4,
          5,
          6,
          7,
          8,
          9,
          10,
          11,
          12,
          13,
          14,
          15,
          16,
          17,
          18,
          19,
          20,
          21,
          22,
          23,
          24,
          25,
          26,
          27,
          28,
          29,
          30,
          31,
          32
         ],
         "y": [
          20389,
          8778,
          5424,
          5018,
          3956,
          2403,
          2322,
          1904,
          1675,
          1390,
          1360,
          966,
          875,
          736,
          607,
          575,
          536,
          361,
          299,
          291,
          279,
          191,
          153,
          106,
          83,
          74,
          66,
          49,
          34,
          28,
          12,
          11,
          1
         ]
        }
       ],
       "layout": {
        "height": 500,
        "plot_bgcolor": "rgba(0, 0, 0, 0)",
        "template": {
         "data": {
          "bar": [
           {
            "error_x": {
             "color": "#2a3f5f"
            },
            "error_y": {
             "color": "#2a3f5f"
            },
            "marker": {
             "line": {
              "color": "#E5ECF6",
              "width": 0.5
             },
             "pattern": {
              "fillmode": "overlay",
              "size": 10,
              "solidity": 0.2
             }
            },
            "type": "bar"
           }
          ],
          "barpolar": [
           {
            "marker": {
             "line": {
              "color": "#E5ECF6",
              "width": 0.5
             },
             "pattern": {
              "fillmode": "overlay",
              "size": 10,
              "solidity": 0.2
             }
            },
            "type": "barpolar"
           }
          ],
          "carpet": [
           {
            "aaxis": {
             "endlinecolor": "#2a3f5f",
             "gridcolor": "white",
             "linecolor": "white",
             "minorgridcolor": "white",
             "startlinecolor": "#2a3f5f"
            },
            "baxis": {
             "endlinecolor": "#2a3f5f",
             "gridcolor": "white",
             "linecolor": "white",
             "minorgridcolor": "white",
             "startlinecolor": "#2a3f5f"
            },
            "type": "carpet"
           }
          ],
          "choropleth": [
           {
            "colorbar": {
             "outlinewidth": 0,
             "ticks": ""
            },
            "type": "choropleth"
           }
          ],
          "contour": [
           {
            "colorbar": {
             "outlinewidth": 0,
             "ticks": ""
            },
            "colorscale": [
             [
              0,
              "#0d0887"
             ],
             [
              0.1111111111111111,
              "#46039f"
             ],
             [
              0.2222222222222222,
              "#7201a8"
             ],
             [
              0.3333333333333333,
              "#9c179e"
             ],
             [
              0.4444444444444444,
              "#bd3786"
             ],
             [
              0.5555555555555556,
              "#d8576b"
             ],
             [
              0.6666666666666666,
              "#ed7953"
             ],
             [
              0.7777777777777778,
              "#fb9f3a"
             ],
             [
              0.8888888888888888,
              "#fdca26"
             ],
             [
              1,
              "#f0f921"
             ]
            ],
            "type": "contour"
           }
          ],
          "contourcarpet": [
           {
            "colorbar": {
             "outlinewidth": 0,
             "ticks": ""
            },
            "type": "contourcarpet"
           }
          ],
          "heatmap": [
           {
            "colorbar": {
             "outlinewidth": 0,
             "ticks": ""
            },
            "colorscale": [
             [
              0,
              "#0d0887"
             ],
             [
              0.1111111111111111,
              "#46039f"
             ],
             [
              0.2222222222222222,
              "#7201a8"
             ],
             [
              0.3333333333333333,
              "#9c179e"
             ],
             [
              0.4444444444444444,
              "#bd3786"
             ],
             [
              0.5555555555555556,
              "#d8576b"
             ],
             [
              0.6666666666666666,
              "#ed7953"
             ],
             [
              0.7777777777777778,
              "#fb9f3a"
             ],
             [
              0.8888888888888888,
              "#fdca26"
             ],
             [
              1,
              "#f0f921"
             ]
            ],
            "type": "heatmap"
           }
          ],
          "heatmapgl": [
           {
            "colorbar": {
             "outlinewidth": 0,
             "ticks": ""
            },
            "colorscale": [
             [
              0,
              "#0d0887"
             ],
             [
              0.1111111111111111,
              "#46039f"
             ],
             [
              0.2222222222222222,
              "#7201a8"
             ],
             [
              0.3333333333333333,
              "#9c179e"
             ],
             [
              0.4444444444444444,
              "#bd3786"
             ],
             [
              0.5555555555555556,
              "#d8576b"
             ],
             [
              0.6666666666666666,
              "#ed7953"
             ],
             [
              0.7777777777777778,
              "#fb9f3a"
             ],
             [
              0.8888888888888888,
              "#fdca26"
             ],
             [
              1,
              "#f0f921"
             ]
            ],
            "type": "heatmapgl"
           }
          ],
          "histogram": [
           {
            "marker": {
             "pattern": {
              "fillmode": "overlay",
              "size": 10,
              "solidity": 0.2
             }
            },
            "type": "histogram"
           }
          ],
          "histogram2d": [
           {
            "colorbar": {
             "outlinewidth": 0,
             "ticks": ""
            },
            "colorscale": [
             [
              0,
              "#0d0887"
             ],
             [
              0.1111111111111111,
              "#46039f"
             ],
             [
              0.2222222222222222,
              "#7201a8"
             ],
             [
              0.3333333333333333,
              "#9c179e"
             ],
             [
              0.4444444444444444,
              "#bd3786"
             ],
             [
              0.5555555555555556,
              "#d8576b"
             ],
             [
              0.6666666666666666,
              "#ed7953"
             ],
             [
              0.7777777777777778,
              "#fb9f3a"
             ],
             [
              0.8888888888888888,
              "#fdca26"
             ],
             [
              1,
              "#f0f921"
             ]
            ],
            "type": "histogram2d"
           }
          ],
          "histogram2dcontour": [
           {
            "colorbar": {
             "outlinewidth": 0,
             "ticks": ""
            },
            "colorscale": [
             [
              0,
              "#0d0887"
             ],
             [
              0.1111111111111111,
              "#46039f"
             ],
             [
              0.2222222222222222,
              "#7201a8"
             ],
             [
              0.3333333333333333,
              "#9c179e"
             ],
             [
              0.4444444444444444,
              "#bd3786"
             ],
             [
              0.5555555555555556,
              "#d8576b"
             ],
             [
              0.6666666666666666,
              "#ed7953"
             ],
             [
              0.7777777777777778,
              "#fb9f3a"
             ],
             [
              0.8888888888888888,
              "#fdca26"
             ],
             [
              1,
              "#f0f921"
             ]
            ],
            "type": "histogram2dcontour"
           }
          ],
          "mesh3d": [
           {
            "colorbar": {
             "outlinewidth": 0,
             "ticks": ""
            },
            "type": "mesh3d"
           }
          ],
          "parcoords": [
           {
            "line": {
             "colorbar": {
              "outlinewidth": 0,
              "ticks": ""
             }
            },
            "type": "parcoords"
           }
          ],
          "pie": [
           {
            "automargin": true,
            "type": "pie"
           }
          ],
          "scatter": [
           {
            "fillpattern": {
             "fillmode": "overlay",
             "size": 10,
             "solidity": 0.2
            },
            "type": "scatter"
           }
          ],
          "scatter3d": [
           {
            "line": {
             "colorbar": {
              "outlinewidth": 0,
              "ticks": ""
             }
            },
            "marker": {
             "colorbar": {
              "outlinewidth": 0,
              "ticks": ""
             }
            },
            "type": "scatter3d"
           }
          ],
          "scattercarpet": [
           {
            "marker": {
             "colorbar": {
              "outlinewidth": 0,
              "ticks": ""
             }
            },
            "type": "scattercarpet"
           }
          ],
          "scattergeo": [
           {
            "marker": {
             "colorbar": {
              "outlinewidth": 0,
              "ticks": ""
             }
            },
            "type": "scattergeo"
           }
          ],
          "scattergl": [
           {
            "marker": {
             "colorbar": {
              "outlinewidth": 0,
              "ticks": ""
             }
            },
            "type": "scattergl"
           }
          ],
          "scattermapbox": [
           {
            "marker": {
             "colorbar": {
              "outlinewidth": 0,
              "ticks": ""
             }
            },
            "type": "scattermapbox"
           }
          ],
          "scatterpolar": [
           {
            "marker": {
             "colorbar": {
              "outlinewidth": 0,
              "ticks": ""
             }
            },
            "type": "scatterpolar"
           }
          ],
          "scatterpolargl": [
           {
            "marker": {
             "colorbar": {
              "outlinewidth": 0,
              "ticks": ""
             }
            },
            "type": "scatterpolargl"
           }
          ],
          "scatterternary": [
           {
            "marker": {
             "colorbar": {
              "outlinewidth": 0,
              "ticks": ""
             }
            },
            "type": "scatterternary"
           }
          ],
          "surface": [
           {
            "colorbar": {
             "outlinewidth": 0,
             "ticks": ""
            },
            "colorscale": [
             [
              0,
              "#0d0887"
             ],
             [
              0.1111111111111111,
              "#46039f"
             ],
             [
              0.2222222222222222,
              "#7201a8"
             ],
             [
              0.3333333333333333,
              "#9c179e"
             ],
             [
              0.4444444444444444,
              "#bd3786"
             ],
             [
              0.5555555555555556,
              "#d8576b"
             ],
             [
              0.6666666666666666,
              "#ed7953"
             ],
             [
              0.7777777777777778,
              "#fb9f3a"
             ],
             [
              0.8888888888888888,
              "#fdca26"
             ],
             [
              1,
              "#f0f921"
             ]
            ],
            "type": "surface"
           }
          ],
          "table": [
           {
            "cells": {
             "fill": {
              "color": "#EBF0F8"
             },
             "line": {
              "color": "white"
             }
            },
            "header": {
             "fill": {
              "color": "#C8D4E3"
             },
             "line": {
              "color": "white"
             }
            },
            "type": "table"
           }
          ]
         },
         "layout": {
          "annotationdefaults": {
           "arrowcolor": "#2a3f5f",
           "arrowhead": 0,
           "arrowwidth": 1
          },
          "autotypenumbers": "strict",
          "coloraxis": {
           "colorbar": {
            "outlinewidth": 0,
            "ticks": ""
           }
          },
          "colorscale": {
           "diverging": [
            [
             0,
             "#8e0152"
            ],
            [
             0.1,
             "#c51b7d"
            ],
            [
             0.2,
             "#de77ae"
            ],
            [
             0.3,
             "#f1b6da"
            ],
            [
             0.4,
             "#fde0ef"
            ],
            [
             0.5,
             "#f7f7f7"
            ],
            [
             0.6,
             "#e6f5d0"
            ],
            [
             0.7,
             "#b8e186"
            ],
            [
             0.8,
             "#7fbc41"
            ],
            [
             0.9,
             "#4d9221"
            ],
            [
             1,
             "#276419"
            ]
           ],
           "sequential": [
            [
             0,
             "#0d0887"
            ],
            [
             0.1111111111111111,
             "#46039f"
            ],
            [
             0.2222222222222222,
             "#7201a8"
            ],
            [
             0.3333333333333333,
             "#9c179e"
            ],
            [
             0.4444444444444444,
             "#bd3786"
            ],
            [
             0.5555555555555556,
             "#d8576b"
            ],
            [
             0.6666666666666666,
             "#ed7953"
            ],
            [
             0.7777777777777778,
             "#fb9f3a"
            ],
            [
             0.8888888888888888,
             "#fdca26"
            ],
            [
             1,
             "#f0f921"
            ]
           ],
           "sequentialminus": [
            [
             0,
             "#0d0887"
            ],
            [
             0.1111111111111111,
             "#46039f"
            ],
            [
             0.2222222222222222,
             "#7201a8"
            ],
            [
             0.3333333333333333,
             "#9c179e"
            ],
            [
             0.4444444444444444,
             "#bd3786"
            ],
            [
             0.5555555555555556,
             "#d8576b"
            ],
            [
             0.6666666666666666,
             "#ed7953"
            ],
            [
             0.7777777777777778,
             "#fb9f3a"
            ],
            [
             0.8888888888888888,
             "#fdca26"
            ],
            [
             1,
             "#f0f921"
            ]
           ]
          },
          "colorway": [
           "#636efa",
           "#EF553B",
           "#00cc96",
           "#ab63fa",
           "#FFA15A",
           "#19d3f3",
           "#FF6692",
           "#B6E880",
           "#FF97FF",
           "#FECB52"
          ],
          "font": {
           "color": "#2a3f5f"
          },
          "geo": {
           "bgcolor": "white",
           "lakecolor": "white",
           "landcolor": "#E5ECF6",
           "showlakes": true,
           "showland": true,
           "subunitcolor": "white"
          },
          "hoverlabel": {
           "align": "left"
          },
          "hovermode": "closest",
          "mapbox": {
           "style": "light"
          },
          "paper_bgcolor": "white",
          "plot_bgcolor": "#E5ECF6",
          "polar": {
           "angularaxis": {
            "gridcolor": "white",
            "linecolor": "white",
            "ticks": ""
           },
           "bgcolor": "#E5ECF6",
           "radialaxis": {
            "gridcolor": "white",
            "linecolor": "white",
            "ticks": ""
           }
          },
          "scene": {
           "xaxis": {
            "backgroundcolor": "#E5ECF6",
            "gridcolor": "white",
            "gridwidth": 2,
            "linecolor": "white",
            "showbackground": true,
            "ticks": "",
            "zerolinecolor": "white"
           },
           "yaxis": {
            "backgroundcolor": "#E5ECF6",
            "gridcolor": "white",
            "gridwidth": 2,
            "linecolor": "white",
            "showbackground": true,
            "ticks": "",
            "zerolinecolor": "white"
           },
           "zaxis": {
            "backgroundcolor": "#E5ECF6",
            "gridcolor": "white",
            "gridwidth": 2,
            "linecolor": "white",
            "showbackground": true,
            "ticks": "",
            "zerolinecolor": "white"
           }
          },
          "shapedefaults": {
           "line": {
            "color": "#2a3f5f"
           }
          },
          "ternary": {
           "aaxis": {
            "gridcolor": "white",
            "linecolor": "white",
            "ticks": ""
           },
           "baxis": {
            "gridcolor": "white",
            "linecolor": "white",
            "ticks": ""
           },
           "bgcolor": "#E5ECF6",
           "caxis": {
            "gridcolor": "white",
            "linecolor": "white",
            "ticks": ""
           }
          },
          "title": {
           "x": 0.05
          },
          "xaxis": {
           "automargin": true,
           "gridcolor": "white",
           "linecolor": "white",
           "ticks": "",
           "title": {
            "standoff": 15
           },
           "zerolinecolor": "white",
           "zerolinewidth": 2
          },
          "yaxis": {
           "automargin": true,
           "gridcolor": "white",
           "linecolor": "white",
           "ticks": "",
           "title": {
            "standoff": 15
           },
           "zerolinecolor": "white",
           "zerolinewidth": 2
          }
         }
        },
        "title": {
         "font": {
          "size": 18
         },
         "text": "POLASEAL SALES DISTRIBUTION"
        },
        "width": 600,
        "xaxis": {
         "title": {
          "standoff": 10,
          "text": "POLASEAL TYPE"
         }
        },
        "yaxis": {
         "title": {
          "text": "UNITS SOLD"
         }
        }
       }
      }
     },
     "metadata": {},
     "output_type": "display_data"
    }
   ],
   "source": [
    "df_polaseal = product_over_type(df_vendas, 'POLASEAL')\n",
    "plot_product_over_type_dist(df_vendas, 'POLASEAL')"
   ]
  },
  {
   "cell_type": "code",
   "execution_count": 14,
   "metadata": {},
   "outputs": [
    {
     "name": "stderr",
     "output_type": "stream",
     "text": [
      "c:\\Users\\macvi\\Documents\\AI\\Data Science\\juliana\\descriptive_analysis.py:247: UserWarning:\n",
      "\n",
      "Boolean Series key will be reindexed to match DataFrame index.\n",
      "\n"
     ]
    },
    {
     "ename": "KeyError",
     "evalue": "'year'",
     "output_type": "error",
     "traceback": [
      "\u001b[1;31m---------------------------------------------------------------------------\u001b[0m",
      "\u001b[1;31mKeyError\u001b[0m                                  Traceback (most recent call last)",
      "File \u001b[1;32mc:\\Users\\macvi\\anaconda3\\envs\\class\\Lib\\site-packages\\pandas\\core\\indexes\\base.py:3653\u001b[0m, in \u001b[0;36mIndex.get_loc\u001b[1;34m(self, key)\u001b[0m\n\u001b[0;32m   3652\u001b[0m \u001b[38;5;28;01mtry\u001b[39;00m:\n\u001b[1;32m-> 3653\u001b[0m     \u001b[38;5;28;01mreturn\u001b[39;00m \u001b[38;5;28;43mself\u001b[39;49m\u001b[38;5;241;43m.\u001b[39;49m\u001b[43m_engine\u001b[49m\u001b[38;5;241;43m.\u001b[39;49m\u001b[43mget_loc\u001b[49m\u001b[43m(\u001b[49m\u001b[43mcasted_key\u001b[49m\u001b[43m)\u001b[49m\n\u001b[0;32m   3654\u001b[0m \u001b[38;5;28;01mexcept\u001b[39;00m \u001b[38;5;167;01mKeyError\u001b[39;00m \u001b[38;5;28;01mas\u001b[39;00m err:\n",
      "File \u001b[1;32mc:\\Users\\macvi\\anaconda3\\envs\\class\\Lib\\site-packages\\pandas\\_libs\\index.pyx:147\u001b[0m, in \u001b[0;36mpandas._libs.index.IndexEngine.get_loc\u001b[1;34m()\u001b[0m\n",
      "File \u001b[1;32mc:\\Users\\macvi\\anaconda3\\envs\\class\\Lib\\site-packages\\pandas\\_libs\\index.pyx:176\u001b[0m, in \u001b[0;36mpandas._libs.index.IndexEngine.get_loc\u001b[1;34m()\u001b[0m\n",
      "File \u001b[1;32mpandas\\_libs\\hashtable_class_helper.pxi:7080\u001b[0m, in \u001b[0;36mpandas._libs.hashtable.PyObjectHashTable.get_item\u001b[1;34m()\u001b[0m\n",
      "File \u001b[1;32mpandas\\_libs\\hashtable_class_helper.pxi:7088\u001b[0m, in \u001b[0;36mpandas._libs.hashtable.PyObjectHashTable.get_item\u001b[1;34m()\u001b[0m\n",
      "\u001b[1;31mKeyError\u001b[0m: 'year'",
      "\nThe above exception was the direct cause of the following exception:\n",
      "\u001b[1;31mKeyError\u001b[0m                                  Traceback (most recent call last)",
      "Cell \u001b[1;32mIn[14], line 4\u001b[0m\n\u001b[0;32m      1\u001b[0m product \u001b[38;5;241m=\u001b[39m \u001b[38;5;124m'\u001b[39m\u001b[38;5;124mESPIRAL\u001b[39m\u001b[38;5;124m'\u001b[39m\n\u001b[0;32m      2\u001b[0m step \u001b[38;5;241m=\u001b[39m \u001b[38;5;124m'\u001b[39m\u001b[38;5;124mweek\u001b[39m\u001b[38;5;124m'\u001b[39m\n\u001b[1;32m----> 4\u001b[0m df_product, df_dates \u001b[38;5;241m=\u001b[39m \u001b[43mproduct_over_year\u001b[49m\u001b[43m(\u001b[49m\u001b[43mdf_vendas\u001b[49m\u001b[43m,\u001b[49m\u001b[43m \u001b[49m\u001b[43mproduct\u001b[49m\u001b[43m,\u001b[49m\u001b[43m \u001b[49m\u001b[43mstep\u001b[49m\u001b[43m,\u001b[49m\u001b[43m \u001b[49m\u001b[38;5;124;43m'\u001b[39;49m\u001b[38;5;124;43mPRETO\u001b[39;49m\u001b[38;5;124;43m'\u001b[39;49m\u001b[43m)\u001b[49m\n\u001b[0;32m      5\u001b[0m plot_product_over_year(df_product, product, step)\n",
      "File \u001b[1;32mc:\\Users\\macvi\\Documents\\AI\\Data Science\\juliana\\descriptive_analysis.py:250\u001b[0m, in \u001b[0;36mproduct_over_year\u001b[1;34m(df_vendas, product, step, color)\u001b[0m\n\u001b[0;32m    246\u001b[0m \u001b[38;5;28;01mif\u001b[39;00m color:\n\u001b[0;32m    247\u001b[0m     df_date \u001b[38;5;241m=\u001b[39m df_date[df_vendas[\u001b[38;5;124m'\u001b[39m\u001b[38;5;124mCOR\u001b[39m\u001b[38;5;124m'\u001b[39m]\u001b[38;5;241m==\u001b[39mcolor]\u001b[38;5;241m.\u001b[39mcopy()\u001b[38;5;241m.\u001b[39mreset_index(drop\u001b[38;5;241m=\u001b[39m\u001b[38;5;28;01mTrue\u001b[39;00m)\n\u001b[1;32m--> 250\u001b[0m df_date \u001b[38;5;241m=\u001b[39m \u001b[43mdefine_time\u001b[49m\u001b[43m(\u001b[49m\u001b[43mdf_date\u001b[49m\u001b[43m)\u001b[49m\n\u001b[0;32m    252\u001b[0m \u001b[38;5;28;01mif\u001b[39;00m step \u001b[38;5;241m==\u001b[39m \u001b[38;5;124m'\u001b[39m\u001b[38;5;124mweek\u001b[39m\u001b[38;5;124m'\u001b[39m \u001b[38;5;129;01mor\u001b[39;00m step \u001b[38;5;241m==\u001b[39m \u001b[38;5;124m'\u001b[39m\u001b[38;5;124mmonth\u001b[39m\u001b[38;5;124m'\u001b[39m:\n\u001b[0;32m    253\u001b[0m     step_column_name \u001b[38;5;241m=\u001b[39m \u001b[38;5;124m'\u001b[39m\u001b[38;5;124mlast_day_\u001b[39m\u001b[38;5;124m'\u001b[39m \u001b[38;5;241m+\u001b[39m step\n",
      "File \u001b[1;32mc:\\Users\\macvi\\Documents\\AI\\Data Science\\juliana\\descriptive_analysis.py:231\u001b[0m, in \u001b[0;36mdefine_time\u001b[1;34m(df)\u001b[0m\n\u001b[0;32m    228\u001b[0m     df\u001b[38;5;241m.\u001b[39mloc[i, \u001b[38;5;124m'\u001b[39m\u001b[38;5;124mlast_day_week\u001b[39m\u001b[38;5;124m'\u001b[39m] \u001b[38;5;241m=\u001b[39m data \u001b[38;5;241m+\u001b[39m days_to_friday\n\u001b[0;32m    229\u001b[0m     df\u001b[38;5;241m.\u001b[39mloc[i, \u001b[38;5;124m'\u001b[39m\u001b[38;5;124mlast_day_month\u001b[39m\u001b[38;5;124m'\u001b[39m] \u001b[38;5;241m=\u001b[39m date(data\u001b[38;5;241m.\u001b[39myear, data\u001b[38;5;241m.\u001b[39mmonth, \u001b[38;5;241m1\u001b[39m) \u001b[38;5;241m+\u001b[39m relativedelta(months\u001b[38;5;241m=\u001b[39m\u001b[38;5;241m1\u001b[39m) \u001b[38;5;241m-\u001b[39m timedelta(days\u001b[38;5;241m=\u001b[39m\u001b[38;5;241m1\u001b[39m)\n\u001b[1;32m--> 231\u001b[0m df[\u001b[38;5;124m'\u001b[39m\u001b[38;5;124myear\u001b[39m\u001b[38;5;124m'\u001b[39m] \u001b[38;5;241m=\u001b[39m \u001b[43mdf\u001b[49m\u001b[43m[\u001b[49m\u001b[38;5;124;43m'\u001b[39;49m\u001b[38;5;124;43myear\u001b[39;49m\u001b[38;5;124;43m'\u001b[39;49m\u001b[43m]\u001b[49m\u001b[38;5;241m.\u001b[39mastype(\u001b[38;5;28mint\u001b[39m)\n\u001b[0;32m    232\u001b[0m df[\u001b[38;5;124m'\u001b[39m\u001b[38;5;124mmonth\u001b[39m\u001b[38;5;124m'\u001b[39m] \u001b[38;5;241m=\u001b[39m df[\u001b[38;5;124m'\u001b[39m\u001b[38;5;124mDATA\u001b[39m\u001b[38;5;124m'\u001b[39m]\u001b[38;5;241m.\u001b[39mapply(retrieve_month)\u001b[38;5;241m.\u001b[39mastype(\u001b[38;5;28mint\u001b[39m)\n\u001b[0;32m    233\u001b[0m df[\u001b[38;5;124m'\u001b[39m\u001b[38;5;124mweek\u001b[39m\u001b[38;5;124m'\u001b[39m] \u001b[38;5;241m=\u001b[39m df[\u001b[38;5;124m'\u001b[39m\u001b[38;5;124mweek\u001b[39m\u001b[38;5;124m'\u001b[39m]\u001b[38;5;241m.\u001b[39mastype(\u001b[38;5;28mint\u001b[39m)\n",
      "File \u001b[1;32mc:\\Users\\macvi\\anaconda3\\envs\\class\\Lib\\site-packages\\pandas\\core\\frame.py:3761\u001b[0m, in \u001b[0;36mDataFrame.__getitem__\u001b[1;34m(self, key)\u001b[0m\n\u001b[0;32m   3759\u001b[0m \u001b[38;5;28;01mif\u001b[39;00m \u001b[38;5;28mself\u001b[39m\u001b[38;5;241m.\u001b[39mcolumns\u001b[38;5;241m.\u001b[39mnlevels \u001b[38;5;241m>\u001b[39m \u001b[38;5;241m1\u001b[39m:\n\u001b[0;32m   3760\u001b[0m     \u001b[38;5;28;01mreturn\u001b[39;00m \u001b[38;5;28mself\u001b[39m\u001b[38;5;241m.\u001b[39m_getitem_multilevel(key)\n\u001b[1;32m-> 3761\u001b[0m indexer \u001b[38;5;241m=\u001b[39m \u001b[38;5;28;43mself\u001b[39;49m\u001b[38;5;241;43m.\u001b[39;49m\u001b[43mcolumns\u001b[49m\u001b[38;5;241;43m.\u001b[39;49m\u001b[43mget_loc\u001b[49m\u001b[43m(\u001b[49m\u001b[43mkey\u001b[49m\u001b[43m)\u001b[49m\n\u001b[0;32m   3762\u001b[0m \u001b[38;5;28;01mif\u001b[39;00m is_integer(indexer):\n\u001b[0;32m   3763\u001b[0m     indexer \u001b[38;5;241m=\u001b[39m [indexer]\n",
      "File \u001b[1;32mc:\\Users\\macvi\\anaconda3\\envs\\class\\Lib\\site-packages\\pandas\\core\\indexes\\base.py:3655\u001b[0m, in \u001b[0;36mIndex.get_loc\u001b[1;34m(self, key)\u001b[0m\n\u001b[0;32m   3653\u001b[0m     \u001b[38;5;28;01mreturn\u001b[39;00m \u001b[38;5;28mself\u001b[39m\u001b[38;5;241m.\u001b[39m_engine\u001b[38;5;241m.\u001b[39mget_loc(casted_key)\n\u001b[0;32m   3654\u001b[0m \u001b[38;5;28;01mexcept\u001b[39;00m \u001b[38;5;167;01mKeyError\u001b[39;00m \u001b[38;5;28;01mas\u001b[39;00m err:\n\u001b[1;32m-> 3655\u001b[0m     \u001b[38;5;28;01mraise\u001b[39;00m \u001b[38;5;167;01mKeyError\u001b[39;00m(key) \u001b[38;5;28;01mfrom\u001b[39;00m \u001b[38;5;21;01merr\u001b[39;00m\n\u001b[0;32m   3656\u001b[0m \u001b[38;5;28;01mexcept\u001b[39;00m \u001b[38;5;167;01mTypeError\u001b[39;00m:\n\u001b[0;32m   3657\u001b[0m     \u001b[38;5;66;03m# If we have a listlike key, _check_indexing_error will raise\u001b[39;00m\n\u001b[0;32m   3658\u001b[0m     \u001b[38;5;66;03m#  InvalidIndexError. Otherwise we fall through and re-raise\u001b[39;00m\n\u001b[0;32m   3659\u001b[0m     \u001b[38;5;66;03m#  the TypeError.\u001b[39;00m\n\u001b[0;32m   3660\u001b[0m     \u001b[38;5;28mself\u001b[39m\u001b[38;5;241m.\u001b[39m_check_indexing_error(key)\n",
      "\u001b[1;31mKeyError\u001b[0m: 'year'"
     ]
    }
   ],
   "source": [
    "product = 'ESPIRAL'\n",
    "step = 'week'\n",
    "\n",
    "df_product, df_dates = product_over_year(df_vendas, product, step, 'PRETO')\n",
    "plot_product_over_year(df_product, product, step)"
   ]
  },
  {
   "cell_type": "code",
   "execution_count": 13,
   "metadata": {},
   "outputs": [
    {
     "data": {
      "application/vnd.plotly.v1+json": {
       "config": {
        "plotlyServerURL": "https://plotly.com"
       },
       "data": [
        {
         "line": {
          "color": "rgba(100, 159, 237, 110)",
          "width": 3
         },
         "mode": "lines",
         "type": "scatter",
         "x": [
          "2017-03-31",
          "2017-04-07",
          "2017-04-14",
          "2017-04-21",
          "2017-04-28",
          "2017-05-05",
          "2017-05-12",
          "2017-05-19",
          "2017-05-26",
          "2017-06-02",
          "2017-06-09",
          "2017-06-16",
          "2017-06-23",
          "2017-06-30",
          "2017-07-07",
          "2017-07-14",
          "2017-07-21",
          "2017-07-28",
          "2017-08-04",
          "2017-08-11",
          "2017-08-18",
          "2017-08-25",
          "2017-09-01",
          "2017-09-08",
          "2017-09-15",
          "2017-09-22",
          "2017-09-29",
          "2017-10-06",
          "2017-10-13",
          "2017-10-20",
          "2017-10-27",
          "2017-11-03",
          "2017-11-10",
          "2017-11-17",
          "2017-11-24",
          "2017-12-01",
          "2017-12-08",
          "2017-12-15",
          "2017-12-22",
          "2017-12-29",
          "2018-01-05",
          "2018-01-12",
          "2018-01-19",
          "2018-01-26",
          "2018-02-02",
          "2018-02-09",
          "2018-02-16",
          "2018-02-23",
          "2018-03-02",
          "2018-03-09",
          "2018-03-16",
          "2018-03-23",
          "2018-03-30",
          "2018-04-06",
          "2018-04-13",
          "2018-04-20",
          "2018-04-27",
          "2018-05-04",
          "2018-05-11",
          "2018-05-18",
          "2018-05-25",
          "2018-06-01",
          "2018-06-08",
          "2018-06-15",
          "2018-06-22",
          "2018-06-29",
          "2018-07-06",
          "2018-07-13",
          "2018-07-20",
          "2018-07-27",
          "2018-08-03",
          "2018-08-10",
          "2018-08-17",
          "2018-08-24",
          "2018-08-31",
          "2018-09-07",
          "2018-09-14",
          "2018-09-21",
          "2018-09-28",
          "2018-10-05",
          "2018-10-12",
          "2018-10-19",
          "2018-10-26",
          "2018-11-02",
          "2018-11-09",
          "2018-11-16",
          "2018-11-23",
          "2018-11-30",
          "2018-12-07",
          "2018-12-14",
          "2018-12-21",
          "2018-12-28",
          "2019-01-04",
          "2019-01-11",
          "2019-01-18",
          "2019-01-25",
          "2019-02-01",
          "2019-02-08",
          "2019-02-15",
          "2019-02-22",
          "2019-03-01",
          "2019-03-08",
          "2019-03-15",
          "2019-03-22",
          "2019-03-29",
          "2019-04-05",
          "2019-04-12",
          "2019-04-19",
          "2019-04-26",
          "2019-05-03",
          "2019-05-10",
          "2019-05-17",
          "2019-05-24",
          "2019-05-31",
          "2019-06-07",
          "2019-06-14",
          "2019-06-21",
          "2019-06-28",
          "2019-07-05",
          "2019-07-12",
          "2019-07-19",
          "2019-07-26",
          "2019-08-02",
          "2019-08-09",
          "2019-08-16",
          "2019-08-23",
          "2019-08-30",
          "2019-09-06",
          "2019-09-13",
          "2019-09-20",
          "2019-09-27",
          "2019-10-04",
          "2019-10-11",
          "2019-10-18",
          "2019-10-25",
          "2019-11-01",
          "2019-11-08",
          "2019-11-15",
          "2019-11-22",
          "2019-11-29",
          "2019-12-06",
          "2019-12-13",
          "2019-12-20",
          "2019-12-27",
          "2020-01-03",
          "2020-01-10",
          "2020-01-17",
          "2020-01-24",
          "2020-01-31",
          "2020-02-07",
          "2020-02-14",
          "2020-02-21",
          "2020-02-28",
          "2020-03-06",
          "2020-03-13",
          "2020-03-20",
          "2020-04-03",
          "2020-04-10",
          "2020-04-17",
          "2020-04-24",
          "2020-05-01",
          "2020-05-08",
          "2020-05-15",
          "2020-06-05",
          "2020-06-12",
          "2020-06-19",
          "2020-06-26",
          "2020-07-03",
          "2020-07-10",
          "2020-07-17",
          "2020-07-24",
          "2020-07-31",
          "2020-08-07",
          "2020-08-14",
          "2020-08-21",
          "2020-08-28",
          "2020-09-04",
          "2020-09-11",
          "2020-09-18",
          "2020-09-25",
          "2020-10-02",
          "2020-10-09",
          "2020-10-16",
          "2020-10-23",
          "2020-10-30",
          "2020-11-06",
          "2020-11-13",
          "2020-11-20",
          "2020-11-27",
          "2020-12-04",
          "2020-12-11",
          "2020-12-18",
          "2020-12-25",
          "2021-01-01",
          "2021-01-08",
          "2021-01-15",
          "2021-01-22",
          "2021-01-29",
          "2021-02-05",
          "2021-02-12",
          "2021-02-19",
          "2021-02-26",
          "2021-03-05",
          "2021-03-12",
          "2021-03-19",
          "2021-03-26",
          "2021-04-02",
          "2021-04-09",
          "2021-04-16",
          "2021-04-23",
          "2021-04-30",
          "2021-05-07",
          "2021-05-14",
          "2021-05-21",
          "2021-05-28",
          "2021-06-04",
          "2021-06-11",
          "2021-06-18",
          "2021-06-25",
          "2021-07-02",
          "2021-07-09",
          "2021-07-16",
          "2021-07-23",
          "2021-07-30",
          "2021-08-06",
          "2021-08-13",
          "2021-08-20",
          "2021-08-27",
          "2021-09-03",
          "2021-09-10",
          "2021-09-17",
          "2021-09-24",
          "2021-10-01",
          "2021-10-08",
          "2021-10-15",
          "2021-10-22",
          "2021-10-29",
          "2021-11-05",
          "2021-11-12",
          "2021-11-19",
          "2021-11-26",
          "2021-12-03",
          "2021-12-10",
          "2021-12-17",
          "2021-12-24",
          "2021-12-31",
          "2022-01-07",
          "2022-01-14",
          "2022-01-21",
          "2022-01-28",
          "2022-02-04",
          "2022-02-11",
          "2022-02-18",
          "2022-02-25",
          "2022-03-04",
          "2022-03-11",
          "2022-03-18",
          "2022-03-25",
          "2022-04-01",
          "2022-04-08",
          "2022-04-15",
          "2022-04-22",
          "2022-04-29",
          "2022-05-06",
          "2022-05-13",
          "2022-05-20",
          "2022-05-27",
          "2022-06-03",
          "2022-06-10",
          "2022-06-17",
          "2022-06-24",
          "2022-07-01",
          "2022-07-08",
          "2022-07-15",
          "2022-07-22",
          "2022-07-29",
          "2022-08-05",
          "2022-08-12",
          "2022-08-19",
          "2022-08-26",
          "2022-09-02",
          "2022-09-09",
          "2022-09-16",
          "2022-09-23",
          "2022-09-30",
          "2022-10-07",
          "2022-10-14",
          "2022-10-21",
          "2022-10-28",
          "2022-11-04",
          "2022-11-11",
          "2022-11-18",
          "2022-11-25",
          "2022-12-02",
          "2022-12-09",
          "2022-12-16",
          "2022-12-23",
          "2022-12-30",
          "2023-01-06",
          "2023-01-13",
          "2023-01-20",
          "2023-01-27",
          "2023-02-03",
          "2023-02-10",
          "2023-02-17",
          "2023-02-24",
          "2023-03-03",
          "2023-03-10",
          "2023-03-17",
          "2023-03-24",
          "2023-03-31",
          "2023-04-07",
          "2023-04-14",
          "2023-04-21",
          "2023-04-28",
          "2023-05-05",
          "2023-05-12",
          "2023-05-19"
         ],
         "y": [
          59,
          80,
          66,
          54,
          172,
          43,
          143,
          62,
          92,
          57,
          97,
          56,
          30,
          168,
          122,
          255,
          84,
          67,
          79,
          94,
          120,
          74,
          82,
          67,
          106,
          84,
          76,
          90,
          42,
          86,
          42,
          150,
          67,
          63,
          87,
          63,
          121,
          40,
          127,
          57,
          53,
          58,
          49,
          105,
          74,
          36,
          22,
          175,
          85,
          77,
          62,
          94,
          44,
          40,
          112,
          38,
          86,
          53,
          58,
          35,
          48,
          72,
          60,
          36,
          37,
          53,
          39,
          66,
          50,
          51,
          53,
          44,
          98,
          65,
          32,
          60,
          230,
          37,
          68,
          37,
          38,
          22,
          91,
          72,
          118,
          362,
          59,
          56,
          34,
          62,
          94,
          32,
          17,
          44,
          69,
          121,
          49,
          84,
          66,
          62,
          69,
          33,
          78,
          44,
          97,
          55,
          78,
          67,
          48,
          36,
          71,
          70,
          49,
          101,
          77,
          35,
          48,
          41,
          60,
          70,
          32,
          87,
          82,
          51,
          86,
          53,
          22,
          36,
          109,
          123,
          56,
          168,
          53,
          37,
          49,
          63,
          133,
          53,
          100,
          54,
          254,
          45,
          149,
          26,
          41,
          78,
          80,
          132,
          73,
          37,
          59,
          130,
          53,
          64,
          60,
          40,
          50,
          12,
          30,
          18,
          217,
          11,
          31,
          10,
          195,
          110,
          39,
          132,
          71,
          48,
          82,
          113,
          119,
          65,
          30,
          212,
          110,
          46,
          29,
          145,
          40,
          138,
          53,
          122,
          60,
          183,
          489,
          52,
          117,
          329,
          58,
          269,
          90,
          8,
          151,
          120,
          71,
          73,
          54,
          304,
          69,
          74,
          158,
          140,
          46,
          18,
          146,
          122,
          115,
          63,
          97,
          104,
          17,
          181,
          47,
          75,
          32,
          57,
          42,
          82,
          239,
          47,
          213,
          245,
          169,
          22,
          74,
          92,
          43,
          79,
          164,
          164,
          49,
          62,
          36,
          135,
          73,
          83,
          246,
          465,
          66,
          167,
          76,
          140,
          377,
          18,
          130,
          81,
          34,
          107,
          66,
          17,
          101,
          147,
          4,
          96,
          67,
          39,
          83,
          200,
          26,
          39,
          63,
          59,
          48,
          330,
          28,
          26,
          101,
          38,
          206,
          216,
          205,
          231,
          46,
          40,
          34,
          39,
          41,
          98,
          60,
          77,
          116,
          201,
          139,
          13,
          21,
          112,
          134,
          193,
          32,
          178,
          45,
          88,
          524,
          194,
          38,
          133,
          77,
          150,
          292,
          144,
          206,
          104,
          452,
          6,
          23,
          179,
          56,
          58,
          119,
          85,
          167,
          56,
          133,
          139,
          50,
          39
         ]
        },
        {
         "line": {
          "color": "rgb(114, 172, 77)",
          "width": 3
         },
         "mode": "lines",
         "type": "scatter",
         "x": [
          "2017-03-31",
          "2017-04-07",
          "2017-04-14",
          "2017-04-21",
          "2017-04-28",
          "2017-05-05",
          "2017-05-12",
          "2017-05-19",
          "2017-05-26",
          "2017-06-02",
          "2017-06-09",
          "2017-06-16",
          "2017-06-23",
          "2017-06-30",
          "2017-07-07",
          "2017-07-14",
          "2017-07-21",
          "2017-07-28",
          "2017-08-04",
          "2017-08-11",
          "2017-08-18",
          "2017-08-25",
          "2017-09-01",
          "2017-09-08",
          "2017-09-15",
          "2017-09-22",
          "2017-09-29",
          "2017-10-06",
          "2017-10-13",
          "2017-10-20",
          "2017-10-27",
          "2017-11-03",
          "2017-11-10",
          "2017-11-17",
          "2017-11-24",
          "2017-12-01",
          "2017-12-08",
          "2017-12-15",
          "2017-12-22",
          "2017-12-29",
          "2018-01-05",
          "2018-01-12",
          "2018-01-19",
          "2018-01-26",
          "2018-02-02",
          "2018-02-09",
          "2018-02-16",
          "2018-02-23",
          "2018-03-02",
          "2018-03-09",
          "2018-03-16",
          "2018-03-23",
          "2018-03-30",
          "2018-04-06",
          "2018-04-13",
          "2018-04-20",
          "2018-04-27",
          "2018-05-04",
          "2018-05-11",
          "2018-05-18",
          "2018-05-25",
          "2018-06-01",
          "2018-06-08",
          "2018-06-15",
          "2018-06-22",
          "2018-06-29",
          "2018-07-06",
          "2018-07-13",
          "2018-07-20",
          "2018-07-27",
          "2018-08-03",
          "2018-08-10",
          "2018-08-17",
          "2018-08-24",
          "2018-08-31",
          "2018-09-07",
          "2018-09-14",
          "2018-09-21",
          "2018-09-28",
          "2018-10-05",
          "2018-10-12",
          "2018-10-19",
          "2018-10-26",
          "2018-11-02",
          "2018-11-09",
          "2018-11-16",
          "2018-11-23",
          "2018-11-30",
          "2018-12-07",
          "2018-12-14",
          "2018-12-21",
          "2018-12-28",
          "2019-01-04",
          "2019-01-11",
          "2019-01-18",
          "2019-01-25",
          "2019-02-01",
          "2019-02-08",
          "2019-02-15",
          "2019-02-22",
          "2019-03-01",
          "2019-03-08",
          "2019-03-15",
          "2019-03-22",
          "2019-03-29",
          "2019-04-05",
          "2019-04-12",
          "2019-04-19",
          "2019-04-26",
          "2019-05-03",
          "2019-05-10",
          "2019-05-17",
          "2019-05-24",
          "2019-05-31",
          "2019-06-07",
          "2019-06-14",
          "2019-06-21",
          "2019-06-28",
          "2019-07-05",
          "2019-07-12",
          "2019-07-19",
          "2019-07-26",
          "2019-08-02",
          "2019-08-09",
          "2019-08-16",
          "2019-08-23",
          "2019-08-30",
          "2019-09-06",
          "2019-09-13",
          "2019-09-20",
          "2019-09-27",
          "2019-10-04",
          "2019-10-11",
          "2019-10-18",
          "2019-10-25",
          "2019-11-01",
          "2019-11-08",
          "2019-11-15",
          "2019-11-22",
          "2019-11-29",
          "2019-12-06",
          "2019-12-13",
          "2019-12-20",
          "2019-12-27",
          "2020-01-03",
          "2020-01-10",
          "2020-01-17",
          "2020-01-24",
          "2020-01-31",
          "2020-02-07",
          "2020-02-14",
          "2020-02-21",
          "2020-02-28",
          "2020-03-06",
          "2020-03-13",
          "2020-03-20",
          "2020-04-03",
          "2020-04-10",
          "2020-04-17",
          "2020-04-24",
          "2020-05-01",
          "2020-05-08",
          "2020-05-15",
          "2020-06-05",
          "2020-06-12",
          "2020-06-19",
          "2020-06-26",
          "2020-07-03",
          "2020-07-10",
          "2020-07-17",
          "2020-07-24",
          "2020-07-31",
          "2020-08-07",
          "2020-08-14",
          "2020-08-21",
          "2020-08-28",
          "2020-09-04",
          "2020-09-11",
          "2020-09-18",
          "2020-09-25",
          "2020-10-02",
          "2020-10-09",
          "2020-10-16",
          "2020-10-23",
          "2020-10-30",
          "2020-11-06",
          "2020-11-13",
          "2020-11-20",
          "2020-11-27",
          "2020-12-04",
          "2020-12-11",
          "2020-12-18",
          "2020-12-25",
          "2021-01-01",
          "2021-01-08",
          "2021-01-15",
          "2021-01-22",
          "2021-01-29",
          "2021-02-05",
          "2021-02-12",
          "2021-02-19",
          "2021-02-26",
          "2021-03-05",
          "2021-03-12",
          "2021-03-19",
          "2021-03-26",
          "2021-04-02",
          "2021-04-09",
          "2021-04-16",
          "2021-04-23",
          "2021-04-30",
          "2021-05-07",
          "2021-05-14",
          "2021-05-21",
          "2021-05-28",
          "2021-06-04",
          "2021-06-11",
          "2021-06-18",
          "2021-06-25",
          "2021-07-02",
          "2021-07-09",
          "2021-07-16",
          "2021-07-23",
          "2021-07-30",
          "2021-08-06",
          "2021-08-13",
          "2021-08-20",
          "2021-08-27",
          "2021-09-03",
          "2021-09-10",
          "2021-09-17",
          "2021-09-24",
          "2021-10-01",
          "2021-10-08",
          "2021-10-15",
          "2021-10-22",
          "2021-10-29",
          "2021-11-05",
          "2021-11-12",
          "2021-11-19",
          "2021-11-26",
          "2021-12-03",
          "2021-12-10",
          "2021-12-17",
          "2021-12-24",
          "2021-12-31",
          "2022-01-07",
          "2022-01-14",
          "2022-01-21",
          "2022-01-28",
          "2022-02-04",
          "2022-02-11",
          "2022-02-18",
          "2022-02-25",
          "2022-03-04",
          "2022-03-11",
          "2022-03-18",
          "2022-03-25",
          "2022-04-01",
          "2022-04-08",
          "2022-04-15",
          "2022-04-22",
          "2022-04-29",
          "2022-05-06",
          "2022-05-13",
          "2022-05-20",
          "2022-05-27",
          "2022-06-03",
          "2022-06-10",
          "2022-06-17",
          "2022-06-24",
          "2022-07-01",
          "2022-07-08",
          "2022-07-15",
          "2022-07-22",
          "2022-07-29",
          "2022-08-05",
          "2022-08-12",
          "2022-08-19",
          "2022-08-26",
          "2022-09-02",
          "2022-09-09",
          "2022-09-16",
          "2022-09-23",
          "2022-09-30",
          "2022-10-07",
          "2022-10-14",
          "2022-10-21",
          "2022-10-28",
          "2022-11-04",
          "2022-11-11",
          "2022-11-18",
          "2022-11-25",
          "2022-12-02",
          "2022-12-09",
          "2022-12-16",
          "2022-12-23",
          "2022-12-30",
          "2023-01-06",
          "2023-01-13",
          "2023-01-20",
          "2023-01-27",
          "2023-02-03",
          "2023-02-10",
          "2023-02-17",
          "2023-02-24",
          "2023-03-03",
          "2023-03-10",
          "2023-03-17",
          "2023-03-24",
          "2023-03-31",
          "2023-04-07",
          "2023-04-14",
          "2023-04-21",
          "2023-04-28",
          "2023-05-05",
          "2023-05-12",
          "2023-05-19"
         ],
         "y": [
          4594.1,
          2479.3,
          4125.1,
          3401.2,
          2535.75,
          1746,
          3898.47,
          2795.5,
          2406.42,
          2095.3,
          2279.1,
          950.25,
          2209.6,
          3175.75,
          3453.81,
          4635.35,
          3040.4,
          2738.85,
          3598.55,
          5604.5,
          3195.8,
          1909.75,
          2521.04,
          2042.55,
          6818.11,
          2222.85,
          3030.5,
          2355.85,
          1501.25,
          4561.5,
          1480.65,
          3886,
          1630.6,
          1662.29,
          2522.08,
          1553.51,
          3045.4,
          1575.62,
          1264.22,
          641,
          2534.4,
          1914.82,
          2169,
          2785.26,
          2045.75,
          1862.26,
          5498.5,
          4289.95,
          2850,
          2030.35,
          2770.2,
          4673.28,
          1247.5,
          2705,
          3762.68,
          2780.5,
          2492.11,
          776.75,
          1554.59,
          941.35,
          1182.06,
          2185.1,
          2964.65,
          1261.75,
          2033.75,
          1324.61,
          1890.85,
          2772,
          1053.46,
          2071,
          3131.63,
          813,
          2030.4,
          3915.18,
          1909.72,
          1973.65,
          5753.35,
          1367.9,
          2798,
          1259.55,
          1281.95,
          1634.25,
          2346.62,
          3180.99,
          3430.95,
          8648.09,
          3884,
          1495.54,
          2290.86,
          3157.38,
          2206.54,
          1353.71,
          1928.44,
          1209.24,
          2513.46,
          2583.64,
          1228.32,
          2860.77,
          1142.95,
          2550.16,
          3044.69,
          1307.61,
          1786.21,
          1752.8,
          3241.75,
          2549.05,
          1906.17,
          1096.99,
          1714.65,
          1517.62,
          2187.13,
          3153.06,
          880.12,
          4397.52,
          3094.39,
          802.95,
          1360.41,
          1299.94,
          3729.95,
          1498.27,
          982.1,
          1221.58,
          4706.76,
          3489.43,
          2086.53,
          2118.01,
          685.6,
          1156.01,
          2627.39,
          1917.36,
          1436.89,
          2841,
          1327.44,
          1262.72,
          1897.96,
          848.47,
          2854.15,
          2510.49,
          2212.82,
          1472.69,
          3682.31,
          1479.81,
          2894.27,
          808.9,
          637.6,
          2266.58,
          1132.28,
          2591.98,
          2734.52,
          1545.32,
          1821.48,
          1499.78,
          1313.23,
          1880.08,
          1743.76,
          1015.06,
          522.15,
          136.9,
          1055.5,
          380.29,
          1093.6,
          610,
          2082.88,
          160,
          2746.57,
          955.66,
          964.75,
          2934.2,
          1724.37,
          1688.03,
          2260.8,
          2575.07,
          2260.98,
          2003.79,
          1771.58,
          2646.7,
          3698.8,
          722.2,
          1512.41,
          4271.02,
          986.85,
          3238.58,
          1550.57,
          2723.39,
          1367.23,
          2886.38,
          4442.99,
          1767.07,
          1564.16,
          2976.63,
          1769.62,
          3659.79,
          1220.95,
          467.14,
          3193.19,
          3084.35,
          1904.67,
          2240.53,
          2248.02,
          5151.58,
          1972.47,
          3091.66,
          2881.57,
          2571.29,
          1525.33,
          860.12,
          1079.41,
          1416.45,
          2856.37,
          1166.02,
          2542.01,
          2361.64,
          689.55,
          1433.3,
          1206.52,
          1725.38,
          1224.06,
          2944.67,
          1275.86,
          1170.2,
          3112.02,
          1222.84,
          1515.51,
          2423.96,
          3281.18,
          1351.04,
          2227.69,
          2514.49,
          2248.38,
          2181.03,
          2292.47,
          1940.72,
          1768.48,
          3752.93,
          1079.63,
          2496.41,
          1767.17,
          938.52,
          4519.86,
          6228,
          1073.9,
          3143.41,
          5253.32,
          2203.31,
          2934.81,
          721.63,
          1750.9,
          2603.89,
          1403.35,
          1085.37,
          2026.73,
          628.38,
          1785.8,
          1387.79,
          533.59,
          778.65,
          3407,
          2201.78,
          1611.87,
          1967.08,
          1616.71,
          1085.75,
          1155.31,
          1692.67,
          5261.13,
          2194.51,
          2024.34,
          1371.72,
          2259.79,
          1182,
          1877.37,
          1781.02,
          1309.77,
          1495.03,
          2692.74,
          1886.55,
          1660.4,
          2378.95,
          1678.95,
          2158.55,
          1385.89,
          703.5,
          1358.12,
          2058.28,
          3767.02,
          1437.44,
          677.6,
          1678.31,
          4300.86,
          1779.41,
          639.95,
          2693.83,
          1865.1,
          5056.87,
          2848.59,
          1732.56,
          1487.73,
          965.43,
          2647.8,
          2451.61,
          2500.99,
          985.61,
          2900.03,
          2607.66,
          4576.45,
          115.5,
          2879.75,
          3110.01,
          1436.9,
          2219.05,
          4135.93,
          2682.41,
          2332.34,
          2618.8,
          4160.54,
          970.15,
          1300.03,
          1402.05
         ]
        }
       ],
       "layout": {
        "annotations": [
         {
          "font": {
           "color": "rgb(114, 172, 77)",
           "size": 15
          },
          "showarrow": false,
          "text": "MATERIAL_DE_ESCRITORIO",
          "x": 0.02,
          "xref": "paper",
          "y": 1.2,
          "yref": "paper"
         },
         {
          "font": {
           "color": "rgba(169, 169, 169, 1)",
           "size": 15
          },
          "showarrow": false,
          "text": "# OF TOTAL <span style=\"color:rgba(100, 159, 237, 110);\">UNITS SOLD</span> | TOTAL <span style=\"color:rgb(114, 172, 77);\">REVENUE</span>",
          "x": 0.02,
          "xref": "paper",
          "y": 1.1,
          "yref": "paper"
         }
        ],
        "height": 500,
        "margin": {
         "b": 50,
         "l": 10,
         "r": 10,
         "t": 150
        },
        "plot_bgcolor": "rgba(0,0,0,0)",
        "template": {
         "data": {
          "bar": [
           {
            "error_x": {
             "color": "#2a3f5f"
            },
            "error_y": {
             "color": "#2a3f5f"
            },
            "marker": {
             "line": {
              "color": "#E5ECF6",
              "width": 0.5
             },
             "pattern": {
              "fillmode": "overlay",
              "size": 10,
              "solidity": 0.2
             }
            },
            "type": "bar"
           }
          ],
          "barpolar": [
           {
            "marker": {
             "line": {
              "color": "#E5ECF6",
              "width": 0.5
             },
             "pattern": {
              "fillmode": "overlay",
              "size": 10,
              "solidity": 0.2
             }
            },
            "type": "barpolar"
           }
          ],
          "carpet": [
           {
            "aaxis": {
             "endlinecolor": "#2a3f5f",
             "gridcolor": "white",
             "linecolor": "white",
             "minorgridcolor": "white",
             "startlinecolor": "#2a3f5f"
            },
            "baxis": {
             "endlinecolor": "#2a3f5f",
             "gridcolor": "white",
             "linecolor": "white",
             "minorgridcolor": "white",
             "startlinecolor": "#2a3f5f"
            },
            "type": "carpet"
           }
          ],
          "choropleth": [
           {
            "colorbar": {
             "outlinewidth": 0,
             "ticks": ""
            },
            "type": "choropleth"
           }
          ],
          "contour": [
           {
            "colorbar": {
             "outlinewidth": 0,
             "ticks": ""
            },
            "colorscale": [
             [
              0,
              "#0d0887"
             ],
             [
              0.1111111111111111,
              "#46039f"
             ],
             [
              0.2222222222222222,
              "#7201a8"
             ],
             [
              0.3333333333333333,
              "#9c179e"
             ],
             [
              0.4444444444444444,
              "#bd3786"
             ],
             [
              0.5555555555555556,
              "#d8576b"
             ],
             [
              0.6666666666666666,
              "#ed7953"
             ],
             [
              0.7777777777777778,
              "#fb9f3a"
             ],
             [
              0.8888888888888888,
              "#fdca26"
             ],
             [
              1,
              "#f0f921"
             ]
            ],
            "type": "contour"
           }
          ],
          "contourcarpet": [
           {
            "colorbar": {
             "outlinewidth": 0,
             "ticks": ""
            },
            "type": "contourcarpet"
           }
          ],
          "heatmap": [
           {
            "colorbar": {
             "outlinewidth": 0,
             "ticks": ""
            },
            "colorscale": [
             [
              0,
              "#0d0887"
             ],
             [
              0.1111111111111111,
              "#46039f"
             ],
             [
              0.2222222222222222,
              "#7201a8"
             ],
             [
              0.3333333333333333,
              "#9c179e"
             ],
             [
              0.4444444444444444,
              "#bd3786"
             ],
             [
              0.5555555555555556,
              "#d8576b"
             ],
             [
              0.6666666666666666,
              "#ed7953"
             ],
             [
              0.7777777777777778,
              "#fb9f3a"
             ],
             [
              0.8888888888888888,
              "#fdca26"
             ],
             [
              1,
              "#f0f921"
             ]
            ],
            "type": "heatmap"
           }
          ],
          "heatmapgl": [
           {
            "colorbar": {
             "outlinewidth": 0,
             "ticks": ""
            },
            "colorscale": [
             [
              0,
              "#0d0887"
             ],
             [
              0.1111111111111111,
              "#46039f"
             ],
             [
              0.2222222222222222,
              "#7201a8"
             ],
             [
              0.3333333333333333,
              "#9c179e"
             ],
             [
              0.4444444444444444,
              "#bd3786"
             ],
             [
              0.5555555555555556,
              "#d8576b"
             ],
             [
              0.6666666666666666,
              "#ed7953"
             ],
             [
              0.7777777777777778,
              "#fb9f3a"
             ],
             [
              0.8888888888888888,
              "#fdca26"
             ],
             [
              1,
              "#f0f921"
             ]
            ],
            "type": "heatmapgl"
           }
          ],
          "histogram": [
           {
            "marker": {
             "pattern": {
              "fillmode": "overlay",
              "size": 10,
              "solidity": 0.2
             }
            },
            "type": "histogram"
           }
          ],
          "histogram2d": [
           {
            "colorbar": {
             "outlinewidth": 0,
             "ticks": ""
            },
            "colorscale": [
             [
              0,
              "#0d0887"
             ],
             [
              0.1111111111111111,
              "#46039f"
             ],
             [
              0.2222222222222222,
              "#7201a8"
             ],
             [
              0.3333333333333333,
              "#9c179e"
             ],
             [
              0.4444444444444444,
              "#bd3786"
             ],
             [
              0.5555555555555556,
              "#d8576b"
             ],
             [
              0.6666666666666666,
              "#ed7953"
             ],
             [
              0.7777777777777778,
              "#fb9f3a"
             ],
             [
              0.8888888888888888,
              "#fdca26"
             ],
             [
              1,
              "#f0f921"
             ]
            ],
            "type": "histogram2d"
           }
          ],
          "histogram2dcontour": [
           {
            "colorbar": {
             "outlinewidth": 0,
             "ticks": ""
            },
            "colorscale": [
             [
              0,
              "#0d0887"
             ],
             [
              0.1111111111111111,
              "#46039f"
             ],
             [
              0.2222222222222222,
              "#7201a8"
             ],
             [
              0.3333333333333333,
              "#9c179e"
             ],
             [
              0.4444444444444444,
              "#bd3786"
             ],
             [
              0.5555555555555556,
              "#d8576b"
             ],
             [
              0.6666666666666666,
              "#ed7953"
             ],
             [
              0.7777777777777778,
              "#fb9f3a"
             ],
             [
              0.8888888888888888,
              "#fdca26"
             ],
             [
              1,
              "#f0f921"
             ]
            ],
            "type": "histogram2dcontour"
           }
          ],
          "mesh3d": [
           {
            "colorbar": {
             "outlinewidth": 0,
             "ticks": ""
            },
            "type": "mesh3d"
           }
          ],
          "parcoords": [
           {
            "line": {
             "colorbar": {
              "outlinewidth": 0,
              "ticks": ""
             }
            },
            "type": "parcoords"
           }
          ],
          "pie": [
           {
            "automargin": true,
            "type": "pie"
           }
          ],
          "scatter": [
           {
            "fillpattern": {
             "fillmode": "overlay",
             "size": 10,
             "solidity": 0.2
            },
            "type": "scatter"
           }
          ],
          "scatter3d": [
           {
            "line": {
             "colorbar": {
              "outlinewidth": 0,
              "ticks": ""
             }
            },
            "marker": {
             "colorbar": {
              "outlinewidth": 0,
              "ticks": ""
             }
            },
            "type": "scatter3d"
           }
          ],
          "scattercarpet": [
           {
            "marker": {
             "colorbar": {
              "outlinewidth": 0,
              "ticks": ""
             }
            },
            "type": "scattercarpet"
           }
          ],
          "scattergeo": [
           {
            "marker": {
             "colorbar": {
              "outlinewidth": 0,
              "ticks": ""
             }
            },
            "type": "scattergeo"
           }
          ],
          "scattergl": [
           {
            "marker": {
             "colorbar": {
              "outlinewidth": 0,
              "ticks": ""
             }
            },
            "type": "scattergl"
           }
          ],
          "scattermapbox": [
           {
            "marker": {
             "colorbar": {
              "outlinewidth": 0,
              "ticks": ""
             }
            },
            "type": "scattermapbox"
           }
          ],
          "scatterpolar": [
           {
            "marker": {
             "colorbar": {
              "outlinewidth": 0,
              "ticks": ""
             }
            },
            "type": "scatterpolar"
           }
          ],
          "scatterpolargl": [
           {
            "marker": {
             "colorbar": {
              "outlinewidth": 0,
              "ticks": ""
             }
            },
            "type": "scatterpolargl"
           }
          ],
          "scatterternary": [
           {
            "marker": {
             "colorbar": {
              "outlinewidth": 0,
              "ticks": ""
             }
            },
            "type": "scatterternary"
           }
          ],
          "surface": [
           {
            "colorbar": {
             "outlinewidth": 0,
             "ticks": ""
            },
            "colorscale": [
             [
              0,
              "#0d0887"
             ],
             [
              0.1111111111111111,
              "#46039f"
             ],
             [
              0.2222222222222222,
              "#7201a8"
             ],
             [
              0.3333333333333333,
              "#9c179e"
             ],
             [
              0.4444444444444444,
              "#bd3786"
             ],
             [
              0.5555555555555556,
              "#d8576b"
             ],
             [
              0.6666666666666666,
              "#ed7953"
             ],
             [
              0.7777777777777778,
              "#fb9f3a"
             ],
             [
              0.8888888888888888,
              "#fdca26"
             ],
             [
              1,
              "#f0f921"
             ]
            ],
            "type": "surface"
           }
          ],
          "table": [
           {
            "cells": {
             "fill": {
              "color": "#EBF0F8"
             },
             "line": {
              "color": "white"
             }
            },
            "header": {
             "fill": {
              "color": "#C8D4E3"
             },
             "line": {
              "color": "white"
             }
            },
            "type": "table"
           }
          ]
         },
         "layout": {
          "annotationdefaults": {
           "arrowcolor": "#2a3f5f",
           "arrowhead": 0,
           "arrowwidth": 1
          },
          "autotypenumbers": "strict",
          "coloraxis": {
           "colorbar": {
            "outlinewidth": 0,
            "ticks": ""
           }
          },
          "colorscale": {
           "diverging": [
            [
             0,
             "#8e0152"
            ],
            [
             0.1,
             "#c51b7d"
            ],
            [
             0.2,
             "#de77ae"
            ],
            [
             0.3,
             "#f1b6da"
            ],
            [
             0.4,
             "#fde0ef"
            ],
            [
             0.5,
             "#f7f7f7"
            ],
            [
             0.6,
             "#e6f5d0"
            ],
            [
             0.7,
             "#b8e186"
            ],
            [
             0.8,
             "#7fbc41"
            ],
            [
             0.9,
             "#4d9221"
            ],
            [
             1,
             "#276419"
            ]
           ],
           "sequential": [
            [
             0,
             "#0d0887"
            ],
            [
             0.1111111111111111,
             "#46039f"
            ],
            [
             0.2222222222222222,
             "#7201a8"
            ],
            [
             0.3333333333333333,
             "#9c179e"
            ],
            [
             0.4444444444444444,
             "#bd3786"
            ],
            [
             0.5555555555555556,
             "#d8576b"
            ],
            [
             0.6666666666666666,
             "#ed7953"
            ],
            [
             0.7777777777777778,
             "#fb9f3a"
            ],
            [
             0.8888888888888888,
             "#fdca26"
            ],
            [
             1,
             "#f0f921"
            ]
           ],
           "sequentialminus": [
            [
             0,
             "#0d0887"
            ],
            [
             0.1111111111111111,
             "#46039f"
            ],
            [
             0.2222222222222222,
             "#7201a8"
            ],
            [
             0.3333333333333333,
             "#9c179e"
            ],
            [
             0.4444444444444444,
             "#bd3786"
            ],
            [
             0.5555555555555556,
             "#d8576b"
            ],
            [
             0.6666666666666666,
             "#ed7953"
            ],
            [
             0.7777777777777778,
             "#fb9f3a"
            ],
            [
             0.8888888888888888,
             "#fdca26"
            ],
            [
             1,
             "#f0f921"
            ]
           ]
          },
          "colorway": [
           "#636efa",
           "#EF553B",
           "#00cc96",
           "#ab63fa",
           "#FFA15A",
           "#19d3f3",
           "#FF6692",
           "#B6E880",
           "#FF97FF",
           "#FECB52"
          ],
          "font": {
           "color": "#2a3f5f"
          },
          "geo": {
           "bgcolor": "white",
           "lakecolor": "white",
           "landcolor": "#E5ECF6",
           "showlakes": true,
           "showland": true,
           "subunitcolor": "white"
          },
          "hoverlabel": {
           "align": "left"
          },
          "hovermode": "closest",
          "mapbox": {
           "style": "light"
          },
          "paper_bgcolor": "white",
          "plot_bgcolor": "#E5ECF6",
          "polar": {
           "angularaxis": {
            "gridcolor": "white",
            "linecolor": "white",
            "ticks": ""
           },
           "bgcolor": "#E5ECF6",
           "radialaxis": {
            "gridcolor": "white",
            "linecolor": "white",
            "ticks": ""
           }
          },
          "scene": {
           "xaxis": {
            "backgroundcolor": "#E5ECF6",
            "gridcolor": "white",
            "gridwidth": 2,
            "linecolor": "white",
            "showbackground": true,
            "ticks": "",
            "zerolinecolor": "white"
           },
           "yaxis": {
            "backgroundcolor": "#E5ECF6",
            "gridcolor": "white",
            "gridwidth": 2,
            "linecolor": "white",
            "showbackground": true,
            "ticks": "",
            "zerolinecolor": "white"
           },
           "zaxis": {
            "backgroundcolor": "#E5ECF6",
            "gridcolor": "white",
            "gridwidth": 2,
            "linecolor": "white",
            "showbackground": true,
            "ticks": "",
            "zerolinecolor": "white"
           }
          },
          "shapedefaults": {
           "line": {
            "color": "#2a3f5f"
           }
          },
          "ternary": {
           "aaxis": {
            "gridcolor": "white",
            "linecolor": "white",
            "ticks": ""
           },
           "baxis": {
            "gridcolor": "white",
            "linecolor": "white",
            "ticks": ""
           },
           "bgcolor": "#E5ECF6",
           "caxis": {
            "gridcolor": "white",
            "linecolor": "white",
            "ticks": ""
           }
          },
          "title": {
           "x": 0.05
          },
          "xaxis": {
           "automargin": true,
           "gridcolor": "white",
           "linecolor": "white",
           "ticks": "",
           "title": {
            "standoff": 15
           },
           "zerolinecolor": "white",
           "zerolinewidth": 2
          },
          "yaxis": {
           "automargin": true,
           "gridcolor": "white",
           "linecolor": "white",
           "ticks": "",
           "title": {
            "standoff": 15
           },
           "zerolinecolor": "white",
           "zerolinewidth": 2
          }
         }
        },
        "title": {
         "font": {
          "size": 18
         },
         "text": "SALES PER WEEK",
         "x": 0.1,
         "y": 0.9
        },
        "width": 700,
        "xaxis": {
         "linecolor": "rgba(169, 169, 169, 1)",
         "linewidth": 1,
         "showline": true
        }
       }
      }
     },
     "metadata": {},
     "output_type": "display_data"
    }
   ],
   "source": [
    "product = 'MATERIAL_DE_ESCRITORIO'\n",
    "step = 'week'\n",
    "\n",
    "df_product, df_dates = product_over_year(df_vendas, product, step)\n",
    "df_revenue = revenue_over_year(df_vendas, product, step)\n",
    "list_of_dfs = [df_product, df_revenue]\n",
    "plot_over_year(list_of_dfs, product, step)"
   ]
  },
  {
   "cell_type": "code",
   "execution_count": 11,
   "metadata": {},
   "outputs": [
    {
     "data": {
      "application/vnd.plotly.v1+json": {
       "config": {
        "plotlyServerURL": "https://plotly.com"
       },
       "data": [
        {
         "line": {
          "color": "rgb(114, 172, 77)",
          "width": 3
         },
         "mode": "lines",
         "type": "scatter",
         "x": [
          "2017-03-31",
          "2017-04-07",
          "2017-04-14",
          "2017-04-21",
          "2017-04-28",
          "2017-05-05",
          "2017-05-12",
          "2017-05-19",
          "2017-05-26",
          "2017-06-02",
          "2017-06-09",
          "2017-06-16",
          "2017-06-23",
          "2017-06-30",
          "2017-07-07",
          "2017-07-14",
          "2017-07-21",
          "2017-07-28",
          "2017-08-04",
          "2017-08-11",
          "2017-08-18",
          "2017-08-25",
          "2017-09-01",
          "2017-09-08",
          "2017-09-15",
          "2017-09-22",
          "2017-09-29",
          "2017-10-06",
          "2017-10-13",
          "2017-10-20",
          "2017-10-27",
          "2017-11-03",
          "2017-11-10",
          "2017-11-17",
          "2017-11-24",
          "2017-12-01",
          "2017-12-08",
          "2017-12-15",
          "2017-12-22",
          "2017-12-29",
          "2018-01-05",
          "2018-01-12",
          "2018-01-19",
          "2018-01-26",
          "2018-02-02",
          "2018-02-09",
          "2018-02-16",
          "2018-02-23",
          "2018-03-02",
          "2018-03-09",
          "2018-03-16",
          "2018-03-23",
          "2018-03-30",
          "2018-04-06",
          "2018-04-13",
          "2018-04-20",
          "2018-04-27",
          "2018-05-04",
          "2018-05-11",
          "2018-05-18",
          "2018-05-25",
          "2018-06-01",
          "2018-06-08",
          "2018-06-15",
          "2018-06-22",
          "2018-06-29",
          "2018-07-06",
          "2018-07-13",
          "2018-07-20",
          "2018-07-27",
          "2018-08-03",
          "2018-08-10",
          "2018-08-17",
          "2018-08-24",
          "2018-08-31",
          "2018-09-07",
          "2018-09-14",
          "2018-09-21",
          "2018-09-28",
          "2018-10-05",
          "2018-10-12",
          "2018-10-19",
          "2018-10-26",
          "2018-11-02",
          "2018-11-09",
          "2018-11-16",
          "2018-11-23",
          "2018-11-30",
          "2018-12-07",
          "2018-12-14",
          "2018-12-21",
          "2018-12-28",
          "2019-01-04",
          "2019-01-11",
          "2019-01-18",
          "2019-01-25",
          "2019-02-01",
          "2019-02-08",
          "2019-02-15",
          "2019-02-22",
          "2019-03-01",
          "2019-03-08",
          "2019-03-15",
          "2019-03-22",
          "2019-03-29",
          "2019-04-05",
          "2019-04-12",
          "2019-04-19",
          "2019-04-26",
          "2019-05-03",
          "2019-05-10",
          "2019-05-17",
          "2019-05-24",
          "2019-05-31",
          "2019-06-07",
          "2019-06-14",
          "2019-06-21",
          "2019-06-28",
          "2019-07-05",
          "2019-07-12",
          "2019-07-19",
          "2019-07-26",
          "2019-08-02",
          "2019-08-09",
          "2019-08-16",
          "2019-08-23",
          "2019-08-30",
          "2019-09-06",
          "2019-09-13",
          "2019-09-20",
          "2019-09-27",
          "2019-10-04",
          "2019-10-11",
          "2019-10-18",
          "2019-10-25",
          "2019-11-01",
          "2019-11-08",
          "2019-11-15",
          "2019-11-22",
          "2019-11-29",
          "2019-12-06",
          "2019-12-13",
          "2019-12-20",
          "2019-12-27",
          "2020-01-03",
          "2020-01-10",
          "2020-01-17",
          "2020-01-24",
          "2020-01-31",
          "2020-02-07",
          "2020-02-14",
          "2020-02-21",
          "2020-02-28",
          "2020-03-06",
          "2020-03-13",
          "2020-03-20",
          "2020-03-27",
          "2020-04-03",
          "2020-04-10",
          "2020-04-17",
          "2020-04-24",
          "2020-05-01",
          "2020-05-08",
          "2020-05-15",
          "2020-05-29",
          "2020-06-05",
          "2020-06-12",
          "2020-06-19",
          "2020-06-26",
          "2020-07-03",
          "2020-07-10",
          "2020-07-17",
          "2020-07-24",
          "2020-07-31",
          "2020-08-07",
          "2020-08-14",
          "2020-08-21",
          "2020-08-28",
          "2020-09-04",
          "2020-09-11",
          "2020-09-18",
          "2020-09-25",
          "2020-10-02",
          "2020-10-09",
          "2020-10-16",
          "2020-10-23",
          "2020-10-30",
          "2020-11-06",
          "2020-11-13",
          "2020-11-20",
          "2020-11-27",
          "2020-12-04",
          "2020-12-11",
          "2020-12-18",
          "2020-12-25",
          "2021-01-01",
          "2021-01-08",
          "2021-01-15",
          "2021-01-22",
          "2021-01-29",
          "2021-02-05",
          "2021-02-12",
          "2021-02-19",
          "2021-02-26",
          "2021-03-05",
          "2021-03-12",
          "2021-03-19",
          "2021-03-26",
          "2021-04-02",
          "2021-04-09",
          "2021-04-16",
          "2021-04-23",
          "2021-04-30",
          "2021-05-07",
          "2021-05-14",
          "2021-05-21",
          "2021-05-28",
          "2021-06-04",
          "2021-06-11",
          "2021-06-18",
          "2021-06-25",
          "2021-07-02",
          "2021-07-09",
          "2021-07-16",
          "2021-07-23",
          "2021-07-30",
          "2021-08-06",
          "2021-08-13",
          "2021-08-20",
          "2021-08-27",
          "2021-09-03",
          "2021-09-10",
          "2021-09-17",
          "2021-09-24",
          "2021-10-01",
          "2021-10-08",
          "2021-10-15",
          "2021-10-22",
          "2021-10-29",
          "2021-11-05",
          "2021-11-12",
          "2021-11-19",
          "2021-11-26",
          "2021-12-03",
          "2021-12-10",
          "2021-12-17",
          "2021-12-24",
          "2021-12-31",
          "2022-01-07",
          "2022-01-14",
          "2022-01-21",
          "2022-01-28",
          "2022-02-04",
          "2022-02-11",
          "2022-02-18",
          "2022-02-25",
          "2022-03-04",
          "2022-03-11",
          "2022-03-18",
          "2022-03-25",
          "2022-04-01",
          "2022-04-08",
          "2022-04-15",
          "2022-04-22",
          "2022-04-29",
          "2022-05-06",
          "2022-05-13",
          "2022-05-20",
          "2022-05-27",
          "2022-06-03",
          "2022-06-10",
          "2022-06-17",
          "2022-06-24",
          "2022-07-01",
          "2022-07-08",
          "2022-07-15",
          "2022-07-22",
          "2022-07-29",
          "2022-08-05",
          "2022-08-12",
          "2022-08-19",
          "2022-08-26",
          "2022-09-02",
          "2022-09-09",
          "2022-09-16",
          "2022-09-23",
          "2022-09-30",
          "2022-10-07",
          "2022-10-14",
          "2022-10-21",
          "2022-10-28",
          "2022-11-04",
          "2022-11-11",
          "2022-11-18",
          "2022-11-25",
          "2022-12-02",
          "2022-12-09",
          "2022-12-16",
          "2022-12-23",
          "2022-12-30",
          "2023-01-06",
          "2023-01-13",
          "2023-01-20",
          "2023-01-27",
          "2023-02-03",
          "2023-02-10",
          "2023-02-17",
          "2023-02-24",
          "2023-03-03",
          "2023-03-10",
          "2023-03-17",
          "2023-03-24",
          "2023-03-31",
          "2023-04-07",
          "2023-04-14",
          "2023-04-21",
          "2023-04-28",
          "2023-05-05",
          "2023-05-12",
          "2023-05-19"
         ],
         "y": [
          694,
          1266,
          1127,
          992,
          1294,
          948,
          1709,
          1198,
          1373,
          1161,
          1454,
          1009,
          875,
          1326,
          1711,
          1513,
          1018,
          1207,
          1695,
          1401,
          1518,
          1749,
          1225,
          971,
          1823,
          1080,
          1336,
          1540,
          1017,
          1384,
          1175,
          1160,
          1228,
          986,
          1341,
          1186,
          1219,
          1312,
          1178,
          768,
          919,
          1146,
          1084,
          1533,
          3104,
          1315,
          588,
          2146,
          1580,
          898,
          1655,
          1619,
          718,
          1296,
          1469,
          1204,
          1251,
          872,
          1062,
          974,
          946,
          695,
          893,
          785,
          605,
          936,
          882,
          1047,
          738,
          1067,
          1204,
          931,
          961,
          1149,
          727,
          1005,
          1347,
          969,
          1093,
          1005,
          975,
          726,
          990,
          839,
          1030,
          998,
          847,
          959,
          779,
          989,
          947,
          532,
          639,
          827,
          1053,
          1187,
          1093,
          1175,
          1229,
          1178,
          902,
          351,
          1635,
          1055,
          1119,
          1238,
          1349,
          724,
          1054,
          645,
          902,
          1186,
          712,
          876,
          1013,
          600,
          880,
          596,
          694,
          665,
          681,
          621,
          1011,
          1177,
          936,
          701,
          757,
          873,
          989,
          937,
          944,
          1168,
          1014,
          889,
          671,
          735,
          825,
          603,
          758,
          888,
          1085,
          967,
          911,
          216,
          370,
          865,
          899,
          1128,
          1154,
          916,
          1131,
          937,
          416,
          983,
          1133,
          650,
          43,
          190,
          81,
          56,
          183,
          299,
          138,
          383,
          46.5,
          323,
          518,
          418,
          316,
          736,
          556,
          621,
          852,
          987,
          683,
          577,
          484,
          993,
          1049,
          536,
          507,
          748,
          693,
          680,
          473,
          738,
          598,
          632,
          1050,
          711,
          1175,
          1020,
          613,
          1273,
          274,
          209,
          866,
          941,
          735,
          816,
          744,
          1031,
          483,
          627,
          1149,
          825,
          862,
          363,
          701,
          621,
          517,
          574,
          612,
          587,
          303,
          773,
          508,
          459,
          573,
          755,
          405,
          717,
          692,
          414,
          680,
          839,
          543,
          621,
          563,
          603,
          801,
          532,
          807,
          529,
          796,
          792,
          464,
          760,
          691,
          511,
          830,
          965,
          610,
          681,
          535,
          697,
          801,
          231,
          792,
          656,
          949,
          824,
          742,
          773,
          899,
          746,
          277,
          661,
          1006,
          480,
          768,
          953,
          445,
          331,
          466,
          761,
          654,
          893,
          392,
          388,
          732,
          499,
          503,
          625,
          932,
          720,
          384,
          495,
          541,
          474,
          602,
          592,
          508,
          450,
          508,
          718,
          714,
          418,
          434,
          541,
          802,
          729,
          607,
          1178,
          494,
          561,
          819,
          726,
          427,
          481,
          743,
          811,
          900,
          829,
          805,
          863,
          1028,
          231,
          599,
          1061,
          878,
          548,
          762,
          386,
          838,
          410,
          517,
          626,
          494,
          464
         ]
        }
       ],
       "layout": {
        "annotations": [
         {
          "font": {
           "color": "rgb(114, 172, 77)",
           "size": 15
          },
          "showarrow": false,
          "text": "ALL",
          "x": 0.02,
          "xref": "paper",
          "y": 1.2,
          "yref": "paper"
         }
        ],
        "height": 500,
        "margin": {
         "b": 50,
         "l": 10,
         "r": 10,
         "t": 150
        },
        "plot_bgcolor": "rgba(0,0,0,0)",
        "template": {
         "data": {
          "bar": [
           {
            "error_x": {
             "color": "#2a3f5f"
            },
            "error_y": {
             "color": "#2a3f5f"
            },
            "marker": {
             "line": {
              "color": "#E5ECF6",
              "width": 0.5
             },
             "pattern": {
              "fillmode": "overlay",
              "size": 10,
              "solidity": 0.2
             }
            },
            "type": "bar"
           }
          ],
          "barpolar": [
           {
            "marker": {
             "line": {
              "color": "#E5ECF6",
              "width": 0.5
             },
             "pattern": {
              "fillmode": "overlay",
              "size": 10,
              "solidity": 0.2
             }
            },
            "type": "barpolar"
           }
          ],
          "carpet": [
           {
            "aaxis": {
             "endlinecolor": "#2a3f5f",
             "gridcolor": "white",
             "linecolor": "white",
             "minorgridcolor": "white",
             "startlinecolor": "#2a3f5f"
            },
            "baxis": {
             "endlinecolor": "#2a3f5f",
             "gridcolor": "white",
             "linecolor": "white",
             "minorgridcolor": "white",
             "startlinecolor": "#2a3f5f"
            },
            "type": "carpet"
           }
          ],
          "choropleth": [
           {
            "colorbar": {
             "outlinewidth": 0,
             "ticks": ""
            },
            "type": "choropleth"
           }
          ],
          "contour": [
           {
            "colorbar": {
             "outlinewidth": 0,
             "ticks": ""
            },
            "colorscale": [
             [
              0,
              "#0d0887"
             ],
             [
              0.1111111111111111,
              "#46039f"
             ],
             [
              0.2222222222222222,
              "#7201a8"
             ],
             [
              0.3333333333333333,
              "#9c179e"
             ],
             [
              0.4444444444444444,
              "#bd3786"
             ],
             [
              0.5555555555555556,
              "#d8576b"
             ],
             [
              0.6666666666666666,
              "#ed7953"
             ],
             [
              0.7777777777777778,
              "#fb9f3a"
             ],
             [
              0.8888888888888888,
              "#fdca26"
             ],
             [
              1,
              "#f0f921"
             ]
            ],
            "type": "contour"
           }
          ],
          "contourcarpet": [
           {
            "colorbar": {
             "outlinewidth": 0,
             "ticks": ""
            },
            "type": "contourcarpet"
           }
          ],
          "heatmap": [
           {
            "colorbar": {
             "outlinewidth": 0,
             "ticks": ""
            },
            "colorscale": [
             [
              0,
              "#0d0887"
             ],
             [
              0.1111111111111111,
              "#46039f"
             ],
             [
              0.2222222222222222,
              "#7201a8"
             ],
             [
              0.3333333333333333,
              "#9c179e"
             ],
             [
              0.4444444444444444,
              "#bd3786"
             ],
             [
              0.5555555555555556,
              "#d8576b"
             ],
             [
              0.6666666666666666,
              "#ed7953"
             ],
             [
              0.7777777777777778,
              "#fb9f3a"
             ],
             [
              0.8888888888888888,
              "#fdca26"
             ],
             [
              1,
              "#f0f921"
             ]
            ],
            "type": "heatmap"
           }
          ],
          "heatmapgl": [
           {
            "colorbar": {
             "outlinewidth": 0,
             "ticks": ""
            },
            "colorscale": [
             [
              0,
              "#0d0887"
             ],
             [
              0.1111111111111111,
              "#46039f"
             ],
             [
              0.2222222222222222,
              "#7201a8"
             ],
             [
              0.3333333333333333,
              "#9c179e"
             ],
             [
              0.4444444444444444,
              "#bd3786"
             ],
             [
              0.5555555555555556,
              "#d8576b"
             ],
             [
              0.6666666666666666,
              "#ed7953"
             ],
             [
              0.7777777777777778,
              "#fb9f3a"
             ],
             [
              0.8888888888888888,
              "#fdca26"
             ],
             [
              1,
              "#f0f921"
             ]
            ],
            "type": "heatmapgl"
           }
          ],
          "histogram": [
           {
            "marker": {
             "pattern": {
              "fillmode": "overlay",
              "size": 10,
              "solidity": 0.2
             }
            },
            "type": "histogram"
           }
          ],
          "histogram2d": [
           {
            "colorbar": {
             "outlinewidth": 0,
             "ticks": ""
            },
            "colorscale": [
             [
              0,
              "#0d0887"
             ],
             [
              0.1111111111111111,
              "#46039f"
             ],
             [
              0.2222222222222222,
              "#7201a8"
             ],
             [
              0.3333333333333333,
              "#9c179e"
             ],
             [
              0.4444444444444444,
              "#bd3786"
             ],
             [
              0.5555555555555556,
              "#d8576b"
             ],
             [
              0.6666666666666666,
              "#ed7953"
             ],
             [
              0.7777777777777778,
              "#fb9f3a"
             ],
             [
              0.8888888888888888,
              "#fdca26"
             ],
             [
              1,
              "#f0f921"
             ]
            ],
            "type": "histogram2d"
           }
          ],
          "histogram2dcontour": [
           {
            "colorbar": {
             "outlinewidth": 0,
             "ticks": ""
            },
            "colorscale": [
             [
              0,
              "#0d0887"
             ],
             [
              0.1111111111111111,
              "#46039f"
             ],
             [
              0.2222222222222222,
              "#7201a8"
             ],
             [
              0.3333333333333333,
              "#9c179e"
             ],
             [
              0.4444444444444444,
              "#bd3786"
             ],
             [
              0.5555555555555556,
              "#d8576b"
             ],
             [
              0.6666666666666666,
              "#ed7953"
             ],
             [
              0.7777777777777778,
              "#fb9f3a"
             ],
             [
              0.8888888888888888,
              "#fdca26"
             ],
             [
              1,
              "#f0f921"
             ]
            ],
            "type": "histogram2dcontour"
           }
          ],
          "mesh3d": [
           {
            "colorbar": {
             "outlinewidth": 0,
             "ticks": ""
            },
            "type": "mesh3d"
           }
          ],
          "parcoords": [
           {
            "line": {
             "colorbar": {
              "outlinewidth": 0,
              "ticks": ""
             }
            },
            "type": "parcoords"
           }
          ],
          "pie": [
           {
            "automargin": true,
            "type": "pie"
           }
          ],
          "scatter": [
           {
            "fillpattern": {
             "fillmode": "overlay",
             "size": 10,
             "solidity": 0.2
            },
            "type": "scatter"
           }
          ],
          "scatter3d": [
           {
            "line": {
             "colorbar": {
              "outlinewidth": 0,
              "ticks": ""
             }
            },
            "marker": {
             "colorbar": {
              "outlinewidth": 0,
              "ticks": ""
             }
            },
            "type": "scatter3d"
           }
          ],
          "scattercarpet": [
           {
            "marker": {
             "colorbar": {
              "outlinewidth": 0,
              "ticks": ""
             }
            },
            "type": "scattercarpet"
           }
          ],
          "scattergeo": [
           {
            "marker": {
             "colorbar": {
              "outlinewidth": 0,
              "ticks": ""
             }
            },
            "type": "scattergeo"
           }
          ],
          "scattergl": [
           {
            "marker": {
             "colorbar": {
              "outlinewidth": 0,
              "ticks": ""
             }
            },
            "type": "scattergl"
           }
          ],
          "scattermapbox": [
           {
            "marker": {
             "colorbar": {
              "outlinewidth": 0,
              "ticks": ""
             }
            },
            "type": "scattermapbox"
           }
          ],
          "scatterpolar": [
           {
            "marker": {
             "colorbar": {
              "outlinewidth": 0,
              "ticks": ""
             }
            },
            "type": "scatterpolar"
           }
          ],
          "scatterpolargl": [
           {
            "marker": {
             "colorbar": {
              "outlinewidth": 0,
              "ticks": ""
             }
            },
            "type": "scatterpolargl"
           }
          ],
          "scatterternary": [
           {
            "marker": {
             "colorbar": {
              "outlinewidth": 0,
              "ticks": ""
             }
            },
            "type": "scatterternary"
           }
          ],
          "surface": [
           {
            "colorbar": {
             "outlinewidth": 0,
             "ticks": ""
            },
            "colorscale": [
             [
              0,
              "#0d0887"
             ],
             [
              0.1111111111111111,
              "#46039f"
             ],
             [
              0.2222222222222222,
              "#7201a8"
             ],
             [
              0.3333333333333333,
              "#9c179e"
             ],
             [
              0.4444444444444444,
              "#bd3786"
             ],
             [
              0.5555555555555556,
              "#d8576b"
             ],
             [
              0.6666666666666666,
              "#ed7953"
             ],
             [
              0.7777777777777778,
              "#fb9f3a"
             ],
             [
              0.8888888888888888,
              "#fdca26"
             ],
             [
              1,
              "#f0f921"
             ]
            ],
            "type": "surface"
           }
          ],
          "table": [
           {
            "cells": {
             "fill": {
              "color": "#EBF0F8"
             },
             "line": {
              "color": "white"
             }
            },
            "header": {
             "fill": {
              "color": "#C8D4E3"
             },
             "line": {
              "color": "white"
             }
            },
            "type": "table"
           }
          ]
         },
         "layout": {
          "annotationdefaults": {
           "arrowcolor": "#2a3f5f",
           "arrowhead": 0,
           "arrowwidth": 1
          },
          "autotypenumbers": "strict",
          "coloraxis": {
           "colorbar": {
            "outlinewidth": 0,
            "ticks": ""
           }
          },
          "colorscale": {
           "diverging": [
            [
             0,
             "#8e0152"
            ],
            [
             0.1,
             "#c51b7d"
            ],
            [
             0.2,
             "#de77ae"
            ],
            [
             0.3,
             "#f1b6da"
            ],
            [
             0.4,
             "#fde0ef"
            ],
            [
             0.5,
             "#f7f7f7"
            ],
            [
             0.6,
             "#e6f5d0"
            ],
            [
             0.7,
             "#b8e186"
            ],
            [
             0.8,
             "#7fbc41"
            ],
            [
             0.9,
             "#4d9221"
            ],
            [
             1,
             "#276419"
            ]
           ],
           "sequential": [
            [
             0,
             "#0d0887"
            ],
            [
             0.1111111111111111,
             "#46039f"
            ],
            [
             0.2222222222222222,
             "#7201a8"
            ],
            [
             0.3333333333333333,
             "#9c179e"
            ],
            [
             0.4444444444444444,
             "#bd3786"
            ],
            [
             0.5555555555555556,
             "#d8576b"
            ],
            [
             0.6666666666666666,
             "#ed7953"
            ],
            [
             0.7777777777777778,
             "#fb9f3a"
            ],
            [
             0.8888888888888888,
             "#fdca26"
            ],
            [
             1,
             "#f0f921"
            ]
           ],
           "sequentialminus": [
            [
             0,
             "#0d0887"
            ],
            [
             0.1111111111111111,
             "#46039f"
            ],
            [
             0.2222222222222222,
             "#7201a8"
            ],
            [
             0.3333333333333333,
             "#9c179e"
            ],
            [
             0.4444444444444444,
             "#bd3786"
            ],
            [
             0.5555555555555556,
             "#d8576b"
            ],
            [
             0.6666666666666666,
             "#ed7953"
            ],
            [
             0.7777777777777778,
             "#fb9f3a"
            ],
            [
             0.8888888888888888,
             "#fdca26"
            ],
            [
             1,
             "#f0f921"
            ]
           ]
          },
          "colorway": [
           "#636efa",
           "#EF553B",
           "#00cc96",
           "#ab63fa",
           "#FFA15A",
           "#19d3f3",
           "#FF6692",
           "#B6E880",
           "#FF97FF",
           "#FECB52"
          ],
          "font": {
           "color": "#2a3f5f"
          },
          "geo": {
           "bgcolor": "white",
           "lakecolor": "white",
           "landcolor": "#E5ECF6",
           "showlakes": true,
           "showland": true,
           "subunitcolor": "white"
          },
          "hoverlabel": {
           "align": "left"
          },
          "hovermode": "closest",
          "mapbox": {
           "style": "light"
          },
          "paper_bgcolor": "white",
          "plot_bgcolor": "#E5ECF6",
          "polar": {
           "angularaxis": {
            "gridcolor": "white",
            "linecolor": "white",
            "ticks": ""
           },
           "bgcolor": "#E5ECF6",
           "radialaxis": {
            "gridcolor": "white",
            "linecolor": "white",
            "ticks": ""
           }
          },
          "scene": {
           "xaxis": {
            "backgroundcolor": "#E5ECF6",
            "gridcolor": "white",
            "gridwidth": 2,
            "linecolor": "white",
            "showbackground": true,
            "ticks": "",
            "zerolinecolor": "white"
           },
           "yaxis": {
            "backgroundcolor": "#E5ECF6",
            "gridcolor": "white",
            "gridwidth": 2,
            "linecolor": "white",
            "showbackground": true,
            "ticks": "",
            "zerolinecolor": "white"
           },
           "zaxis": {
            "backgroundcolor": "#E5ECF6",
            "gridcolor": "white",
            "gridwidth": 2,
            "linecolor": "white",
            "showbackground": true,
            "ticks": "",
            "zerolinecolor": "white"
           }
          },
          "shapedefaults": {
           "line": {
            "color": "#2a3f5f"
           }
          },
          "ternary": {
           "aaxis": {
            "gridcolor": "white",
            "linecolor": "white",
            "ticks": ""
           },
           "baxis": {
            "gridcolor": "white",
            "linecolor": "white",
            "ticks": ""
           },
           "bgcolor": "#E5ECF6",
           "caxis": {
            "gridcolor": "white",
            "linecolor": "white",
            "ticks": ""
           }
          },
          "title": {
           "x": 0.05
          },
          "xaxis": {
           "automargin": true,
           "gridcolor": "white",
           "linecolor": "white",
           "ticks": "",
           "title": {
            "standoff": 15
           },
           "zerolinecolor": "white",
           "zerolinewidth": 2
          },
          "yaxis": {
           "automargin": true,
           "gridcolor": "white",
           "linecolor": "white",
           "ticks": "",
           "title": {
            "standoff": 15
           },
           "zerolinecolor": "white",
           "zerolinewidth": 2
          }
         }
        },
        "title": {
         "font": {
          "size": 18
         },
         "text": "SALES PER WEEK",
         "x": 0.1,
         "y": 0.9
        },
        "width": 700,
        "xaxis": {
         "linecolor": "rgba(169, 169, 169, 1)",
         "linewidth": 1,
         "showline": true
        },
        "yaxis": {
         "title": {
          "text": "UNITS SOLD"
         }
        }
       }
      }
     },
     "metadata": {},
     "output_type": "display_data"
    }
   ],
   "source": [
    "product = 'ALL'\n",
    "step = 'week'\n",
    "\n",
    "df_product, df_dates = product_over_year(df_vendas, product, step)\n",
    "plot_product_over_year(df_product, product, step)"
   ]
  },
  {
   "cell_type": "code",
   "execution_count": 12,
   "metadata": {},
   "outputs": [
    {
     "data": {
      "application/vnd.plotly.v1+json": {
       "config": {
        "plotlyServerURL": "https://plotly.com"
       },
       "data": [
        {
         "line": {
          "color": "rgb(114, 172, 77)",
          "width": 3
         },
         "mode": "lines",
         "type": "scatter",
         "x": [
          "2017-03-31",
          "2017-04-07",
          "2017-04-14",
          "2017-04-21",
          "2017-04-28",
          "2017-05-05",
          "2017-05-12",
          "2017-05-19",
          "2017-05-26",
          "2017-06-02",
          "2017-06-09",
          "2017-06-16",
          "2017-06-23",
          "2017-06-30",
          "2017-07-07",
          "2017-07-14",
          "2017-07-21",
          "2017-07-28",
          "2017-08-04",
          "2017-08-11",
          "2017-08-18",
          "2017-08-25",
          "2017-09-01",
          "2017-09-08",
          "2017-09-15",
          "2017-09-22",
          "2017-09-29",
          "2017-10-06",
          "2017-10-13",
          "2017-10-20",
          "2017-10-27",
          "2017-11-03",
          "2017-11-10",
          "2017-11-17",
          "2017-11-24",
          "2017-12-01",
          "2017-12-08",
          "2017-12-15",
          "2017-12-22",
          "2017-12-29",
          "2018-01-05",
          "2018-01-12",
          "2018-01-19",
          "2018-01-26",
          "2018-02-02",
          "2018-02-09",
          "2018-02-16",
          "2018-02-23",
          "2018-03-02",
          "2018-03-09",
          "2018-03-16",
          "2018-03-23",
          "2018-03-30",
          "2018-04-06",
          "2018-04-13",
          "2018-04-20",
          "2018-04-27",
          "2018-05-04",
          "2018-05-11",
          "2018-05-18",
          "2018-05-25",
          "2018-06-01",
          "2018-06-08",
          "2018-06-15",
          "2018-06-22",
          "2018-06-29",
          "2018-07-06",
          "2018-07-13",
          "2018-07-20",
          "2018-07-27",
          "2018-08-03",
          "2018-08-10",
          "2018-08-17",
          "2018-08-24",
          "2018-08-31",
          "2018-09-07",
          "2018-09-14",
          "2018-09-21",
          "2018-09-28",
          "2018-10-05",
          "2018-10-12",
          "2018-10-19",
          "2018-10-26",
          "2018-11-02",
          "2018-11-09",
          "2018-11-16",
          "2018-11-23",
          "2018-11-30",
          "2018-12-07",
          "2018-12-14",
          "2018-12-21",
          "2018-12-28",
          "2019-01-04",
          "2019-01-11",
          "2019-01-18",
          "2019-01-25",
          "2019-02-01",
          "2019-02-08",
          "2019-02-15",
          "2019-02-22",
          "2019-03-01",
          "2019-03-08",
          "2019-03-15",
          "2019-03-22",
          "2019-03-29",
          "2019-04-05",
          "2019-04-12",
          "2019-04-19",
          "2019-04-26",
          "2019-05-03",
          "2019-05-10",
          "2019-05-17",
          "2019-05-24",
          "2019-05-31",
          "2019-06-07",
          "2019-06-14",
          "2019-06-21",
          "2019-06-28",
          "2019-07-05",
          "2019-07-12",
          "2019-07-19",
          "2019-07-26",
          "2019-08-02",
          "2019-08-09",
          "2019-08-16",
          "2019-08-23",
          "2019-08-30",
          "2019-09-06",
          "2019-09-13",
          "2019-09-20",
          "2019-09-27",
          "2019-10-04",
          "2019-10-11",
          "2019-10-18",
          "2019-10-25",
          "2019-11-01",
          "2019-11-08",
          "2019-11-15",
          "2019-11-22",
          "2019-11-29",
          "2019-12-06",
          "2019-12-13",
          "2019-12-20",
          "2019-12-27",
          "2020-01-03",
          "2020-01-10",
          "2020-01-17",
          "2020-01-24",
          "2020-01-31",
          "2020-02-07",
          "2020-02-14",
          "2020-02-21",
          "2020-02-28",
          "2020-03-06",
          "2020-03-13",
          "2020-03-20",
          "2020-03-27",
          "2020-04-03",
          "2020-04-10",
          "2020-04-17",
          "2020-04-24",
          "2020-05-01",
          "2020-05-08",
          "2020-05-15",
          "2020-05-29",
          "2020-06-05",
          "2020-06-12",
          "2020-06-19",
          "2020-06-26",
          "2020-07-03",
          "2020-07-10",
          "2020-07-17",
          "2020-07-24",
          "2020-07-31",
          "2020-08-07",
          "2020-08-14",
          "2020-08-21",
          "2020-08-28",
          "2020-09-04",
          "2020-09-11",
          "2020-09-18",
          "2020-09-25",
          "2020-10-02",
          "2020-10-09",
          "2020-10-16",
          "2020-10-23",
          "2020-10-30",
          "2020-11-06",
          "2020-11-13",
          "2020-11-20",
          "2020-11-27",
          "2020-12-04",
          "2020-12-11",
          "2020-12-18",
          "2020-12-25",
          "2021-01-01",
          "2021-01-08",
          "2021-01-15",
          "2021-01-22",
          "2021-01-29",
          "2021-02-05",
          "2021-02-12",
          "2021-02-19",
          "2021-02-26",
          "2021-03-05",
          "2021-03-12",
          "2021-03-19",
          "2021-03-26",
          "2021-04-02",
          "2021-04-09",
          "2021-04-16",
          "2021-04-23",
          "2021-04-30",
          "2021-05-07",
          "2021-05-14",
          "2021-05-21",
          "2021-05-28",
          "2021-06-04",
          "2021-06-11",
          "2021-06-18",
          "2021-06-25",
          "2021-07-02",
          "2021-07-09",
          "2021-07-16",
          "2021-07-23",
          "2021-07-30",
          "2021-08-06",
          "2021-08-13",
          "2021-08-20",
          "2021-08-27",
          "2021-09-03",
          "2021-09-10",
          "2021-09-17",
          "2021-09-24",
          "2021-10-01",
          "2021-10-08",
          "2021-10-15",
          "2021-10-22",
          "2021-10-29",
          "2021-11-05",
          "2021-11-12",
          "2021-11-19",
          "2021-11-26",
          "2021-12-03",
          "2021-12-10",
          "2021-12-17",
          "2021-12-24",
          "2021-12-31",
          "2022-01-07",
          "2022-01-14",
          "2022-01-21",
          "2022-01-28",
          "2022-02-04",
          "2022-02-11",
          "2022-02-18",
          "2022-02-25",
          "2022-03-04",
          "2022-03-11",
          "2022-03-18",
          "2022-03-25",
          "2022-04-01",
          "2022-04-08",
          "2022-04-15",
          "2022-04-22",
          "2022-04-29",
          "2022-05-06",
          "2022-05-13",
          "2022-05-20",
          "2022-05-27",
          "2022-06-03",
          "2022-06-10",
          "2022-06-17",
          "2022-06-24",
          "2022-07-01",
          "2022-07-08",
          "2022-07-15",
          "2022-07-22",
          "2022-07-29",
          "2022-08-05",
          "2022-08-12",
          "2022-08-19",
          "2022-08-26",
          "2022-09-02",
          "2022-09-09",
          "2022-09-16",
          "2022-09-23",
          "2022-09-30",
          "2022-10-07",
          "2022-10-14",
          "2022-10-21",
          "2022-10-28",
          "2022-11-04",
          "2022-11-11",
          "2022-11-18",
          "2022-11-25",
          "2022-12-02",
          "2022-12-09",
          "2022-12-16",
          "2022-12-23",
          "2022-12-30",
          "2023-01-06",
          "2023-01-13",
          "2023-01-20",
          "2023-01-27",
          "2023-02-03",
          "2023-02-10",
          "2023-02-17",
          "2023-02-24",
          "2023-03-03",
          "2023-03-10",
          "2023-03-17",
          "2023-03-24",
          "2023-03-31",
          "2023-04-07",
          "2023-04-14",
          "2023-04-21",
          "2023-04-28",
          "2023-05-05",
          "2023-05-12",
          "2023-05-19"
         ],
         "y": [
          155,
          278,
          245,
          215,
          322,
          302,
          395,
          267,
          363,
          309,
          368,
          270,
          336,
          295,
          386,
          532,
          267,
          316,
          421,
          396,
          412,
          436,
          377,
          406,
          490,
          276,
          361,
          622,
          254,
          405,
          274,
          299,
          375,
          250,
          331,
          326,
          405,
          392,
          295,
          233,
          278,
          378,
          392,
          412,
          242,
          398,
          191,
          653,
          505,
          236,
          560,
          518,
          228,
          323,
          385,
          422,
          380,
          351,
          305,
          202,
          177,
          171,
          181,
          181,
          152,
          152,
          222,
          226,
          212,
          220,
          352,
          286,
          174,
          377,
          188,
          233,
          333,
          244,
          307,
          188,
          272,
          191,
          301,
          174,
          255,
          157,
          208,
          234,
          199,
          159,
          161,
          240,
          111,
          252,
          250,
          292,
          218,
          270,
          371,
          335,
          143,
          65,
          294,
          265,
          125,
          286,
          179,
          173,
          293,
          142,
          258,
          334,
          179,
          189,
          263,
          125,
          207,
          137,
          219,
          133,
          275,
          117,
          359,
          301,
          270,
          195,
          192,
          208,
          205,
          220,
          325,
          230,
          204,
          213,
          205,
          194,
          167,
          128,
          181,
          179,
          265,
          303,
          248,
          43,
          122,
          222,
          163,
          304,
          313,
          195,
          243,
          119,
          52,
          212,
          281,
          151,
          8,
          15,
          6,
          9,
          64,
          32,
          41,
          110,
          2,
          99,
          118,
          51,
          70,
          229,
          116,
          152,
          184,
          179,
          127,
          131,
          189,
          186,
          358,
          144,
          148,
          141,
          273,
          122,
          67,
          224,
          82,
          92,
          161,
          178,
          162,
          89,
          73,
          98,
          44,
          26,
          125,
          271,
          159,
          122,
          148,
          113,
          88,
          74,
          157,
          148,
          106,
          32,
          313,
          73,
          148,
          162,
          132,
          125,
          68,
          131,
          98,
          112,
          105,
          117,
          122,
          211,
          129,
          120,
          109,
          168,
          113,
          166,
          96,
          127,
          167,
          97,
          108,
          93,
          199,
          179,
          144,
          181,
          144,
          82,
          161,
          108,
          85,
          136,
          117,
          106,
          88,
          39,
          141,
          109,
          193,
          154,
          187,
          180,
          277,
          178,
          82,
          122,
          318,
          93,
          153,
          130,
          84,
          72,
          89,
          221,
          143,
          94,
          77,
          48,
          145,
          90,
          42,
          36,
          208,
          141,
          52,
          113,
          87,
          103,
          178,
          115,
          98,
          81,
          73,
          79,
          80,
          63,
          56,
          72,
          201,
          189,
          102,
          80,
          54,
          71,
          38,
          106,
          80,
          67,
          104,
          84,
          47,
          116,
          89,
          56,
          83,
          33,
          109,
          79,
          124,
          97,
          68,
          54,
          116,
          80,
          101,
          143,
          65,
          82
         ]
        }
       ],
       "layout": {
        "annotations": [
         {
          "font": {
           "color": "rgb(114, 172, 77)",
           "size": 15
          },
          "showarrow": false,
          "text": "POLASEAL",
          "x": 0.02,
          "xref": "paper",
          "y": 1.2,
          "yref": "paper"
         }
        ],
        "height": 500,
        "margin": {
         "b": 50,
         "l": 10,
         "r": 10,
         "t": 150
        },
        "plot_bgcolor": "rgba(0,0,0,0)",
        "template": {
         "data": {
          "bar": [
           {
            "error_x": {
             "color": "#2a3f5f"
            },
            "error_y": {
             "color": "#2a3f5f"
            },
            "marker": {
             "line": {
              "color": "#E5ECF6",
              "width": 0.5
             },
             "pattern": {
              "fillmode": "overlay",
              "size": 10,
              "solidity": 0.2
             }
            },
            "type": "bar"
           }
          ],
          "barpolar": [
           {
            "marker": {
             "line": {
              "color": "#E5ECF6",
              "width": 0.5
             },
             "pattern": {
              "fillmode": "overlay",
              "size": 10,
              "solidity": 0.2
             }
            },
            "type": "barpolar"
           }
          ],
          "carpet": [
           {
            "aaxis": {
             "endlinecolor": "#2a3f5f",
             "gridcolor": "white",
             "linecolor": "white",
             "minorgridcolor": "white",
             "startlinecolor": "#2a3f5f"
            },
            "baxis": {
             "endlinecolor": "#2a3f5f",
             "gridcolor": "white",
             "linecolor": "white",
             "minorgridcolor": "white",
             "startlinecolor": "#2a3f5f"
            },
            "type": "carpet"
           }
          ],
          "choropleth": [
           {
            "colorbar": {
             "outlinewidth": 0,
             "ticks": ""
            },
            "type": "choropleth"
           }
          ],
          "contour": [
           {
            "colorbar": {
             "outlinewidth": 0,
             "ticks": ""
            },
            "colorscale": [
             [
              0,
              "#0d0887"
             ],
             [
              0.1111111111111111,
              "#46039f"
             ],
             [
              0.2222222222222222,
              "#7201a8"
             ],
             [
              0.3333333333333333,
              "#9c179e"
             ],
             [
              0.4444444444444444,
              "#bd3786"
             ],
             [
              0.5555555555555556,
              "#d8576b"
             ],
             [
              0.6666666666666666,
              "#ed7953"
             ],
             [
              0.7777777777777778,
              "#fb9f3a"
             ],
             [
              0.8888888888888888,
              "#fdca26"
             ],
             [
              1,
              "#f0f921"
             ]
            ],
            "type": "contour"
           }
          ],
          "contourcarpet": [
           {
            "colorbar": {
             "outlinewidth": 0,
             "ticks": ""
            },
            "type": "contourcarpet"
           }
          ],
          "heatmap": [
           {
            "colorbar": {
             "outlinewidth": 0,
             "ticks": ""
            },
            "colorscale": [
             [
              0,
              "#0d0887"
             ],
             [
              0.1111111111111111,
              "#46039f"
             ],
             [
              0.2222222222222222,
              "#7201a8"
             ],
             [
              0.3333333333333333,
              "#9c179e"
             ],
             [
              0.4444444444444444,
              "#bd3786"
             ],
             [
              0.5555555555555556,
              "#d8576b"
             ],
             [
              0.6666666666666666,
              "#ed7953"
             ],
             [
              0.7777777777777778,
              "#fb9f3a"
             ],
             [
              0.8888888888888888,
              "#fdca26"
             ],
             [
              1,
              "#f0f921"
             ]
            ],
            "type": "heatmap"
           }
          ],
          "heatmapgl": [
           {
            "colorbar": {
             "outlinewidth": 0,
             "ticks": ""
            },
            "colorscale": [
             [
              0,
              "#0d0887"
             ],
             [
              0.1111111111111111,
              "#46039f"
             ],
             [
              0.2222222222222222,
              "#7201a8"
             ],
             [
              0.3333333333333333,
              "#9c179e"
             ],
             [
              0.4444444444444444,
              "#bd3786"
             ],
             [
              0.5555555555555556,
              "#d8576b"
             ],
             [
              0.6666666666666666,
              "#ed7953"
             ],
             [
              0.7777777777777778,
              "#fb9f3a"
             ],
             [
              0.8888888888888888,
              "#fdca26"
             ],
             [
              1,
              "#f0f921"
             ]
            ],
            "type": "heatmapgl"
           }
          ],
          "histogram": [
           {
            "marker": {
             "pattern": {
              "fillmode": "overlay",
              "size": 10,
              "solidity": 0.2
             }
            },
            "type": "histogram"
           }
          ],
          "histogram2d": [
           {
            "colorbar": {
             "outlinewidth": 0,
             "ticks": ""
            },
            "colorscale": [
             [
              0,
              "#0d0887"
             ],
             [
              0.1111111111111111,
              "#46039f"
             ],
             [
              0.2222222222222222,
              "#7201a8"
             ],
             [
              0.3333333333333333,
              "#9c179e"
             ],
             [
              0.4444444444444444,
              "#bd3786"
             ],
             [
              0.5555555555555556,
              "#d8576b"
             ],
             [
              0.6666666666666666,
              "#ed7953"
             ],
             [
              0.7777777777777778,
              "#fb9f3a"
             ],
             [
              0.8888888888888888,
              "#fdca26"
             ],
             [
              1,
              "#f0f921"
             ]
            ],
            "type": "histogram2d"
           }
          ],
          "histogram2dcontour": [
           {
            "colorbar": {
             "outlinewidth": 0,
             "ticks": ""
            },
            "colorscale": [
             [
              0,
              "#0d0887"
             ],
             [
              0.1111111111111111,
              "#46039f"
             ],
             [
              0.2222222222222222,
              "#7201a8"
             ],
             [
              0.3333333333333333,
              "#9c179e"
             ],
             [
              0.4444444444444444,
              "#bd3786"
             ],
             [
              0.5555555555555556,
              "#d8576b"
             ],
             [
              0.6666666666666666,
              "#ed7953"
             ],
             [
              0.7777777777777778,
              "#fb9f3a"
             ],
             [
              0.8888888888888888,
              "#fdca26"
             ],
             [
              1,
              "#f0f921"
             ]
            ],
            "type": "histogram2dcontour"
           }
          ],
          "mesh3d": [
           {
            "colorbar": {
             "outlinewidth": 0,
             "ticks": ""
            },
            "type": "mesh3d"
           }
          ],
          "parcoords": [
           {
            "line": {
             "colorbar": {
              "outlinewidth": 0,
              "ticks": ""
             }
            },
            "type": "parcoords"
           }
          ],
          "pie": [
           {
            "automargin": true,
            "type": "pie"
           }
          ],
          "scatter": [
           {
            "fillpattern": {
             "fillmode": "overlay",
             "size": 10,
             "solidity": 0.2
            },
            "type": "scatter"
           }
          ],
          "scatter3d": [
           {
            "line": {
             "colorbar": {
              "outlinewidth": 0,
              "ticks": ""
             }
            },
            "marker": {
             "colorbar": {
              "outlinewidth": 0,
              "ticks": ""
             }
            },
            "type": "scatter3d"
           }
          ],
          "scattercarpet": [
           {
            "marker": {
             "colorbar": {
              "outlinewidth": 0,
              "ticks": ""
             }
            },
            "type": "scattercarpet"
           }
          ],
          "scattergeo": [
           {
            "marker": {
             "colorbar": {
              "outlinewidth": 0,
              "ticks": ""
             }
            },
            "type": "scattergeo"
           }
          ],
          "scattergl": [
           {
            "marker": {
             "colorbar": {
              "outlinewidth": 0,
              "ticks": ""
             }
            },
            "type": "scattergl"
           }
          ],
          "scattermapbox": [
           {
            "marker": {
             "colorbar": {
              "outlinewidth": 0,
              "ticks": ""
             }
            },
            "type": "scattermapbox"
           }
          ],
          "scatterpolar": [
           {
            "marker": {
             "colorbar": {
              "outlinewidth": 0,
              "ticks": ""
             }
            },
            "type": "scatterpolar"
           }
          ],
          "scatterpolargl": [
           {
            "marker": {
             "colorbar": {
              "outlinewidth": 0,
              "ticks": ""
             }
            },
            "type": "scatterpolargl"
           }
          ],
          "scatterternary": [
           {
            "marker": {
             "colorbar": {
              "outlinewidth": 0,
              "ticks": ""
             }
            },
            "type": "scatterternary"
           }
          ],
          "surface": [
           {
            "colorbar": {
             "outlinewidth": 0,
             "ticks": ""
            },
            "colorscale": [
             [
              0,
              "#0d0887"
             ],
             [
              0.1111111111111111,
              "#46039f"
             ],
             [
              0.2222222222222222,
              "#7201a8"
             ],
             [
              0.3333333333333333,
              "#9c179e"
             ],
             [
              0.4444444444444444,
              "#bd3786"
             ],
             [
              0.5555555555555556,
              "#d8576b"
             ],
             [
              0.6666666666666666,
              "#ed7953"
             ],
             [
              0.7777777777777778,
              "#fb9f3a"
             ],
             [
              0.8888888888888888,
              "#fdca26"
             ],
             [
              1,
              "#f0f921"
             ]
            ],
            "type": "surface"
           }
          ],
          "table": [
           {
            "cells": {
             "fill": {
              "color": "#EBF0F8"
             },
             "line": {
              "color": "white"
             }
            },
            "header": {
             "fill": {
              "color": "#C8D4E3"
             },
             "line": {
              "color": "white"
             }
            },
            "type": "table"
           }
          ]
         },
         "layout": {
          "annotationdefaults": {
           "arrowcolor": "#2a3f5f",
           "arrowhead": 0,
           "arrowwidth": 1
          },
          "autotypenumbers": "strict",
          "coloraxis": {
           "colorbar": {
            "outlinewidth": 0,
            "ticks": ""
           }
          },
          "colorscale": {
           "diverging": [
            [
             0,
             "#8e0152"
            ],
            [
             0.1,
             "#c51b7d"
            ],
            [
             0.2,
             "#de77ae"
            ],
            [
             0.3,
             "#f1b6da"
            ],
            [
             0.4,
             "#fde0ef"
            ],
            [
             0.5,
             "#f7f7f7"
            ],
            [
             0.6,
             "#e6f5d0"
            ],
            [
             0.7,
             "#b8e186"
            ],
            [
             0.8,
             "#7fbc41"
            ],
            [
             0.9,
             "#4d9221"
            ],
            [
             1,
             "#276419"
            ]
           ],
           "sequential": [
            [
             0,
             "#0d0887"
            ],
            [
             0.1111111111111111,
             "#46039f"
            ],
            [
             0.2222222222222222,
             "#7201a8"
            ],
            [
             0.3333333333333333,
             "#9c179e"
            ],
            [
             0.4444444444444444,
             "#bd3786"
            ],
            [
             0.5555555555555556,
             "#d8576b"
            ],
            [
             0.6666666666666666,
             "#ed7953"
            ],
            [
             0.7777777777777778,
             "#fb9f3a"
            ],
            [
             0.8888888888888888,
             "#fdca26"
            ],
            [
             1,
             "#f0f921"
            ]
           ],
           "sequentialminus": [
            [
             0,
             "#0d0887"
            ],
            [
             0.1111111111111111,
             "#46039f"
            ],
            [
             0.2222222222222222,
             "#7201a8"
            ],
            [
             0.3333333333333333,
             "#9c179e"
            ],
            [
             0.4444444444444444,
             "#bd3786"
            ],
            [
             0.5555555555555556,
             "#d8576b"
            ],
            [
             0.6666666666666666,
             "#ed7953"
            ],
            [
             0.7777777777777778,
             "#fb9f3a"
            ],
            [
             0.8888888888888888,
             "#fdca26"
            ],
            [
             1,
             "#f0f921"
            ]
           ]
          },
          "colorway": [
           "#636efa",
           "#EF553B",
           "#00cc96",
           "#ab63fa",
           "#FFA15A",
           "#19d3f3",
           "#FF6692",
           "#B6E880",
           "#FF97FF",
           "#FECB52"
          ],
          "font": {
           "color": "#2a3f5f"
          },
          "geo": {
           "bgcolor": "white",
           "lakecolor": "white",
           "landcolor": "#E5ECF6",
           "showlakes": true,
           "showland": true,
           "subunitcolor": "white"
          },
          "hoverlabel": {
           "align": "left"
          },
          "hovermode": "closest",
          "mapbox": {
           "style": "light"
          },
          "paper_bgcolor": "white",
          "plot_bgcolor": "#E5ECF6",
          "polar": {
           "angularaxis": {
            "gridcolor": "white",
            "linecolor": "white",
            "ticks": ""
           },
           "bgcolor": "#E5ECF6",
           "radialaxis": {
            "gridcolor": "white",
            "linecolor": "white",
            "ticks": ""
           }
          },
          "scene": {
           "xaxis": {
            "backgroundcolor": "#E5ECF6",
            "gridcolor": "white",
            "gridwidth": 2,
            "linecolor": "white",
            "showbackground": true,
            "ticks": "",
            "zerolinecolor": "white"
           },
           "yaxis": {
            "backgroundcolor": "#E5ECF6",
            "gridcolor": "white",
            "gridwidth": 2,
            "linecolor": "white",
            "showbackground": true,
            "ticks": "",
            "zerolinecolor": "white"
           },
           "zaxis": {
            "backgroundcolor": "#E5ECF6",
            "gridcolor": "white",
            "gridwidth": 2,
            "linecolor": "white",
            "showbackground": true,
            "ticks": "",
            "zerolinecolor": "white"
           }
          },
          "shapedefaults": {
           "line": {
            "color": "#2a3f5f"
           }
          },
          "ternary": {
           "aaxis": {
            "gridcolor": "white",
            "linecolor": "white",
            "ticks": ""
           },
           "baxis": {
            "gridcolor": "white",
            "linecolor": "white",
            "ticks": ""
           },
           "bgcolor": "#E5ECF6",
           "caxis": {
            "gridcolor": "white",
            "linecolor": "white",
            "ticks": ""
           }
          },
          "title": {
           "x": 0.05
          },
          "xaxis": {
           "automargin": true,
           "gridcolor": "white",
           "linecolor": "white",
           "ticks": "",
           "title": {
            "standoff": 15
           },
           "zerolinecolor": "white",
           "zerolinewidth": 2
          },
          "yaxis": {
           "automargin": true,
           "gridcolor": "white",
           "linecolor": "white",
           "ticks": "",
           "title": {
            "standoff": 15
           },
           "zerolinecolor": "white",
           "zerolinewidth": 2
          }
         }
        },
        "title": {
         "font": {
          "size": 18
         },
         "text": "SALES PER WEEK",
         "x": 0.1,
         "y": 0.9
        },
        "width": 700,
        "xaxis": {
         "linecolor": "rgba(169, 169, 169, 1)",
         "linewidth": 1,
         "showline": true
        },
        "yaxis": {
         "title": {
          "text": "UNITS SOLD"
         }
        }
       }
      }
     },
     "metadata": {},
     "output_type": "display_data"
    }
   ],
   "source": [
    "product = 'POLASEAL'\n",
    "step = 'week'\n",
    "\n",
    "df_product, df_dates = product_over_year(df_vendas, product, step)\n",
    "plot_product_over_year(df_product, product, step)"
   ]
  },
  {
   "cell_type": "code",
   "execution_count": 31,
   "metadata": {},
   "outputs": [
    {
     "data": {
      "application/vnd.plotly.v1+json": {
       "config": {
        "plotlyServerURL": "https://plotly.com"
       },
       "data": [
        {
         "line": {
          "color": "rgb(114, 172, 77)",
          "width": 3
         },
         "mode": "lines",
         "type": "scatter",
         "x": [
          "2017-03-31",
          "2017-04-07",
          "2017-04-14",
          "2017-04-21",
          "2017-04-28",
          "2017-05-05",
          "2017-05-12",
          "2017-05-19",
          "2017-05-26",
          "2017-06-02",
          "2017-06-09",
          "2017-06-16",
          "2017-06-23",
          "2017-06-30",
          "2017-07-07",
          "2017-07-14",
          "2017-07-21",
          "2017-07-28",
          "2017-08-04",
          "2017-08-11",
          "2017-08-18",
          "2017-08-25",
          "2017-09-01",
          "2017-09-08",
          "2017-09-15",
          "2017-09-22",
          "2017-09-29",
          "2017-10-06",
          "2017-10-13",
          "2017-10-20",
          "2017-10-27",
          "2017-11-03",
          "2017-11-10",
          "2017-11-17",
          "2017-11-24",
          "2017-12-01",
          "2017-12-08",
          "2017-12-15",
          "2017-12-22",
          "2017-12-29",
          "2018-01-05",
          "2018-01-12",
          "2018-01-19",
          "2018-01-26",
          "2018-02-02",
          "2018-02-09",
          "2018-02-16",
          "2018-02-23",
          "2018-03-02",
          "2018-03-09",
          "2018-03-16",
          "2018-03-23",
          "2018-03-30",
          "2018-04-06",
          "2018-04-13",
          "2018-04-20",
          "2018-04-27",
          "2018-05-04",
          "2018-05-11",
          "2018-05-18",
          "2018-05-25",
          "2018-06-01",
          "2018-06-08",
          "2018-06-15",
          "2018-06-22",
          "2018-06-29",
          "2018-07-06",
          "2018-07-13",
          "2018-07-20",
          "2018-07-27",
          "2018-08-03",
          "2018-08-10",
          "2018-08-17",
          "2018-08-24",
          "2018-08-31",
          "2018-09-07",
          "2018-09-14",
          "2018-09-21",
          "2018-09-28",
          "2018-10-05",
          "2018-10-12",
          "2018-10-19",
          "2018-10-26",
          "2018-11-02",
          "2018-11-09",
          "2018-11-16",
          "2018-11-23",
          "2018-11-30",
          "2018-12-07",
          "2018-12-14",
          "2018-12-21",
          "2018-12-28",
          "2019-01-04",
          "2019-01-11",
          "2019-01-18",
          "2019-01-25",
          "2019-02-01",
          "2019-02-08",
          "2019-02-15",
          "2019-02-22",
          "2019-03-01",
          "2019-03-08",
          "2019-03-15",
          "2019-03-22",
          "2019-03-29",
          "2019-04-05",
          "2019-04-12",
          "2019-04-19",
          "2019-04-26",
          "2019-05-03",
          "2019-05-10",
          "2019-05-17",
          "2019-05-24",
          "2019-05-31",
          "2019-06-07",
          "2019-06-14",
          "2019-06-21",
          "2019-06-28",
          "2019-07-05",
          "2019-07-12",
          "2019-07-19",
          "2019-07-26",
          "2019-08-02",
          "2019-08-09",
          "2019-08-16",
          "2019-08-23",
          "2019-08-30",
          "2019-09-06",
          "2019-09-13",
          "2019-09-20",
          "2019-09-27",
          "2019-10-04",
          "2019-10-11",
          "2019-10-18",
          "2019-10-25",
          "2019-11-01",
          "2019-11-08",
          "2019-11-15",
          "2019-11-22",
          "2019-11-29",
          "2019-12-06",
          "2019-12-13",
          "2019-12-20",
          "2019-12-27",
          "2020-01-03",
          "2020-01-10",
          "2020-01-17",
          "2020-01-24",
          "2020-01-31",
          "2020-02-07",
          "2020-02-14",
          "2020-02-21",
          "2020-02-28",
          "2020-03-06",
          "2020-03-13",
          "2020-03-20",
          "2020-04-03",
          "2020-04-10",
          "2020-04-17",
          "2020-05-08",
          "2020-05-15",
          "2020-06-05",
          "2020-06-12",
          "2020-06-19",
          "2020-06-26",
          "2020-07-03",
          "2020-07-10",
          "2020-07-17",
          "2020-07-24",
          "2020-07-31",
          "2020-08-07",
          "2020-08-14",
          "2020-08-21",
          "2020-08-28",
          "2020-09-04",
          "2020-09-11",
          "2020-09-18",
          "2020-09-25",
          "2020-10-02",
          "2020-10-09",
          "2020-10-16",
          "2020-10-23",
          "2020-10-30",
          "2020-11-06",
          "2020-11-13",
          "2020-11-20",
          "2020-11-27",
          "2020-12-04",
          "2020-12-11",
          "2020-12-18",
          "2020-12-25",
          "2021-01-01",
          "2021-01-08",
          "2021-01-15",
          "2021-01-22",
          "2021-01-29",
          "2021-02-05",
          "2021-02-12",
          "2021-02-19",
          "2021-02-26",
          "2021-03-05",
          "2021-03-12",
          "2021-03-19",
          "2021-03-26",
          "2021-04-02",
          "2021-04-09",
          "2021-04-16",
          "2021-04-23",
          "2021-04-30",
          "2021-05-07",
          "2021-05-14",
          "2021-05-21",
          "2021-05-28",
          "2021-06-04",
          "2021-06-11",
          "2021-06-18",
          "2021-06-25",
          "2021-07-02",
          "2021-07-09",
          "2021-07-16",
          "2021-07-23",
          "2021-07-30",
          "2021-08-06",
          "2021-08-13",
          "2021-08-20",
          "2021-08-27",
          "2021-09-03",
          "2021-09-10",
          "2021-09-17",
          "2021-09-24",
          "2021-10-01",
          "2021-10-08",
          "2021-10-15",
          "2021-10-22",
          "2021-10-29",
          "2021-11-05",
          "2021-11-12",
          "2021-11-19",
          "2021-11-26",
          "2021-12-03",
          "2021-12-10",
          "2021-12-17",
          "2021-12-24",
          "2021-12-31",
          "2022-01-07",
          "2022-01-14",
          "2022-01-21",
          "2022-01-28",
          "2022-02-04",
          "2022-02-11",
          "2022-02-18",
          "2022-02-25",
          "2022-03-04",
          "2022-03-11",
          "2022-03-18",
          "2022-03-25",
          "2022-04-01",
          "2022-04-08",
          "2022-04-15",
          "2022-04-22",
          "2022-04-29",
          "2022-05-06",
          "2022-05-13",
          "2022-05-20",
          "2022-05-27",
          "2022-06-03",
          "2022-06-10",
          "2022-06-17",
          "2022-06-24",
          "2022-07-01",
          "2022-07-08",
          "2022-07-15",
          "2022-07-22",
          "2022-07-29",
          "2022-08-05",
          "2022-08-12",
          "2022-08-19",
          "2022-08-26",
          "2022-09-02",
          "2022-09-09",
          "2022-09-16",
          "2022-09-23",
          "2022-09-30",
          "2022-10-07",
          "2022-10-14",
          "2022-10-21",
          "2022-10-28",
          "2022-11-04",
          "2022-11-11",
          "2022-11-18",
          "2022-11-25",
          "2022-12-02",
          "2022-12-09",
          "2022-12-16",
          "2022-12-23",
          "2022-12-30",
          "2023-01-06",
          "2023-01-13",
          "2023-01-20",
          "2023-01-27",
          "2023-02-03",
          "2023-02-10",
          "2023-02-17",
          "2023-02-24",
          "2023-03-03",
          "2023-03-10",
          "2023-03-17",
          "2023-03-24",
          "2023-03-31",
          "2023-04-07",
          "2023-04-14",
          "2023-04-21",
          "2023-04-28",
          "2023-05-05",
          "2023-05-12",
          "2023-05-19"
         ],
         "y": [
          13,
          14,
          7,
          11,
          6,
          9,
          13,
          15,
          12,
          3,
          20,
          8,
          3,
          9,
          29,
          16,
          9,
          10,
          10,
          20,
          19,
          3,
          14,
          33,
          8,
          23,
          14,
          24,
          5,
          15,
          28,
          17,
          15,
          26,
          45,
          70,
          54,
          67,
          66,
          43,
          27,
          35,
          34,
          39,
          45,
          34,
          16,
          22,
          10,
          15,
          15,
          6,
          2,
          19,
          11,
          7,
          20,
          5,
          19,
          19,
          15,
          14,
          19,
          19,
          5,
          7,
          9,
          8,
          10,
          18,
          17,
          25,
          6,
          10,
          13,
          10,
          7,
          36,
          8,
          16,
          15,
          22,
          29,
          21,
          26,
          14,
          30,
          50,
          57,
          63,
          74,
          29,
          8,
          25,
          30,
          40,
          31,
          38,
          22,
          17,
          11,
          4,
          14,
          21,
          18,
          6,
          18,
          32,
          12,
          7,
          10,
          17,
          11,
          14,
          11,
          9,
          4,
          6,
          11,
          7,
          6,
          12,
          6,
          9,
          5,
          15,
          15,
          14,
          11,
          16,
          13,
          22,
          11,
          25,
          25,
          17,
          20,
          21,
          25,
          45,
          56,
          37,
          65,
          27,
          15,
          33,
          50,
          32,
          13,
          36,
          27,
          4,
          11,
          17,
          15,
          7,
          1,
          1,
          1,
          1,
          6,
          4,
          11,
          3,
          5,
          15,
          4,
          4,
          14,
          13,
          4,
          2,
          8,
          23,
          19,
          6,
          12,
          9,
          15,
          10,
          20,
          9,
          12,
          10,
          23,
          36,
          37,
          53,
          44,
          49,
          18,
          33,
          50,
          46,
          41,
          36,
          30,
          26,
          21,
          22,
          12,
          16,
          10,
          8,
          10,
          3,
          12,
          6,
          10,
          11,
          3,
          14,
          3,
          6,
          4,
          10,
          1,
          19,
          17,
          4,
          14,
          7,
          4,
          4,
          4,
          12,
          6,
          7,
          14,
          15,
          16,
          9,
          21,
          7,
          10,
          20,
          41,
          20,
          33,
          33,
          49,
          52,
          46,
          14,
          30,
          38,
          46,
          42,
          36,
          25,
          21,
          13,
          13,
          23,
          12,
          11,
          17,
          15,
          9,
          9,
          10,
          10,
          8,
          13,
          20,
          6,
          19,
          12,
          2,
          1,
          6,
          8,
          12,
          23,
          9,
          7,
          6,
          4,
          9,
          13,
          4,
          9,
          16,
          26,
          26,
          18,
          14,
          16,
          20,
          37,
          23,
          24,
          51,
          56,
          61,
          37,
          60,
          96,
          37,
          26,
          41,
          17,
          11,
          21,
          14,
          25,
          34,
          10,
          10,
          16,
          17,
          6,
          15,
          23,
          15,
          5
         ]
        }
       ],
       "layout": {
        "annotations": [
         {
          "font": {
           "color": "rgb(114, 172, 77)",
           "size": 15
          },
          "showarrow": false,
          "text": "GARRA",
          "x": 0.02,
          "xref": "paper",
          "y": 1.2,
          "yref": "paper"
         }
        ],
        "height": 500,
        "margin": {
         "b": 50,
         "l": 10,
         "r": 10,
         "t": 150
        },
        "plot_bgcolor": "rgba(0,0,0,0)",
        "template": {
         "data": {
          "bar": [
           {
            "error_x": {
             "color": "#2a3f5f"
            },
            "error_y": {
             "color": "#2a3f5f"
            },
            "marker": {
             "line": {
              "color": "#E5ECF6",
              "width": 0.5
             },
             "pattern": {
              "fillmode": "overlay",
              "size": 10,
              "solidity": 0.2
             }
            },
            "type": "bar"
           }
          ],
          "barpolar": [
           {
            "marker": {
             "line": {
              "color": "#E5ECF6",
              "width": 0.5
             },
             "pattern": {
              "fillmode": "overlay",
              "size": 10,
              "solidity": 0.2
             }
            },
            "type": "barpolar"
           }
          ],
          "carpet": [
           {
            "aaxis": {
             "endlinecolor": "#2a3f5f",
             "gridcolor": "white",
             "linecolor": "white",
             "minorgridcolor": "white",
             "startlinecolor": "#2a3f5f"
            },
            "baxis": {
             "endlinecolor": "#2a3f5f",
             "gridcolor": "white",
             "linecolor": "white",
             "minorgridcolor": "white",
             "startlinecolor": "#2a3f5f"
            },
            "type": "carpet"
           }
          ],
          "choropleth": [
           {
            "colorbar": {
             "outlinewidth": 0,
             "ticks": ""
            },
            "type": "choropleth"
           }
          ],
          "contour": [
           {
            "colorbar": {
             "outlinewidth": 0,
             "ticks": ""
            },
            "colorscale": [
             [
              0,
              "#0d0887"
             ],
             [
              0.1111111111111111,
              "#46039f"
             ],
             [
              0.2222222222222222,
              "#7201a8"
             ],
             [
              0.3333333333333333,
              "#9c179e"
             ],
             [
              0.4444444444444444,
              "#bd3786"
             ],
             [
              0.5555555555555556,
              "#d8576b"
             ],
             [
              0.6666666666666666,
              "#ed7953"
             ],
             [
              0.7777777777777778,
              "#fb9f3a"
             ],
             [
              0.8888888888888888,
              "#fdca26"
             ],
             [
              1,
              "#f0f921"
             ]
            ],
            "type": "contour"
           }
          ],
          "contourcarpet": [
           {
            "colorbar": {
             "outlinewidth": 0,
             "ticks": ""
            },
            "type": "contourcarpet"
           }
          ],
          "heatmap": [
           {
            "colorbar": {
             "outlinewidth": 0,
             "ticks": ""
            },
            "colorscale": [
             [
              0,
              "#0d0887"
             ],
             [
              0.1111111111111111,
              "#46039f"
             ],
             [
              0.2222222222222222,
              "#7201a8"
             ],
             [
              0.3333333333333333,
              "#9c179e"
             ],
             [
              0.4444444444444444,
              "#bd3786"
             ],
             [
              0.5555555555555556,
              "#d8576b"
             ],
             [
              0.6666666666666666,
              "#ed7953"
             ],
             [
              0.7777777777777778,
              "#fb9f3a"
             ],
             [
              0.8888888888888888,
              "#fdca26"
             ],
             [
              1,
              "#f0f921"
             ]
            ],
            "type": "heatmap"
           }
          ],
          "heatmapgl": [
           {
            "colorbar": {
             "outlinewidth": 0,
             "ticks": ""
            },
            "colorscale": [
             [
              0,
              "#0d0887"
             ],
             [
              0.1111111111111111,
              "#46039f"
             ],
             [
              0.2222222222222222,
              "#7201a8"
             ],
             [
              0.3333333333333333,
              "#9c179e"
             ],
             [
              0.4444444444444444,
              "#bd3786"
             ],
             [
              0.5555555555555556,
              "#d8576b"
             ],
             [
              0.6666666666666666,
              "#ed7953"
             ],
             [
              0.7777777777777778,
              "#fb9f3a"
             ],
             [
              0.8888888888888888,
              "#fdca26"
             ],
             [
              1,
              "#f0f921"
             ]
            ],
            "type": "heatmapgl"
           }
          ],
          "histogram": [
           {
            "marker": {
             "pattern": {
              "fillmode": "overlay",
              "size": 10,
              "solidity": 0.2
             }
            },
            "type": "histogram"
           }
          ],
          "histogram2d": [
           {
            "colorbar": {
             "outlinewidth": 0,
             "ticks": ""
            },
            "colorscale": [
             [
              0,
              "#0d0887"
             ],
             [
              0.1111111111111111,
              "#46039f"
             ],
             [
              0.2222222222222222,
              "#7201a8"
             ],
             [
              0.3333333333333333,
              "#9c179e"
             ],
             [
              0.4444444444444444,
              "#bd3786"
             ],
             [
              0.5555555555555556,
              "#d8576b"
             ],
             [
              0.6666666666666666,
              "#ed7953"
             ],
             [
              0.7777777777777778,
              "#fb9f3a"
             ],
             [
              0.8888888888888888,
              "#fdca26"
             ],
             [
              1,
              "#f0f921"
             ]
            ],
            "type": "histogram2d"
           }
          ],
          "histogram2dcontour": [
           {
            "colorbar": {
             "outlinewidth": 0,
             "ticks": ""
            },
            "colorscale": [
             [
              0,
              "#0d0887"
             ],
             [
              0.1111111111111111,
              "#46039f"
             ],
             [
              0.2222222222222222,
              "#7201a8"
             ],
             [
              0.3333333333333333,
              "#9c179e"
             ],
             [
              0.4444444444444444,
              "#bd3786"
             ],
             [
              0.5555555555555556,
              "#d8576b"
             ],
             [
              0.6666666666666666,
              "#ed7953"
             ],
             [
              0.7777777777777778,
              "#fb9f3a"
             ],
             [
              0.8888888888888888,
              "#fdca26"
             ],
             [
              1,
              "#f0f921"
             ]
            ],
            "type": "histogram2dcontour"
           }
          ],
          "mesh3d": [
           {
            "colorbar": {
             "outlinewidth": 0,
             "ticks": ""
            },
            "type": "mesh3d"
           }
          ],
          "parcoords": [
           {
            "line": {
             "colorbar": {
              "outlinewidth": 0,
              "ticks": ""
             }
            },
            "type": "parcoords"
           }
          ],
          "pie": [
           {
            "automargin": true,
            "type": "pie"
           }
          ],
          "scatter": [
           {
            "fillpattern": {
             "fillmode": "overlay",
             "size": 10,
             "solidity": 0.2
            },
            "type": "scatter"
           }
          ],
          "scatter3d": [
           {
            "line": {
             "colorbar": {
              "outlinewidth": 0,
              "ticks": ""
             }
            },
            "marker": {
             "colorbar": {
              "outlinewidth": 0,
              "ticks": ""
             }
            },
            "type": "scatter3d"
           }
          ],
          "scattercarpet": [
           {
            "marker": {
             "colorbar": {
              "outlinewidth": 0,
              "ticks": ""
             }
            },
            "type": "scattercarpet"
           }
          ],
          "scattergeo": [
           {
            "marker": {
             "colorbar": {
              "outlinewidth": 0,
              "ticks": ""
             }
            },
            "type": "scattergeo"
           }
          ],
          "scattergl": [
           {
            "marker": {
             "colorbar": {
              "outlinewidth": 0,
              "ticks": ""
             }
            },
            "type": "scattergl"
           }
          ],
          "scattermapbox": [
           {
            "marker": {
             "colorbar": {
              "outlinewidth": 0,
              "ticks": ""
             }
            },
            "type": "scattermapbox"
           }
          ],
          "scatterpolar": [
           {
            "marker": {
             "colorbar": {
              "outlinewidth": 0,
              "ticks": ""
             }
            },
            "type": "scatterpolar"
           }
          ],
          "scatterpolargl": [
           {
            "marker": {
             "colorbar": {
              "outlinewidth": 0,
              "ticks": ""
             }
            },
            "type": "scatterpolargl"
           }
          ],
          "scatterternary": [
           {
            "marker": {
             "colorbar": {
              "outlinewidth": 0,
              "ticks": ""
             }
            },
            "type": "scatterternary"
           }
          ],
          "surface": [
           {
            "colorbar": {
             "outlinewidth": 0,
             "ticks": ""
            },
            "colorscale": [
             [
              0,
              "#0d0887"
             ],
             [
              0.1111111111111111,
              "#46039f"
             ],
             [
              0.2222222222222222,
              "#7201a8"
             ],
             [
              0.3333333333333333,
              "#9c179e"
             ],
             [
              0.4444444444444444,
              "#bd3786"
             ],
             [
              0.5555555555555556,
              "#d8576b"
             ],
             [
              0.6666666666666666,
              "#ed7953"
             ],
             [
              0.7777777777777778,
              "#fb9f3a"
             ],
             [
              0.8888888888888888,
              "#fdca26"
             ],
             [
              1,
              "#f0f921"
             ]
            ],
            "type": "surface"
           }
          ],
          "table": [
           {
            "cells": {
             "fill": {
              "color": "#EBF0F8"
             },
             "line": {
              "color": "white"
             }
            },
            "header": {
             "fill": {
              "color": "#C8D4E3"
             },
             "line": {
              "color": "white"
             }
            },
            "type": "table"
           }
          ]
         },
         "layout": {
          "annotationdefaults": {
           "arrowcolor": "#2a3f5f",
           "arrowhead": 0,
           "arrowwidth": 1
          },
          "autotypenumbers": "strict",
          "coloraxis": {
           "colorbar": {
            "outlinewidth": 0,
            "ticks": ""
           }
          },
          "colorscale": {
           "diverging": [
            [
             0,
             "#8e0152"
            ],
            [
             0.1,
             "#c51b7d"
            ],
            [
             0.2,
             "#de77ae"
            ],
            [
             0.3,
             "#f1b6da"
            ],
            [
             0.4,
             "#fde0ef"
            ],
            [
             0.5,
             "#f7f7f7"
            ],
            [
             0.6,
             "#e6f5d0"
            ],
            [
             0.7,
             "#b8e186"
            ],
            [
             0.8,
             "#7fbc41"
            ],
            [
             0.9,
             "#4d9221"
            ],
            [
             1,
             "#276419"
            ]
           ],
           "sequential": [
            [
             0,
             "#0d0887"
            ],
            [
             0.1111111111111111,
             "#46039f"
            ],
            [
             0.2222222222222222,
             "#7201a8"
            ],
            [
             0.3333333333333333,
             "#9c179e"
            ],
            [
             0.4444444444444444,
             "#bd3786"
            ],
            [
             0.5555555555555556,
             "#d8576b"
            ],
            [
             0.6666666666666666,
             "#ed7953"
            ],
            [
             0.7777777777777778,
             "#fb9f3a"
            ],
            [
             0.8888888888888888,
             "#fdca26"
            ],
            [
             1,
             "#f0f921"
            ]
           ],
           "sequentialminus": [
            [
             0,
             "#0d0887"
            ],
            [
             0.1111111111111111,
             "#46039f"
            ],
            [
             0.2222222222222222,
             "#7201a8"
            ],
            [
             0.3333333333333333,
             "#9c179e"
            ],
            [
             0.4444444444444444,
             "#bd3786"
            ],
            [
             0.5555555555555556,
             "#d8576b"
            ],
            [
             0.6666666666666666,
             "#ed7953"
            ],
            [
             0.7777777777777778,
             "#fb9f3a"
            ],
            [
             0.8888888888888888,
             "#fdca26"
            ],
            [
             1,
             "#f0f921"
            ]
           ]
          },
          "colorway": [
           "#636efa",
           "#EF553B",
           "#00cc96",
           "#ab63fa",
           "#FFA15A",
           "#19d3f3",
           "#FF6692",
           "#B6E880",
           "#FF97FF",
           "#FECB52"
          ],
          "font": {
           "color": "#2a3f5f"
          },
          "geo": {
           "bgcolor": "white",
           "lakecolor": "white",
           "landcolor": "#E5ECF6",
           "showlakes": true,
           "showland": true,
           "subunitcolor": "white"
          },
          "hoverlabel": {
           "align": "left"
          },
          "hovermode": "closest",
          "mapbox": {
           "style": "light"
          },
          "paper_bgcolor": "white",
          "plot_bgcolor": "#E5ECF6",
          "polar": {
           "angularaxis": {
            "gridcolor": "white",
            "linecolor": "white",
            "ticks": ""
           },
           "bgcolor": "#E5ECF6",
           "radialaxis": {
            "gridcolor": "white",
            "linecolor": "white",
            "ticks": ""
           }
          },
          "scene": {
           "xaxis": {
            "backgroundcolor": "#E5ECF6",
            "gridcolor": "white",
            "gridwidth": 2,
            "linecolor": "white",
            "showbackground": true,
            "ticks": "",
            "zerolinecolor": "white"
           },
           "yaxis": {
            "backgroundcolor": "#E5ECF6",
            "gridcolor": "white",
            "gridwidth": 2,
            "linecolor": "white",
            "showbackground": true,
            "ticks": "",
            "zerolinecolor": "white"
           },
           "zaxis": {
            "backgroundcolor": "#E5ECF6",
            "gridcolor": "white",
            "gridwidth": 2,
            "linecolor": "white",
            "showbackground": true,
            "ticks": "",
            "zerolinecolor": "white"
           }
          },
          "shapedefaults": {
           "line": {
            "color": "#2a3f5f"
           }
          },
          "ternary": {
           "aaxis": {
            "gridcolor": "white",
            "linecolor": "white",
            "ticks": ""
           },
           "baxis": {
            "gridcolor": "white",
            "linecolor": "white",
            "ticks": ""
           },
           "bgcolor": "#E5ECF6",
           "caxis": {
            "gridcolor": "white",
            "linecolor": "white",
            "ticks": ""
           }
          },
          "title": {
           "x": 0.05
          },
          "xaxis": {
           "automargin": true,
           "gridcolor": "white",
           "linecolor": "white",
           "ticks": "",
           "title": {
            "standoff": 15
           },
           "zerolinecolor": "white",
           "zerolinewidth": 2
          },
          "yaxis": {
           "automargin": true,
           "gridcolor": "white",
           "linecolor": "white",
           "ticks": "",
           "title": {
            "standoff": 15
           },
           "zerolinecolor": "white",
           "zerolinewidth": 2
          }
         }
        },
        "title": {
         "font": {
          "size": 18
         },
         "text": "SALES PER WEEK",
         "x": 0.1,
         "y": 0.9
        },
        "width": 700,
        "xaxis": {
         "linecolor": "rgba(169, 169, 169, 1)",
         "linewidth": 1,
         "showline": true
        },
        "yaxis": {
         "title": {
          "text": "UNITS SOLD"
         }
        }
       }
      }
     },
     "metadata": {},
     "output_type": "display_data"
    }
   ],
   "source": [
    "product = 'GARRA'\n",
    "step = 'week'\n",
    "\n",
    "df_product, df_dates = product_over_year(df_vendas, product, step)\n",
    "plot_product_over_year(df_product, product, step)"
   ]
  },
  {
   "cell_type": "code",
   "execution_count": 32,
   "metadata": {},
   "outputs": [
    {
     "data": {
      "application/vnd.plotly.v1+json": {
       "config": {
        "plotlyServerURL": "https://plotly.com"
       },
       "data": [
        {
         "line": {
          "color": "rgb(114, 172, 77)",
          "width": 3
         },
         "mode": "lines",
         "type": "scatter",
         "x": [
          "2017-03-31",
          "2017-04-07",
          "2017-04-14",
          "2017-04-21",
          "2017-04-28",
          "2017-05-05",
          "2017-05-12",
          "2017-05-19",
          "2017-05-26",
          "2017-06-02",
          "2017-06-09",
          "2017-06-16",
          "2017-06-23",
          "2017-06-30",
          "2017-07-07",
          "2017-07-14",
          "2017-07-21",
          "2017-07-28",
          "2017-08-04",
          "2017-08-11",
          "2017-08-18",
          "2017-08-25",
          "2017-09-01",
          "2017-09-08",
          "2017-09-15",
          "2017-09-22",
          "2017-09-29",
          "2017-10-06",
          "2017-10-13",
          "2017-10-20",
          "2017-10-27",
          "2017-11-03",
          "2017-11-10",
          "2017-11-17",
          "2017-11-24",
          "2017-12-01",
          "2017-12-08",
          "2017-12-15",
          "2017-12-22",
          "2017-12-29",
          "2018-01-05",
          "2018-01-12",
          "2018-01-19",
          "2018-01-26",
          "2018-02-02",
          "2018-02-09",
          "2018-02-16",
          "2018-02-23",
          "2018-03-02",
          "2018-03-09",
          "2018-03-16",
          "2018-03-23",
          "2018-03-30",
          "2018-04-06",
          "2018-04-13",
          "2018-04-20",
          "2018-04-27",
          "2018-05-04",
          "2018-05-11",
          "2018-05-18",
          "2018-05-25",
          "2018-06-01",
          "2018-06-08",
          "2018-06-15",
          "2018-06-22",
          "2018-06-29",
          "2018-07-06",
          "2018-07-13",
          "2018-07-20",
          "2018-07-27",
          "2018-08-03",
          "2018-08-10",
          "2018-08-17",
          "2018-08-24",
          "2018-08-31",
          "2018-09-07",
          "2018-09-14",
          "2018-09-21",
          "2018-09-28",
          "2018-10-05",
          "2018-10-12",
          "2018-10-19",
          "2018-10-26",
          "2018-11-02",
          "2018-11-09",
          "2018-11-16",
          "2018-11-23",
          "2018-11-30",
          "2018-12-07",
          "2018-12-14",
          "2018-12-21",
          "2018-12-28",
          "2019-01-04",
          "2019-01-11",
          "2019-01-18",
          "2019-01-25",
          "2019-02-01",
          "2019-02-08",
          "2019-02-15",
          "2019-02-22",
          "2019-03-01",
          "2019-03-08",
          "2019-03-15",
          "2019-03-22",
          "2019-03-29",
          "2019-04-05",
          "2019-04-12",
          "2019-04-19",
          "2019-04-26",
          "2019-05-03",
          "2019-05-10",
          "2019-05-17",
          "2019-05-24",
          "2019-05-31",
          "2019-06-07",
          "2019-06-14",
          "2019-06-21",
          "2019-06-28",
          "2019-07-05",
          "2019-07-12",
          "2019-07-19",
          "2019-07-26",
          "2019-08-02",
          "2019-08-09",
          "2019-08-16",
          "2019-08-23",
          "2019-08-30",
          "2019-09-06",
          "2019-09-13",
          "2019-09-20",
          "2019-09-27",
          "2019-10-04",
          "2019-10-11",
          "2019-10-18",
          "2019-10-25",
          "2019-11-01",
          "2019-11-08",
          "2019-11-15",
          "2019-11-22",
          "2019-11-29",
          "2019-12-06",
          "2019-12-13",
          "2019-12-20",
          "2019-12-27",
          "2020-01-03",
          "2020-01-10",
          "2020-01-17",
          "2020-01-24",
          "2020-01-31",
          "2020-02-07",
          "2020-02-14",
          "2020-02-21",
          "2020-02-28",
          "2020-03-06",
          "2020-03-13",
          "2020-03-20",
          "2020-03-27",
          "2020-04-03",
          "2020-04-10",
          "2020-04-17",
          "2020-04-24",
          "2020-05-01",
          "2020-05-08",
          "2020-05-15",
          "2020-05-29",
          "2020-06-05",
          "2020-06-12",
          "2020-06-19",
          "2020-06-26",
          "2020-07-03",
          "2020-07-10",
          "2020-07-17",
          "2020-07-24",
          "2020-07-31",
          "2020-08-07",
          "2020-08-14",
          "2020-08-21",
          "2020-08-28",
          "2020-09-04",
          "2020-09-11",
          "2020-09-18",
          "2020-09-25",
          "2020-10-02",
          "2020-10-09",
          "2020-10-16",
          "2020-10-23",
          "2020-10-30",
          "2020-11-06",
          "2020-11-13",
          "2020-11-20",
          "2020-11-27",
          "2020-12-04",
          "2020-12-11",
          "2020-12-18",
          "2020-12-25",
          "2021-01-01",
          "2021-01-08",
          "2021-01-15",
          "2021-01-22",
          "2021-01-29",
          "2021-02-05",
          "2021-02-12",
          "2021-02-19",
          "2021-02-26",
          "2021-03-05",
          "2021-03-12",
          "2021-03-19",
          "2021-03-26",
          "2021-04-02",
          "2021-04-09",
          "2021-04-16",
          "2021-04-23",
          "2021-04-30",
          "2021-05-07",
          "2021-05-14",
          "2021-05-21",
          "2021-05-28",
          "2021-06-04",
          "2021-06-11",
          "2021-06-18",
          "2021-06-25",
          "2021-07-02",
          "2021-07-09",
          "2021-07-16",
          "2021-07-23",
          "2021-07-30",
          "2021-08-06",
          "2021-08-13",
          "2021-08-20",
          "2021-08-27",
          "2021-09-03",
          "2021-09-10",
          "2021-09-17",
          "2021-09-24",
          "2021-10-01",
          "2021-10-08",
          "2021-10-15",
          "2021-10-22",
          "2021-10-29",
          "2021-11-05",
          "2021-11-12",
          "2021-11-19",
          "2021-11-26",
          "2021-12-03",
          "2021-12-10",
          "2021-12-17",
          "2021-12-24",
          "2021-12-31",
          "2022-01-07",
          "2022-01-14",
          "2022-01-21",
          "2022-01-28",
          "2022-02-04",
          "2022-02-11",
          "2022-02-18",
          "2022-02-25",
          "2022-03-04",
          "2022-03-11",
          "2022-03-18",
          "2022-03-25",
          "2022-04-01",
          "2022-04-08",
          "2022-04-15",
          "2022-04-22",
          "2022-04-29",
          "2022-05-06",
          "2022-05-13",
          "2022-05-20",
          "2022-05-27",
          "2022-06-03",
          "2022-06-10",
          "2022-06-17",
          "2022-06-24",
          "2022-07-01",
          "2022-07-08",
          "2022-07-15",
          "2022-07-22",
          "2022-07-29",
          "2022-08-05",
          "2022-08-12",
          "2022-08-19",
          "2022-08-26",
          "2022-09-02",
          "2022-09-09",
          "2022-09-16",
          "2022-09-23",
          "2022-09-30",
          "2022-10-07",
          "2022-10-14",
          "2022-10-21",
          "2022-10-28",
          "2022-11-04",
          "2022-11-11",
          "2022-11-18",
          "2022-11-25",
          "2022-12-02",
          "2022-12-09",
          "2022-12-16",
          "2022-12-23",
          "2022-12-30",
          "2023-01-06",
          "2023-01-13",
          "2023-01-20",
          "2023-01-27",
          "2023-02-03",
          "2023-02-10",
          "2023-02-17",
          "2023-02-24",
          "2023-03-03",
          "2023-03-10",
          "2023-03-17",
          "2023-03-24",
          "2023-03-31",
          "2023-04-07",
          "2023-04-14",
          "2023-04-21",
          "2023-04-28",
          "2023-05-05",
          "2023-05-12",
          "2023-05-19"
         ],
         "y": [
          141,
          409,
          352,
          276,
          276,
          148,
          470,
          304,
          215,
          277,
          287,
          234,
          169,
          376,
          367,
          232,
          175,
          250,
          432,
          259,
          355,
          415,
          200,
          150,
          418,
          233,
          294,
          229,
          265,
          232,
          358,
          183,
          203,
          223,
          345,
          270,
          156,
          275,
          293,
          138,
          208,
          180,
          215,
          408,
          264,
          385,
          207,
          526,
          418,
          213,
          272,
          263,
          182,
          320,
          265,
          205,
          154,
          108,
          212,
          228,
          323,
          92,
          172,
          149,
          138,
          287,
          164,
          285,
          142,
          245,
          280,
          174,
          191,
          180,
          143,
          280,
          203,
          207,
          173,
          239,
          151,
          125,
          163,
          197,
          177,
          104,
          136,
          167,
          168,
          217,
          142,
          83,
          349,
          245,
          248,
          311,
          403,
          254,
          267,
          262,
          333,
          91,
          588,
          303,
          256,
          294,
          381,
          98,
          156,
          184,
          150,
          252,
          124,
          168,
          211,
          120,
          173,
          164,
          71,
          128,
          89,
          98,
          147,
          271,
          162,
          103,
          149,
          180,
          194,
          124,
          185,
          288,
          330,
          193,
          110,
          121,
          169,
          126,
          157,
          217,
          150,
          193,
          179,
          25,
          89,
          162,
          177,
          251,
          302,
          268,
          309,
          202,
          105,
          249,
          290,
          134,
          10,
          43,
          2,
          4,
          39,
          2,
          17,
          26,
          12,
          25,
          26,
          36,
          28,
          87,
          77,
          44,
          133,
          172,
          112,
          83,
          57,
          214,
          160,
          66,
          62,
          169,
          63,
          101,
          75,
          105,
          108,
          97,
          87,
          169,
          404,
          174,
          122,
          469,
          23,
          77,
          215,
          171,
          153,
          183,
          214,
          150,
          77,
          132,
          350,
          166,
          368,
          172,
          46,
          140,
          54,
          94,
          75,
          109,
          59,
          141,
          109,
          72,
          96,
          225,
          38,
          115,
          94,
          36,
          60,
          53,
          55,
          148,
          119,
          123,
          131,
          90,
          123,
          32,
          184,
          118,
          49,
          137,
          209,
          66,
          85,
          95,
          130,
          87,
          74,
          112,
          78,
          48,
          148,
          163,
          259,
          187,
          148,
          174,
          169,
          174,
          31,
          141,
          203,
          69,
          65,
          167,
          100,
          51,
          46,
          198,
          125,
          161,
          30,
          90,
          99,
          76,
          102,
          98,
          149,
          60,
          65,
          98,
          89,
          103,
          80,
          86,
          103,
          70,
          51,
          140,
          149,
          144,
          136,
          114,
          164,
          123,
          151,
          117,
          127,
          168,
          79,
          130,
          70,
          141,
          165,
          206,
          302,
          302,
          216,
          399,
          165,
          67,
          167,
          240,
          341,
          134,
          185,
          70,
          130,
          103,
          130,
          102,
          106,
          179
         ]
        }
       ],
       "layout": {
        "annotations": [
         {
          "font": {
           "color": "rgb(114, 172, 77)",
           "size": 15
          },
          "showarrow": false,
          "text": "ESPIRAL",
          "x": 0.02,
          "xref": "paper",
          "y": 1.2,
          "yref": "paper"
         }
        ],
        "height": 500,
        "margin": {
         "b": 50,
         "l": 10,
         "r": 10,
         "t": 150
        },
        "plot_bgcolor": "rgba(0,0,0,0)",
        "template": {
         "data": {
          "bar": [
           {
            "error_x": {
             "color": "#2a3f5f"
            },
            "error_y": {
             "color": "#2a3f5f"
            },
            "marker": {
             "line": {
              "color": "#E5ECF6",
              "width": 0.5
             },
             "pattern": {
              "fillmode": "overlay",
              "size": 10,
              "solidity": 0.2
             }
            },
            "type": "bar"
           }
          ],
          "barpolar": [
           {
            "marker": {
             "line": {
              "color": "#E5ECF6",
              "width": 0.5
             },
             "pattern": {
              "fillmode": "overlay",
              "size": 10,
              "solidity": 0.2
             }
            },
            "type": "barpolar"
           }
          ],
          "carpet": [
           {
            "aaxis": {
             "endlinecolor": "#2a3f5f",
             "gridcolor": "white",
             "linecolor": "white",
             "minorgridcolor": "white",
             "startlinecolor": "#2a3f5f"
            },
            "baxis": {
             "endlinecolor": "#2a3f5f",
             "gridcolor": "white",
             "linecolor": "white",
             "minorgridcolor": "white",
             "startlinecolor": "#2a3f5f"
            },
            "type": "carpet"
           }
          ],
          "choropleth": [
           {
            "colorbar": {
             "outlinewidth": 0,
             "ticks": ""
            },
            "type": "choropleth"
           }
          ],
          "contour": [
           {
            "colorbar": {
             "outlinewidth": 0,
             "ticks": ""
            },
            "colorscale": [
             [
              0,
              "#0d0887"
             ],
             [
              0.1111111111111111,
              "#46039f"
             ],
             [
              0.2222222222222222,
              "#7201a8"
             ],
             [
              0.3333333333333333,
              "#9c179e"
             ],
             [
              0.4444444444444444,
              "#bd3786"
             ],
             [
              0.5555555555555556,
              "#d8576b"
             ],
             [
              0.6666666666666666,
              "#ed7953"
             ],
             [
              0.7777777777777778,
              "#fb9f3a"
             ],
             [
              0.8888888888888888,
              "#fdca26"
             ],
             [
              1,
              "#f0f921"
             ]
            ],
            "type": "contour"
           }
          ],
          "contourcarpet": [
           {
            "colorbar": {
             "outlinewidth": 0,
             "ticks": ""
            },
            "type": "contourcarpet"
           }
          ],
          "heatmap": [
           {
            "colorbar": {
             "outlinewidth": 0,
             "ticks": ""
            },
            "colorscale": [
             [
              0,
              "#0d0887"
             ],
             [
              0.1111111111111111,
              "#46039f"
             ],
             [
              0.2222222222222222,
              "#7201a8"
             ],
             [
              0.3333333333333333,
              "#9c179e"
             ],
             [
              0.4444444444444444,
              "#bd3786"
             ],
             [
              0.5555555555555556,
              "#d8576b"
             ],
             [
              0.6666666666666666,
              "#ed7953"
             ],
             [
              0.7777777777777778,
              "#fb9f3a"
             ],
             [
              0.8888888888888888,
              "#fdca26"
             ],
             [
              1,
              "#f0f921"
             ]
            ],
            "type": "heatmap"
           }
          ],
          "heatmapgl": [
           {
            "colorbar": {
             "outlinewidth": 0,
             "ticks": ""
            },
            "colorscale": [
             [
              0,
              "#0d0887"
             ],
             [
              0.1111111111111111,
              "#46039f"
             ],
             [
              0.2222222222222222,
              "#7201a8"
             ],
             [
              0.3333333333333333,
              "#9c179e"
             ],
             [
              0.4444444444444444,
              "#bd3786"
             ],
             [
              0.5555555555555556,
              "#d8576b"
             ],
             [
              0.6666666666666666,
              "#ed7953"
             ],
             [
              0.7777777777777778,
              "#fb9f3a"
             ],
             [
              0.8888888888888888,
              "#fdca26"
             ],
             [
              1,
              "#f0f921"
             ]
            ],
            "type": "heatmapgl"
           }
          ],
          "histogram": [
           {
            "marker": {
             "pattern": {
              "fillmode": "overlay",
              "size": 10,
              "solidity": 0.2
             }
            },
            "type": "histogram"
           }
          ],
          "histogram2d": [
           {
            "colorbar": {
             "outlinewidth": 0,
             "ticks": ""
            },
            "colorscale": [
             [
              0,
              "#0d0887"
             ],
             [
              0.1111111111111111,
              "#46039f"
             ],
             [
              0.2222222222222222,
              "#7201a8"
             ],
             [
              0.3333333333333333,
              "#9c179e"
             ],
             [
              0.4444444444444444,
              "#bd3786"
             ],
             [
              0.5555555555555556,
              "#d8576b"
             ],
             [
              0.6666666666666666,
              "#ed7953"
             ],
             [
              0.7777777777777778,
              "#fb9f3a"
             ],
             [
              0.8888888888888888,
              "#fdca26"
             ],
             [
              1,
              "#f0f921"
             ]
            ],
            "type": "histogram2d"
           }
          ],
          "histogram2dcontour": [
           {
            "colorbar": {
             "outlinewidth": 0,
             "ticks": ""
            },
            "colorscale": [
             [
              0,
              "#0d0887"
             ],
             [
              0.1111111111111111,
              "#46039f"
             ],
             [
              0.2222222222222222,
              "#7201a8"
             ],
             [
              0.3333333333333333,
              "#9c179e"
             ],
             [
              0.4444444444444444,
              "#bd3786"
             ],
             [
              0.5555555555555556,
              "#d8576b"
             ],
             [
              0.6666666666666666,
              "#ed7953"
             ],
             [
              0.7777777777777778,
              "#fb9f3a"
             ],
             [
              0.8888888888888888,
              "#fdca26"
             ],
             [
              1,
              "#f0f921"
             ]
            ],
            "type": "histogram2dcontour"
           }
          ],
          "mesh3d": [
           {
            "colorbar": {
             "outlinewidth": 0,
             "ticks": ""
            },
            "type": "mesh3d"
           }
          ],
          "parcoords": [
           {
            "line": {
             "colorbar": {
              "outlinewidth": 0,
              "ticks": ""
             }
            },
            "type": "parcoords"
           }
          ],
          "pie": [
           {
            "automargin": true,
            "type": "pie"
           }
          ],
          "scatter": [
           {
            "fillpattern": {
             "fillmode": "overlay",
             "size": 10,
             "solidity": 0.2
            },
            "type": "scatter"
           }
          ],
          "scatter3d": [
           {
            "line": {
             "colorbar": {
              "outlinewidth": 0,
              "ticks": ""
             }
            },
            "marker": {
             "colorbar": {
              "outlinewidth": 0,
              "ticks": ""
             }
            },
            "type": "scatter3d"
           }
          ],
          "scattercarpet": [
           {
            "marker": {
             "colorbar": {
              "outlinewidth": 0,
              "ticks": ""
             }
            },
            "type": "scattercarpet"
           }
          ],
          "scattergeo": [
           {
            "marker": {
             "colorbar": {
              "outlinewidth": 0,
              "ticks": ""
             }
            },
            "type": "scattergeo"
           }
          ],
          "scattergl": [
           {
            "marker": {
             "colorbar": {
              "outlinewidth": 0,
              "ticks": ""
             }
            },
            "type": "scattergl"
           }
          ],
          "scattermapbox": [
           {
            "marker": {
             "colorbar": {
              "outlinewidth": 0,
              "ticks": ""
             }
            },
            "type": "scattermapbox"
           }
          ],
          "scatterpolar": [
           {
            "marker": {
             "colorbar": {
              "outlinewidth": 0,
              "ticks": ""
             }
            },
            "type": "scatterpolar"
           }
          ],
          "scatterpolargl": [
           {
            "marker": {
             "colorbar": {
              "outlinewidth": 0,
              "ticks": ""
             }
            },
            "type": "scatterpolargl"
           }
          ],
          "scatterternary": [
           {
            "marker": {
             "colorbar": {
              "outlinewidth": 0,
              "ticks": ""
             }
            },
            "type": "scatterternary"
           }
          ],
          "surface": [
           {
            "colorbar": {
             "outlinewidth": 0,
             "ticks": ""
            },
            "colorscale": [
             [
              0,
              "#0d0887"
             ],
             [
              0.1111111111111111,
              "#46039f"
             ],
             [
              0.2222222222222222,
              "#7201a8"
             ],
             [
              0.3333333333333333,
              "#9c179e"
             ],
             [
              0.4444444444444444,
              "#bd3786"
             ],
             [
              0.5555555555555556,
              "#d8576b"
             ],
             [
              0.6666666666666666,
              "#ed7953"
             ],
             [
              0.7777777777777778,
              "#fb9f3a"
             ],
             [
              0.8888888888888888,
              "#fdca26"
             ],
             [
              1,
              "#f0f921"
             ]
            ],
            "type": "surface"
           }
          ],
          "table": [
           {
            "cells": {
             "fill": {
              "color": "#EBF0F8"
             },
             "line": {
              "color": "white"
             }
            },
            "header": {
             "fill": {
              "color": "#C8D4E3"
             },
             "line": {
              "color": "white"
             }
            },
            "type": "table"
           }
          ]
         },
         "layout": {
          "annotationdefaults": {
           "arrowcolor": "#2a3f5f",
           "arrowhead": 0,
           "arrowwidth": 1
          },
          "autotypenumbers": "strict",
          "coloraxis": {
           "colorbar": {
            "outlinewidth": 0,
            "ticks": ""
           }
          },
          "colorscale": {
           "diverging": [
            [
             0,
             "#8e0152"
            ],
            [
             0.1,
             "#c51b7d"
            ],
            [
             0.2,
             "#de77ae"
            ],
            [
             0.3,
             "#f1b6da"
            ],
            [
             0.4,
             "#fde0ef"
            ],
            [
             0.5,
             "#f7f7f7"
            ],
            [
             0.6,
             "#e6f5d0"
            ],
            [
             0.7,
             "#b8e186"
            ],
            [
             0.8,
             "#7fbc41"
            ],
            [
             0.9,
             "#4d9221"
            ],
            [
             1,
             "#276419"
            ]
           ],
           "sequential": [
            [
             0,
             "#0d0887"
            ],
            [
             0.1111111111111111,
             "#46039f"
            ],
            [
             0.2222222222222222,
             "#7201a8"
            ],
            [
             0.3333333333333333,
             "#9c179e"
            ],
            [
             0.4444444444444444,
             "#bd3786"
            ],
            [
             0.5555555555555556,
             "#d8576b"
            ],
            [
             0.6666666666666666,
             "#ed7953"
            ],
            [
             0.7777777777777778,
             "#fb9f3a"
            ],
            [
             0.8888888888888888,
             "#fdca26"
            ],
            [
             1,
             "#f0f921"
            ]
           ],
           "sequentialminus": [
            [
             0,
             "#0d0887"
            ],
            [
             0.1111111111111111,
             "#46039f"
            ],
            [
             0.2222222222222222,
             "#7201a8"
            ],
            [
             0.3333333333333333,
             "#9c179e"
            ],
            [
             0.4444444444444444,
             "#bd3786"
            ],
            [
             0.5555555555555556,
             "#d8576b"
            ],
            [
             0.6666666666666666,
             "#ed7953"
            ],
            [
             0.7777777777777778,
             "#fb9f3a"
            ],
            [
             0.8888888888888888,
             "#fdca26"
            ],
            [
             1,
             "#f0f921"
            ]
           ]
          },
          "colorway": [
           "#636efa",
           "#EF553B",
           "#00cc96",
           "#ab63fa",
           "#FFA15A",
           "#19d3f3",
           "#FF6692",
           "#B6E880",
           "#FF97FF",
           "#FECB52"
          ],
          "font": {
           "color": "#2a3f5f"
          },
          "geo": {
           "bgcolor": "white",
           "lakecolor": "white",
           "landcolor": "#E5ECF6",
           "showlakes": true,
           "showland": true,
           "subunitcolor": "white"
          },
          "hoverlabel": {
           "align": "left"
          },
          "hovermode": "closest",
          "mapbox": {
           "style": "light"
          },
          "paper_bgcolor": "white",
          "plot_bgcolor": "#E5ECF6",
          "polar": {
           "angularaxis": {
            "gridcolor": "white",
            "linecolor": "white",
            "ticks": ""
           },
           "bgcolor": "#E5ECF6",
           "radialaxis": {
            "gridcolor": "white",
            "linecolor": "white",
            "ticks": ""
           }
          },
          "scene": {
           "xaxis": {
            "backgroundcolor": "#E5ECF6",
            "gridcolor": "white",
            "gridwidth": 2,
            "linecolor": "white",
            "showbackground": true,
            "ticks": "",
            "zerolinecolor": "white"
           },
           "yaxis": {
            "backgroundcolor": "#E5ECF6",
            "gridcolor": "white",
            "gridwidth": 2,
            "linecolor": "white",
            "showbackground": true,
            "ticks": "",
            "zerolinecolor": "white"
           },
           "zaxis": {
            "backgroundcolor": "#E5ECF6",
            "gridcolor": "white",
            "gridwidth": 2,
            "linecolor": "white",
            "showbackground": true,
            "ticks": "",
            "zerolinecolor": "white"
           }
          },
          "shapedefaults": {
           "line": {
            "color": "#2a3f5f"
           }
          },
          "ternary": {
           "aaxis": {
            "gridcolor": "white",
            "linecolor": "white",
            "ticks": ""
           },
           "baxis": {
            "gridcolor": "white",
            "linecolor": "white",
            "ticks": ""
           },
           "bgcolor": "#E5ECF6",
           "caxis": {
            "gridcolor": "white",
            "linecolor": "white",
            "ticks": ""
           }
          },
          "title": {
           "x": 0.05
          },
          "xaxis": {
           "automargin": true,
           "gridcolor": "white",
           "linecolor": "white",
           "ticks": "",
           "title": {
            "standoff": 15
           },
           "zerolinecolor": "white",
           "zerolinewidth": 2
          },
          "yaxis": {
           "automargin": true,
           "gridcolor": "white",
           "linecolor": "white",
           "ticks": "",
           "title": {
            "standoff": 15
           },
           "zerolinecolor": "white",
           "zerolinewidth": 2
          }
         }
        },
        "title": {
         "font": {
          "size": 18
         },
         "text": "SALES PER WEEK",
         "x": 0.1,
         "y": 0.9
        },
        "width": 700,
        "xaxis": {
         "linecolor": "rgba(169, 169, 169, 1)",
         "linewidth": 1,
         "showline": true
        },
        "yaxis": {
         "title": {
          "text": "UNITS SOLD"
         }
        }
       }
      }
     },
     "metadata": {},
     "output_type": "display_data"
    }
   ],
   "source": [
    "product = 'ESPIRAL'\n",
    "color = 'PRETO'\n",
    "step = 'week'\n",
    "\n",
    "df_product, df_dates = product_over_year(df_vendas, product, step)\n",
    "plot_product_over_year(df_product, product, step)"
   ]
  },
  {
   "cell_type": "code",
   "execution_count": 33,
   "metadata": {},
   "outputs": [
    {
     "data": {
      "application/vnd.plotly.v1+json": {
       "config": {
        "plotlyServerURL": "https://plotly.com"
       },
       "data": [
        {
         "line": {
          "color": "rgb(114, 172, 77)",
          "width": 3
         },
         "mode": "lines",
         "type": "scatter",
         "x": [
          "2017-03-31",
          "2017-04-07",
          "2017-04-14",
          "2017-04-21",
          "2017-04-28",
          "2017-05-05",
          "2017-05-12",
          "2017-05-19",
          "2017-05-26",
          "2017-06-02",
          "2017-06-09",
          "2017-06-16",
          "2017-06-23",
          "2017-06-30",
          "2017-07-07",
          "2017-07-14",
          "2017-07-21",
          "2017-07-28",
          "2017-08-04",
          "2017-08-11",
          "2017-08-18",
          "2017-08-25",
          "2017-09-01",
          "2017-09-08",
          "2017-09-15",
          "2017-09-22",
          "2017-09-29",
          "2017-10-06",
          "2017-10-13",
          "2017-10-20",
          "2017-10-27",
          "2017-11-03",
          "2017-11-10",
          "2017-11-17",
          "2017-11-24",
          "2017-12-01",
          "2017-12-08",
          "2017-12-15",
          "2017-12-22",
          "2017-12-29",
          "2018-01-05",
          "2018-01-12",
          "2018-01-19",
          "2018-01-26",
          "2018-02-02",
          "2018-02-09",
          "2018-02-16",
          "2018-02-23",
          "2018-03-02",
          "2018-03-09",
          "2018-03-16",
          "2018-03-23",
          "2018-03-30",
          "2018-04-06",
          "2018-04-13",
          "2018-04-20",
          "2018-04-27",
          "2018-05-04",
          "2018-05-11",
          "2018-05-18",
          "2018-05-25",
          "2018-06-01",
          "2018-06-08",
          "2018-06-15",
          "2018-06-22",
          "2018-06-29",
          "2018-07-06",
          "2018-07-13",
          "2018-07-20",
          "2018-07-27",
          "2018-08-03",
          "2018-08-10",
          "2018-08-17",
          "2018-08-24",
          "2018-08-31",
          "2018-09-07",
          "2018-09-14",
          "2018-09-21",
          "2018-09-28",
          "2018-10-05",
          "2018-10-12",
          "2018-10-19",
          "2018-10-26",
          "2018-11-02",
          "2018-11-09",
          "2018-11-16",
          "2018-11-23",
          "2018-11-30",
          "2018-12-07",
          "2018-12-14",
          "2018-12-21",
          "2018-12-28",
          "2019-01-04",
          "2019-01-11",
          "2019-01-18",
          "2019-01-25",
          "2019-02-01",
          "2019-02-08",
          "2019-02-15",
          "2019-02-22",
          "2019-03-01",
          "2019-03-08",
          "2019-03-15",
          "2019-03-22",
          "2019-03-29",
          "2019-04-05",
          "2019-04-12",
          "2019-04-19",
          "2019-04-26",
          "2019-05-03",
          "2019-05-10",
          "2019-05-17",
          "2019-05-24",
          "2019-05-31",
          "2019-06-07",
          "2019-06-14",
          "2019-06-21",
          "2019-06-28",
          "2019-07-05",
          "2019-07-12",
          "2019-07-19",
          "2019-07-26",
          "2019-08-02",
          "2019-08-09",
          "2019-08-16",
          "2019-08-23",
          "2019-08-30",
          "2019-09-06",
          "2019-09-13",
          "2019-09-20",
          "2019-09-27",
          "2019-10-04",
          "2019-10-11",
          "2019-10-18",
          "2019-10-25",
          "2019-11-01",
          "2019-11-08",
          "2019-11-15",
          "2019-11-22",
          "2019-11-29",
          "2019-12-06",
          "2019-12-13",
          "2019-12-20",
          "2019-12-27",
          "2020-01-03",
          "2020-01-10",
          "2020-01-17",
          "2020-01-24",
          "2020-01-31",
          "2020-02-07",
          "2020-02-14",
          "2020-02-21",
          "2020-02-28",
          "2020-03-06",
          "2020-03-13",
          "2020-03-20",
          "2020-03-27",
          "2020-04-03",
          "2020-04-10",
          "2020-04-17",
          "2020-04-24",
          "2020-05-01",
          "2020-05-08",
          "2020-05-15",
          "2020-05-29",
          "2020-06-05",
          "2020-06-12",
          "2020-06-19",
          "2020-06-26",
          "2020-07-03",
          "2020-07-10",
          "2020-07-17",
          "2020-07-24",
          "2020-07-31",
          "2020-08-07",
          "2020-08-14",
          "2020-08-21",
          "2020-08-28",
          "2020-09-04",
          "2020-09-11",
          "2020-09-18",
          "2020-09-25",
          "2020-10-02",
          "2020-10-09",
          "2020-10-16",
          "2020-10-23",
          "2020-10-30",
          "2020-11-06",
          "2020-11-13",
          "2020-11-20",
          "2020-11-27",
          "2020-12-04",
          "2020-12-11",
          "2020-12-18",
          "2020-12-25",
          "2021-01-01",
          "2021-01-08",
          "2021-01-15",
          "2021-01-22",
          "2021-01-29",
          "2021-02-05",
          "2021-02-12",
          "2021-02-19",
          "2021-02-26",
          "2021-03-05",
          "2021-03-12",
          "2021-03-19",
          "2021-03-26",
          "2021-04-02",
          "2021-04-09",
          "2021-04-16",
          "2021-04-23",
          "2021-04-30",
          "2021-05-07",
          "2021-05-14",
          "2021-05-21",
          "2021-05-28",
          "2021-06-04",
          "2021-06-11",
          "2021-06-18",
          "2021-06-25",
          "2021-07-02",
          "2021-07-09",
          "2021-07-16",
          "2021-07-23",
          "2021-07-30",
          "2021-08-06",
          "2021-08-13",
          "2021-08-20",
          "2021-08-27",
          "2021-09-03",
          "2021-09-10",
          "2021-09-17",
          "2021-09-24",
          "2021-10-01",
          "2021-10-08",
          "2021-10-15",
          "2021-10-22",
          "2021-10-29",
          "2021-11-05",
          "2021-11-12",
          "2021-11-19",
          "2021-11-26",
          "2021-12-03",
          "2021-12-10",
          "2021-12-17",
          "2021-12-24",
          "2021-12-31",
          "2022-01-07",
          "2022-01-14",
          "2022-01-21",
          "2022-01-28",
          "2022-02-04",
          "2022-02-11",
          "2022-02-18",
          "2022-02-25",
          "2022-03-04",
          "2022-03-11",
          "2022-03-18",
          "2022-03-25",
          "2022-04-01",
          "2022-04-08",
          "2022-04-15",
          "2022-04-22",
          "2022-04-29",
          "2022-05-06",
          "2022-05-13",
          "2022-05-20",
          "2022-05-27",
          "2022-06-03",
          "2022-06-10",
          "2022-06-17",
          "2022-06-24",
          "2022-07-01",
          "2022-07-08",
          "2022-07-15",
          "2022-07-22",
          "2022-07-29",
          "2022-08-05",
          "2022-08-12",
          "2022-08-19",
          "2022-08-26",
          "2022-09-02",
          "2022-09-09",
          "2022-09-16",
          "2022-09-23",
          "2022-09-30",
          "2022-10-07",
          "2022-10-14",
          "2022-10-21",
          "2022-10-28",
          "2022-11-04",
          "2022-11-11",
          "2022-11-18",
          "2022-11-25",
          "2022-12-02",
          "2022-12-09",
          "2022-12-16",
          "2022-12-23",
          "2022-12-30",
          "2023-01-06",
          "2023-01-13",
          "2023-01-20",
          "2023-01-27",
          "2023-02-03",
          "2023-02-10",
          "2023-02-17",
          "2023-02-24",
          "2023-03-03",
          "2023-03-10",
          "2023-03-17",
          "2023-03-24",
          "2023-03-31",
          "2023-04-07",
          "2023-04-14",
          "2023-04-21",
          "2023-04-28",
          "2023-05-05",
          "2023-05-12",
          "2023-05-19"
         ],
         "y": [
          77,
          160,
          84,
          82,
          61,
          87,
          184,
          89,
          336,
          144,
          150,
          102,
          79,
          70,
          79,
          92,
          101,
          83,
          111,
          149,
          116,
          105,
          135,
          92,
          121,
          119,
          84,
          149,
          97,
          108,
          96,
          134,
          113,
          91,
          103,
          109,
          134,
          130,
          102,
          71,
          63,
          80,
          63,
          111,
          80,
          122,
          51,
          123,
          122,
          95,
          143,
          112,
          80,
          138,
          136,
          119,
          95,
          81,
          99,
          101,
          63,
          84,
          96,
          96,
          95,
          97,
          87,
          89,
          89,
          68,
          66,
          78,
          78,
          123,
          65,
          70,
          112,
          95,
          83,
          74,
          57,
          82,
          82,
          70,
          80,
          73,
          73,
          85,
          62,
          70,
          78,
          17,
          30,
          52,
          90,
          56,
          66,
          101,
          92,
          86,
          37,
          14,
          74,
          79,
          56,
          104,
          114,
          42,
          66,
          68,
          98,
          80,
          57,
          60,
          121,
          69,
          90,
          60,
          63,
          61,
          41,
          31,
          70,
          74,
          74,
          57,
          73,
          83,
          85,
          86,
          54,
          72,
          64,
          53,
          84,
          54,
          68,
          66,
          63,
          70,
          52,
          111,
          38,
          20,
          23,
          46,
          61,
          55,
          72,
          62,
          75,
          49,
          31,
          71,
          111,
          49,
          1,
          5,
          13,
          4,
          18,
          5,
          16,
          24,
          2,
          32,
          17,
          11,
          47,
          59,
          35,
          53,
          38,
          59,
          42,
          35,
          20,
          39,
          35,
          34,
          56,
          48,
          47,
          53,
          37,
          37,
          53,
          36,
          55,
          31,
          60,
          72,
          33,
          82,
          5,
          16,
          54,
          25,
          56,
          52,
          36,
          60,
          49,
          93,
          91,
          44,
          51,
          31,
          14,
          38,
          30,
          52,
          49,
          29,
          24,
          56,
          52,
          37,
          34,
          44,
          23,
          24,
          30,
          29,
          32,
          46,
          44,
          44,
          34,
          35,
          37,
          37,
          33,
          41,
          69,
          34,
          13,
          36,
          51,
          51,
          45,
          38,
          44,
          38,
          25,
          51,
          32,
          24,
          35,
          23,
          39,
          31,
          29,
          31,
          31,
          22,
          37,
          39,
          41,
          66,
          57,
          78,
          30,
          22,
          62,
          31,
          55,
          48,
          43,
          43,
          40,
          33,
          18,
          53,
          35,
          28,
          38,
          40,
          46,
          41,
          32,
          51,
          45,
          28,
          52,
          45,
          36,
          35,
          28,
          23,
          31,
          40,
          35,
          30,
          67,
          33,
          37,
          32,
          16,
          24,
          55,
          22,
          17,
          26,
          45,
          68,
          42,
          15,
          33,
          44,
          63,
          51,
          54,
          49,
          45,
          23,
          24,
          35,
          34,
          19
         ]
        }
       ],
       "layout": {
        "annotations": [
         {
          "font": {
           "color": "rgb(114, 172, 77)",
           "size": 15
          },
          "showarrow": false,
          "text": "TONER",
          "x": 0.02,
          "xref": "paper",
          "y": 1.2,
          "yref": "paper"
         }
        ],
        "height": 500,
        "margin": {
         "b": 50,
         "l": 10,
         "r": 10,
         "t": 150
        },
        "plot_bgcolor": "rgba(0,0,0,0)",
        "template": {
         "data": {
          "bar": [
           {
            "error_x": {
             "color": "#2a3f5f"
            },
            "error_y": {
             "color": "#2a3f5f"
            },
            "marker": {
             "line": {
              "color": "#E5ECF6",
              "width": 0.5
             },
             "pattern": {
              "fillmode": "overlay",
              "size": 10,
              "solidity": 0.2
             }
            },
            "type": "bar"
           }
          ],
          "barpolar": [
           {
            "marker": {
             "line": {
              "color": "#E5ECF6",
              "width": 0.5
             },
             "pattern": {
              "fillmode": "overlay",
              "size": 10,
              "solidity": 0.2
             }
            },
            "type": "barpolar"
           }
          ],
          "carpet": [
           {
            "aaxis": {
             "endlinecolor": "#2a3f5f",
             "gridcolor": "white",
             "linecolor": "white",
             "minorgridcolor": "white",
             "startlinecolor": "#2a3f5f"
            },
            "baxis": {
             "endlinecolor": "#2a3f5f",
             "gridcolor": "white",
             "linecolor": "white",
             "minorgridcolor": "white",
             "startlinecolor": "#2a3f5f"
            },
            "type": "carpet"
           }
          ],
          "choropleth": [
           {
            "colorbar": {
             "outlinewidth": 0,
             "ticks": ""
            },
            "type": "choropleth"
           }
          ],
          "contour": [
           {
            "colorbar": {
             "outlinewidth": 0,
             "ticks": ""
            },
            "colorscale": [
             [
              0,
              "#0d0887"
             ],
             [
              0.1111111111111111,
              "#46039f"
             ],
             [
              0.2222222222222222,
              "#7201a8"
             ],
             [
              0.3333333333333333,
              "#9c179e"
             ],
             [
              0.4444444444444444,
              "#bd3786"
             ],
             [
              0.5555555555555556,
              "#d8576b"
             ],
             [
              0.6666666666666666,
              "#ed7953"
             ],
             [
              0.7777777777777778,
              "#fb9f3a"
             ],
             [
              0.8888888888888888,
              "#fdca26"
             ],
             [
              1,
              "#f0f921"
             ]
            ],
            "type": "contour"
           }
          ],
          "contourcarpet": [
           {
            "colorbar": {
             "outlinewidth": 0,
             "ticks": ""
            },
            "type": "contourcarpet"
           }
          ],
          "heatmap": [
           {
            "colorbar": {
             "outlinewidth": 0,
             "ticks": ""
            },
            "colorscale": [
             [
              0,
              "#0d0887"
             ],
             [
              0.1111111111111111,
              "#46039f"
             ],
             [
              0.2222222222222222,
              "#7201a8"
             ],
             [
              0.3333333333333333,
              "#9c179e"
             ],
             [
              0.4444444444444444,
              "#bd3786"
             ],
             [
              0.5555555555555556,
              "#d8576b"
             ],
             [
              0.6666666666666666,
              "#ed7953"
             ],
             [
              0.7777777777777778,
              "#fb9f3a"
             ],
             [
              0.8888888888888888,
              "#fdca26"
             ],
             [
              1,
              "#f0f921"
             ]
            ],
            "type": "heatmap"
           }
          ],
          "heatmapgl": [
           {
            "colorbar": {
             "outlinewidth": 0,
             "ticks": ""
            },
            "colorscale": [
             [
              0,
              "#0d0887"
             ],
             [
              0.1111111111111111,
              "#46039f"
             ],
             [
              0.2222222222222222,
              "#7201a8"
             ],
             [
              0.3333333333333333,
              "#9c179e"
             ],
             [
              0.4444444444444444,
              "#bd3786"
             ],
             [
              0.5555555555555556,
              "#d8576b"
             ],
             [
              0.6666666666666666,
              "#ed7953"
             ],
             [
              0.7777777777777778,
              "#fb9f3a"
             ],
             [
              0.8888888888888888,
              "#fdca26"
             ],
             [
              1,
              "#f0f921"
             ]
            ],
            "type": "heatmapgl"
           }
          ],
          "histogram": [
           {
            "marker": {
             "pattern": {
              "fillmode": "overlay",
              "size": 10,
              "solidity": 0.2
             }
            },
            "type": "histogram"
           }
          ],
          "histogram2d": [
           {
            "colorbar": {
             "outlinewidth": 0,
             "ticks": ""
            },
            "colorscale": [
             [
              0,
              "#0d0887"
             ],
             [
              0.1111111111111111,
              "#46039f"
             ],
             [
              0.2222222222222222,
              "#7201a8"
             ],
             [
              0.3333333333333333,
              "#9c179e"
             ],
             [
              0.4444444444444444,
              "#bd3786"
             ],
             [
              0.5555555555555556,
              "#d8576b"
             ],
             [
              0.6666666666666666,
              "#ed7953"
             ],
             [
              0.7777777777777778,
              "#fb9f3a"
             ],
             [
              0.8888888888888888,
              "#fdca26"
             ],
             [
              1,
              "#f0f921"
             ]
            ],
            "type": "histogram2d"
           }
          ],
          "histogram2dcontour": [
           {
            "colorbar": {
             "outlinewidth": 0,
             "ticks": ""
            },
            "colorscale": [
             [
              0,
              "#0d0887"
             ],
             [
              0.1111111111111111,
              "#46039f"
             ],
             [
              0.2222222222222222,
              "#7201a8"
             ],
             [
              0.3333333333333333,
              "#9c179e"
             ],
             [
              0.4444444444444444,
              "#bd3786"
             ],
             [
              0.5555555555555556,
              "#d8576b"
             ],
             [
              0.6666666666666666,
              "#ed7953"
             ],
             [
              0.7777777777777778,
              "#fb9f3a"
             ],
             [
              0.8888888888888888,
              "#fdca26"
             ],
             [
              1,
              "#f0f921"
             ]
            ],
            "type": "histogram2dcontour"
           }
          ],
          "mesh3d": [
           {
            "colorbar": {
             "outlinewidth": 0,
             "ticks": ""
            },
            "type": "mesh3d"
           }
          ],
          "parcoords": [
           {
            "line": {
             "colorbar": {
              "outlinewidth": 0,
              "ticks": ""
             }
            },
            "type": "parcoords"
           }
          ],
          "pie": [
           {
            "automargin": true,
            "type": "pie"
           }
          ],
          "scatter": [
           {
            "fillpattern": {
             "fillmode": "overlay",
             "size": 10,
             "solidity": 0.2
            },
            "type": "scatter"
           }
          ],
          "scatter3d": [
           {
            "line": {
             "colorbar": {
              "outlinewidth": 0,
              "ticks": ""
             }
            },
            "marker": {
             "colorbar": {
              "outlinewidth": 0,
              "ticks": ""
             }
            },
            "type": "scatter3d"
           }
          ],
          "scattercarpet": [
           {
            "marker": {
             "colorbar": {
              "outlinewidth": 0,
              "ticks": ""
             }
            },
            "type": "scattercarpet"
           }
          ],
          "scattergeo": [
           {
            "marker": {
             "colorbar": {
              "outlinewidth": 0,
              "ticks": ""
             }
            },
            "type": "scattergeo"
           }
          ],
          "scattergl": [
           {
            "marker": {
             "colorbar": {
              "outlinewidth": 0,
              "ticks": ""
             }
            },
            "type": "scattergl"
           }
          ],
          "scattermapbox": [
           {
            "marker": {
             "colorbar": {
              "outlinewidth": 0,
              "ticks": ""
             }
            },
            "type": "scattermapbox"
           }
          ],
          "scatterpolar": [
           {
            "marker": {
             "colorbar": {
              "outlinewidth": 0,
              "ticks": ""
             }
            },
            "type": "scatterpolar"
           }
          ],
          "scatterpolargl": [
           {
            "marker": {
             "colorbar": {
              "outlinewidth": 0,
              "ticks": ""
             }
            },
            "type": "scatterpolargl"
           }
          ],
          "scatterternary": [
           {
            "marker": {
             "colorbar": {
              "outlinewidth": 0,
              "ticks": ""
             }
            },
            "type": "scatterternary"
           }
          ],
          "surface": [
           {
            "colorbar": {
             "outlinewidth": 0,
             "ticks": ""
            },
            "colorscale": [
             [
              0,
              "#0d0887"
             ],
             [
              0.1111111111111111,
              "#46039f"
             ],
             [
              0.2222222222222222,
              "#7201a8"
             ],
             [
              0.3333333333333333,
              "#9c179e"
             ],
             [
              0.4444444444444444,
              "#bd3786"
             ],
             [
              0.5555555555555556,
              "#d8576b"
             ],
             [
              0.6666666666666666,
              "#ed7953"
             ],
             [
              0.7777777777777778,
              "#fb9f3a"
             ],
             [
              0.8888888888888888,
              "#fdca26"
             ],
             [
              1,
              "#f0f921"
             ]
            ],
            "type": "surface"
           }
          ],
          "table": [
           {
            "cells": {
             "fill": {
              "color": "#EBF0F8"
             },
             "line": {
              "color": "white"
             }
            },
            "header": {
             "fill": {
              "color": "#C8D4E3"
             },
             "line": {
              "color": "white"
             }
            },
            "type": "table"
           }
          ]
         },
         "layout": {
          "annotationdefaults": {
           "arrowcolor": "#2a3f5f",
           "arrowhead": 0,
           "arrowwidth": 1
          },
          "autotypenumbers": "strict",
          "coloraxis": {
           "colorbar": {
            "outlinewidth": 0,
            "ticks": ""
           }
          },
          "colorscale": {
           "diverging": [
            [
             0,
             "#8e0152"
            ],
            [
             0.1,
             "#c51b7d"
            ],
            [
             0.2,
             "#de77ae"
            ],
            [
             0.3,
             "#f1b6da"
            ],
            [
             0.4,
             "#fde0ef"
            ],
            [
             0.5,
             "#f7f7f7"
            ],
            [
             0.6,
             "#e6f5d0"
            ],
            [
             0.7,
             "#b8e186"
            ],
            [
             0.8,
             "#7fbc41"
            ],
            [
             0.9,
             "#4d9221"
            ],
            [
             1,
             "#276419"
            ]
           ],
           "sequential": [
            [
             0,
             "#0d0887"
            ],
            [
             0.1111111111111111,
             "#46039f"
            ],
            [
             0.2222222222222222,
             "#7201a8"
            ],
            [
             0.3333333333333333,
             "#9c179e"
            ],
            [
             0.4444444444444444,
             "#bd3786"
            ],
            [
             0.5555555555555556,
             "#d8576b"
            ],
            [
             0.6666666666666666,
             "#ed7953"
            ],
            [
             0.7777777777777778,
             "#fb9f3a"
            ],
            [
             0.8888888888888888,
             "#fdca26"
            ],
            [
             1,
             "#f0f921"
            ]
           ],
           "sequentialminus": [
            [
             0,
             "#0d0887"
            ],
            [
             0.1111111111111111,
             "#46039f"
            ],
            [
             0.2222222222222222,
             "#7201a8"
            ],
            [
             0.3333333333333333,
             "#9c179e"
            ],
            [
             0.4444444444444444,
             "#bd3786"
            ],
            [
             0.5555555555555556,
             "#d8576b"
            ],
            [
             0.6666666666666666,
             "#ed7953"
            ],
            [
             0.7777777777777778,
             "#fb9f3a"
            ],
            [
             0.8888888888888888,
             "#fdca26"
            ],
            [
             1,
             "#f0f921"
            ]
           ]
          },
          "colorway": [
           "#636efa",
           "#EF553B",
           "#00cc96",
           "#ab63fa",
           "#FFA15A",
           "#19d3f3",
           "#FF6692",
           "#B6E880",
           "#FF97FF",
           "#FECB52"
          ],
          "font": {
           "color": "#2a3f5f"
          },
          "geo": {
           "bgcolor": "white",
           "lakecolor": "white",
           "landcolor": "#E5ECF6",
           "showlakes": true,
           "showland": true,
           "subunitcolor": "white"
          },
          "hoverlabel": {
           "align": "left"
          },
          "hovermode": "closest",
          "mapbox": {
           "style": "light"
          },
          "paper_bgcolor": "white",
          "plot_bgcolor": "#E5ECF6",
          "polar": {
           "angularaxis": {
            "gridcolor": "white",
            "linecolor": "white",
            "ticks": ""
           },
           "bgcolor": "#E5ECF6",
           "radialaxis": {
            "gridcolor": "white",
            "linecolor": "white",
            "ticks": ""
           }
          },
          "scene": {
           "xaxis": {
            "backgroundcolor": "#E5ECF6",
            "gridcolor": "white",
            "gridwidth": 2,
            "linecolor": "white",
            "showbackground": true,
            "ticks": "",
            "zerolinecolor": "white"
           },
           "yaxis": {
            "backgroundcolor": "#E5ECF6",
            "gridcolor": "white",
            "gridwidth": 2,
            "linecolor": "white",
            "showbackground": true,
            "ticks": "",
            "zerolinecolor": "white"
           },
           "zaxis": {
            "backgroundcolor": "#E5ECF6",
            "gridcolor": "white",
            "gridwidth": 2,
            "linecolor": "white",
            "showbackground": true,
            "ticks": "",
            "zerolinecolor": "white"
           }
          },
          "shapedefaults": {
           "line": {
            "color": "#2a3f5f"
           }
          },
          "ternary": {
           "aaxis": {
            "gridcolor": "white",
            "linecolor": "white",
            "ticks": ""
           },
           "baxis": {
            "gridcolor": "white",
            "linecolor": "white",
            "ticks": ""
           },
           "bgcolor": "#E5ECF6",
           "caxis": {
            "gridcolor": "white",
            "linecolor": "white",
            "ticks": ""
           }
          },
          "title": {
           "x": 0.05
          },
          "xaxis": {
           "automargin": true,
           "gridcolor": "white",
           "linecolor": "white",
           "ticks": "",
           "title": {
            "standoff": 15
           },
           "zerolinecolor": "white",
           "zerolinewidth": 2
          },
          "yaxis": {
           "automargin": true,
           "gridcolor": "white",
           "linecolor": "white",
           "ticks": "",
           "title": {
            "standoff": 15
           },
           "zerolinecolor": "white",
           "zerolinewidth": 2
          }
         }
        },
        "title": {
         "font": {
          "size": 18
         },
         "text": "SALES PER WEEK",
         "x": 0.1,
         "y": 0.9
        },
        "width": 700,
        "xaxis": {
         "linecolor": "rgba(169, 169, 169, 1)",
         "linewidth": 1,
         "showline": true
        },
        "yaxis": {
         "title": {
          "text": "UNITS SOLD"
         }
        }
       }
      }
     },
     "metadata": {},
     "output_type": "display_data"
    }
   ],
   "source": [
    "product = 'TONER'\n",
    "step = 'week'\n",
    "\n",
    "df_product, df_dates = product_over_year(df_vendas, product, step)\n",
    "plot_product_over_year(df_product, product, step)"
   ]
  },
  {
   "cell_type": "code",
   "execution_count": 34,
   "metadata": {},
   "outputs": [
    {
     "data": {
      "application/vnd.plotly.v1+json": {
       "config": {
        "plotlyServerURL": "https://plotly.com"
       },
       "data": [
        {
         "line": {
          "color": "rgb(114, 172, 77)",
          "width": 3
         },
         "mode": "lines",
         "type": "scatter",
         "x": [
          "2017-03-31",
          "2017-04-07",
          "2017-04-14",
          "2017-04-21",
          "2017-04-28",
          "2017-05-05",
          "2017-05-12",
          "2017-05-19",
          "2017-05-26",
          "2017-06-02",
          "2017-06-09",
          "2017-06-16",
          "2017-06-23",
          "2017-06-30",
          "2017-07-07",
          "2017-07-14",
          "2017-07-21",
          "2017-07-28",
          "2017-08-04",
          "2017-08-11",
          "2017-08-18",
          "2017-08-25",
          "2017-09-01",
          "2017-09-08",
          "2017-09-15",
          "2017-09-22",
          "2017-09-29",
          "2017-10-06",
          "2017-10-13",
          "2017-10-20",
          "2017-10-27",
          "2017-11-03",
          "2017-11-10",
          "2017-11-17",
          "2017-11-24",
          "2017-12-01",
          "2017-12-08",
          "2017-12-15",
          "2017-12-22",
          "2017-12-29",
          "2018-01-05",
          "2018-01-12",
          "2018-01-19",
          "2018-01-26",
          "2018-02-02",
          "2018-02-09",
          "2018-02-16",
          "2018-02-23",
          "2018-03-02",
          "2018-03-09",
          "2018-03-16",
          "2018-03-23",
          "2018-03-30",
          "2018-04-06",
          "2018-04-13",
          "2018-04-20",
          "2018-04-27",
          "2018-05-04",
          "2018-05-11",
          "2018-05-18",
          "2018-05-25",
          "2018-06-01",
          "2018-06-08",
          "2018-06-15",
          "2018-06-22",
          "2018-06-29",
          "2018-07-06",
          "2018-07-13",
          "2018-07-20",
          "2018-07-27",
          "2018-08-03",
          "2018-08-10",
          "2018-08-17",
          "2018-08-24",
          "2018-08-31",
          "2018-09-07",
          "2018-09-14",
          "2018-09-21",
          "2018-09-28",
          "2018-10-05",
          "2018-10-12",
          "2018-10-19",
          "2018-10-26",
          "2018-11-02",
          "2018-11-09",
          "2018-11-16",
          "2018-11-23",
          "2018-11-30",
          "2018-12-07",
          "2018-12-14",
          "2018-12-21",
          "2018-12-28",
          "2019-01-04",
          "2019-01-11",
          "2019-01-18",
          "2019-01-25",
          "2019-02-01",
          "2019-02-08",
          "2019-02-15",
          "2019-02-22",
          "2019-03-01",
          "2019-03-08",
          "2019-03-15",
          "2019-03-22",
          "2019-03-29",
          "2019-04-05",
          "2019-04-12",
          "2019-04-19",
          "2019-04-26",
          "2019-05-03",
          "2019-05-10",
          "2019-05-17",
          "2019-05-24",
          "2019-05-31",
          "2019-06-07",
          "2019-06-14",
          "2019-06-21",
          "2019-06-28",
          "2019-07-05",
          "2019-07-12",
          "2019-07-19",
          "2019-07-26",
          "2019-08-02",
          "2019-08-09",
          "2019-08-16",
          "2019-08-23",
          "2019-08-30",
          "2019-09-06",
          "2019-09-13",
          "2019-09-20",
          "2019-09-27",
          "2019-10-04",
          "2019-10-11",
          "2019-10-18",
          "2019-10-25",
          "2019-11-01",
          "2019-11-08",
          "2019-11-15",
          "2019-11-22",
          "2019-11-29",
          "2019-12-06",
          "2019-12-13",
          "2019-12-20",
          "2019-12-27",
          "2020-01-03",
          "2020-01-10",
          "2020-01-17",
          "2020-01-24",
          "2020-01-31",
          "2020-02-07",
          "2020-02-14",
          "2020-02-21",
          "2020-02-28",
          "2020-03-06",
          "2020-03-13",
          "2020-03-20",
          "2020-03-27",
          "2020-04-03",
          "2020-04-10",
          "2020-04-17",
          "2020-04-24",
          "2020-05-08",
          "2020-05-15",
          "2020-05-29",
          "2020-06-05",
          "2020-06-12",
          "2020-06-19",
          "2020-06-26",
          "2020-07-03",
          "2020-07-10",
          "2020-07-17",
          "2020-07-24",
          "2020-07-31",
          "2020-08-07",
          "2020-08-14",
          "2020-08-21",
          "2020-08-28",
          "2020-09-04",
          "2020-09-11",
          "2020-09-18",
          "2020-09-25",
          "2020-10-02",
          "2020-10-09",
          "2020-10-16",
          "2020-10-23",
          "2020-10-30",
          "2020-11-06",
          "2020-11-13",
          "2020-11-20",
          "2020-11-27",
          "2020-12-04",
          "2020-12-11",
          "2020-12-18",
          "2020-12-25",
          "2021-01-01",
          "2021-01-08",
          "2021-01-15",
          "2021-01-22",
          "2021-01-29",
          "2021-02-05",
          "2021-02-12",
          "2021-02-19",
          "2021-02-26",
          "2021-03-05",
          "2021-03-12",
          "2021-03-19",
          "2021-03-26",
          "2021-04-02",
          "2021-04-09",
          "2021-04-16",
          "2021-04-23",
          "2021-04-30",
          "2021-05-07",
          "2021-05-14",
          "2021-05-21",
          "2021-05-28",
          "2021-06-04",
          "2021-06-11",
          "2021-06-18",
          "2021-06-25",
          "2021-07-02",
          "2021-07-09",
          "2021-07-16",
          "2021-07-23",
          "2021-07-30",
          "2021-08-06",
          "2021-08-13",
          "2021-08-20",
          "2021-08-27",
          "2021-09-03",
          "2021-09-10",
          "2021-09-17",
          "2021-09-24",
          "2021-10-01",
          "2021-10-08",
          "2021-10-15",
          "2021-10-22",
          "2021-10-29",
          "2021-11-05",
          "2021-11-12",
          "2021-11-19",
          "2021-11-26",
          "2021-12-03",
          "2021-12-10",
          "2021-12-17",
          "2021-12-24",
          "2021-12-31",
          "2022-01-07",
          "2022-01-14",
          "2022-01-21",
          "2022-01-28",
          "2022-02-04",
          "2022-02-11",
          "2022-02-18",
          "2022-02-25",
          "2022-03-04",
          "2022-03-11",
          "2022-03-18",
          "2022-03-25",
          "2022-04-01",
          "2022-04-08",
          "2022-04-15",
          "2022-04-22",
          "2022-04-29",
          "2022-05-06",
          "2022-05-13",
          "2022-05-20",
          "2022-05-27",
          "2022-06-03",
          "2022-06-10",
          "2022-06-17",
          "2022-06-24",
          "2022-07-01",
          "2022-07-08",
          "2022-07-15",
          "2022-07-22",
          "2022-07-29",
          "2022-08-05",
          "2022-08-12",
          "2022-08-19",
          "2022-08-26",
          "2022-09-02",
          "2022-09-09",
          "2022-09-16",
          "2022-09-23",
          "2022-09-30",
          "2022-10-07",
          "2022-10-14",
          "2022-10-21",
          "2022-10-28",
          "2022-11-04",
          "2022-11-11",
          "2022-11-18",
          "2022-11-25",
          "2022-12-02",
          "2022-12-09",
          "2022-12-16",
          "2022-12-23",
          "2022-12-30",
          "2023-01-06",
          "2023-01-13",
          "2023-01-20",
          "2023-01-27",
          "2023-02-03",
          "2023-02-10",
          "2023-02-17",
          "2023-02-24",
          "2023-03-03",
          "2023-03-10",
          "2023-03-17",
          "2023-03-24",
          "2023-03-31",
          "2023-04-07",
          "2023-04-14",
          "2023-04-21",
          "2023-04-28",
          "2023-05-05",
          "2023-05-12",
          "2023-05-19"
         ],
         "y": [
          91,
          84,
          234,
          209,
          270,
          172,
          247,
          226,
          134,
          174,
          266,
          143,
          149,
          221,
          277,
          162,
          185,
          193,
          211,
          234,
          235,
          389,
          86,
          89,
          327,
          202,
          208,
          194,
          104,
          274,
          139,
          138,
          185,
          153,
          220,
          177,
          167,
          185,
          111,
          63,
          128,
          231,
          162,
          277,
          199,
          152,
          31,
          284,
          291,
          63,
          257,
          323,
          25,
          251,
          202,
          145,
          246,
          127,
          174,
          185,
          159,
          79,
          199,
          85,
          29,
          157,
          180,
          200,
          80,
          199,
          210,
          155,
          147,
          194,
          127,
          150,
          204,
          131,
          161,
          215,
          130,
          97,
          137,
          97,
          87,
          136,
          142,
          114,
          93,
          155,
          103,
          44,
          4,
          18,
          188,
          128,
          158,
          218,
          148,
          198,
          126,
          72,
          324,
          127,
          317,
          252,
          297,
          115,
          148,
          86,
          117,
          184,
          130,
          131,
          143,
          91,
          140,
          104,
          83,
          90,
          52,
          112,
          100,
          170,
          142,
          143,
          139,
          154,
          103,
          142,
          141,
          180,
          123,
          162,
          62,
          108,
          114,
          65,
          116,
          129,
          127,
          82,
          80,
          6,
          60,
          90,
          182,
          150,
          183,
          125,
          197,
          119,
          95,
          178,
          155,
          51,
          22,
          11,
          39,
          2,
          30,
          15,
          40,
          16,
          41,
          22,
          38,
          26,
          78,
          51,
          41,
          100,
          72,
          88,
          66,
          61,
          95,
          97,
          49,
          86,
          53,
          77,
          123,
          55,
          85,
          96,
          58,
          71,
          95,
          88,
          78,
          37,
          131,
          22,
          22,
          66,
          129,
          124,
          152,
          72,
          72,
          66,
          73,
          161,
          119,
          88,
          48,
          63,
          117,
          62,
          96,
          72,
          83,
          50,
          112,
          51,
          45,
          79,
          95,
          27,
          67,
          69,
          44,
          69,
          59,
          34,
          89,
          60,
          67,
          119,
          68,
          140,
          58,
          94,
          46,
          41,
          73,
          90,
          50,
          82,
          28,
          58,
          95,
          41,
          92,
          44,
          19,
          80,
          90,
          132,
          86,
          101,
          121,
          93,
          78,
          35,
          96,
          202,
          72,
          110,
          111,
          47,
          44,
          60,
          63,
          100,
          76,
          70,
          38,
          79,
          56,
          33,
          73,
          97,
          37,
          46,
          57,
          64,
          82,
          71,
          49,
          46,
          58,
          47,
          72,
          67,
          49,
          80,
          71,
          89,
          18,
          98,
          70,
          79,
          47,
          32,
          92,
          61,
          28,
          72,
          78,
          101,
          119,
          81,
          113,
          57,
          39,
          143,
          101,
          95,
          70,
          125,
          43,
          85,
          64,
          27,
          52,
          56,
          27
         ]
        }
       ],
       "layout": {
        "annotations": [
         {
          "font": {
           "color": "rgb(114, 172, 77)",
           "size": 15
          },
          "showarrow": false,
          "text": "CAPA PP",
          "x": 0.02,
          "xref": "paper",
          "y": 1.2,
          "yref": "paper"
         }
        ],
        "height": 500,
        "margin": {
         "b": 50,
         "l": 10,
         "r": 10,
         "t": 150
        },
        "plot_bgcolor": "rgba(0,0,0,0)",
        "template": {
         "data": {
          "bar": [
           {
            "error_x": {
             "color": "#2a3f5f"
            },
            "error_y": {
             "color": "#2a3f5f"
            },
            "marker": {
             "line": {
              "color": "#E5ECF6",
              "width": 0.5
             },
             "pattern": {
              "fillmode": "overlay",
              "size": 10,
              "solidity": 0.2
             }
            },
            "type": "bar"
           }
          ],
          "barpolar": [
           {
            "marker": {
             "line": {
              "color": "#E5ECF6",
              "width": 0.5
             },
             "pattern": {
              "fillmode": "overlay",
              "size": 10,
              "solidity": 0.2
             }
            },
            "type": "barpolar"
           }
          ],
          "carpet": [
           {
            "aaxis": {
             "endlinecolor": "#2a3f5f",
             "gridcolor": "white",
             "linecolor": "white",
             "minorgridcolor": "white",
             "startlinecolor": "#2a3f5f"
            },
            "baxis": {
             "endlinecolor": "#2a3f5f",
             "gridcolor": "white",
             "linecolor": "white",
             "minorgridcolor": "white",
             "startlinecolor": "#2a3f5f"
            },
            "type": "carpet"
           }
          ],
          "choropleth": [
           {
            "colorbar": {
             "outlinewidth": 0,
             "ticks": ""
            },
            "type": "choropleth"
           }
          ],
          "contour": [
           {
            "colorbar": {
             "outlinewidth": 0,
             "ticks": ""
            },
            "colorscale": [
             [
              0,
              "#0d0887"
             ],
             [
              0.1111111111111111,
              "#46039f"
             ],
             [
              0.2222222222222222,
              "#7201a8"
             ],
             [
              0.3333333333333333,
              "#9c179e"
             ],
             [
              0.4444444444444444,
              "#bd3786"
             ],
             [
              0.5555555555555556,
              "#d8576b"
             ],
             [
              0.6666666666666666,
              "#ed7953"
             ],
             [
              0.7777777777777778,
              "#fb9f3a"
             ],
             [
              0.8888888888888888,
              "#fdca26"
             ],
             [
              1,
              "#f0f921"
             ]
            ],
            "type": "contour"
           }
          ],
          "contourcarpet": [
           {
            "colorbar": {
             "outlinewidth": 0,
             "ticks": ""
            },
            "type": "contourcarpet"
           }
          ],
          "heatmap": [
           {
            "colorbar": {
             "outlinewidth": 0,
             "ticks": ""
            },
            "colorscale": [
             [
              0,
              "#0d0887"
             ],
             [
              0.1111111111111111,
              "#46039f"
             ],
             [
              0.2222222222222222,
              "#7201a8"
             ],
             [
              0.3333333333333333,
              "#9c179e"
             ],
             [
              0.4444444444444444,
              "#bd3786"
             ],
             [
              0.5555555555555556,
              "#d8576b"
             ],
             [
              0.6666666666666666,
              "#ed7953"
             ],
             [
              0.7777777777777778,
              "#fb9f3a"
             ],
             [
              0.8888888888888888,
              "#fdca26"
             ],
             [
              1,
              "#f0f921"
             ]
            ],
            "type": "heatmap"
           }
          ],
          "heatmapgl": [
           {
            "colorbar": {
             "outlinewidth": 0,
             "ticks": ""
            },
            "colorscale": [
             [
              0,
              "#0d0887"
             ],
             [
              0.1111111111111111,
              "#46039f"
             ],
             [
              0.2222222222222222,
              "#7201a8"
             ],
             [
              0.3333333333333333,
              "#9c179e"
             ],
             [
              0.4444444444444444,
              "#bd3786"
             ],
             [
              0.5555555555555556,
              "#d8576b"
             ],
             [
              0.6666666666666666,
              "#ed7953"
             ],
             [
              0.7777777777777778,
              "#fb9f3a"
             ],
             [
              0.8888888888888888,
              "#fdca26"
             ],
             [
              1,
              "#f0f921"
             ]
            ],
            "type": "heatmapgl"
           }
          ],
          "histogram": [
           {
            "marker": {
             "pattern": {
              "fillmode": "overlay",
              "size": 10,
              "solidity": 0.2
             }
            },
            "type": "histogram"
           }
          ],
          "histogram2d": [
           {
            "colorbar": {
             "outlinewidth": 0,
             "ticks": ""
            },
            "colorscale": [
             [
              0,
              "#0d0887"
             ],
             [
              0.1111111111111111,
              "#46039f"
             ],
             [
              0.2222222222222222,
              "#7201a8"
             ],
             [
              0.3333333333333333,
              "#9c179e"
             ],
             [
              0.4444444444444444,
              "#bd3786"
             ],
             [
              0.5555555555555556,
              "#d8576b"
             ],
             [
              0.6666666666666666,
              "#ed7953"
             ],
             [
              0.7777777777777778,
              "#fb9f3a"
             ],
             [
              0.8888888888888888,
              "#fdca26"
             ],
             [
              1,
              "#f0f921"
             ]
            ],
            "type": "histogram2d"
           }
          ],
          "histogram2dcontour": [
           {
            "colorbar": {
             "outlinewidth": 0,
             "ticks": ""
            },
            "colorscale": [
             [
              0,
              "#0d0887"
             ],
             [
              0.1111111111111111,
              "#46039f"
             ],
             [
              0.2222222222222222,
              "#7201a8"
             ],
             [
              0.3333333333333333,
              "#9c179e"
             ],
             [
              0.4444444444444444,
              "#bd3786"
             ],
             [
              0.5555555555555556,
              "#d8576b"
             ],
             [
              0.6666666666666666,
              "#ed7953"
             ],
             [
              0.7777777777777778,
              "#fb9f3a"
             ],
             [
              0.8888888888888888,
              "#fdca26"
             ],
             [
              1,
              "#f0f921"
             ]
            ],
            "type": "histogram2dcontour"
           }
          ],
          "mesh3d": [
           {
            "colorbar": {
             "outlinewidth": 0,
             "ticks": ""
            },
            "type": "mesh3d"
           }
          ],
          "parcoords": [
           {
            "line": {
             "colorbar": {
              "outlinewidth": 0,
              "ticks": ""
             }
            },
            "type": "parcoords"
           }
          ],
          "pie": [
           {
            "automargin": true,
            "type": "pie"
           }
          ],
          "scatter": [
           {
            "fillpattern": {
             "fillmode": "overlay",
             "size": 10,
             "solidity": 0.2
            },
            "type": "scatter"
           }
          ],
          "scatter3d": [
           {
            "line": {
             "colorbar": {
              "outlinewidth": 0,
              "ticks": ""
             }
            },
            "marker": {
             "colorbar": {
              "outlinewidth": 0,
              "ticks": ""
             }
            },
            "type": "scatter3d"
           }
          ],
          "scattercarpet": [
           {
            "marker": {
             "colorbar": {
              "outlinewidth": 0,
              "ticks": ""
             }
            },
            "type": "scattercarpet"
           }
          ],
          "scattergeo": [
           {
            "marker": {
             "colorbar": {
              "outlinewidth": 0,
              "ticks": ""
             }
            },
            "type": "scattergeo"
           }
          ],
          "scattergl": [
           {
            "marker": {
             "colorbar": {
              "outlinewidth": 0,
              "ticks": ""
             }
            },
            "type": "scattergl"
           }
          ],
          "scattermapbox": [
           {
            "marker": {
             "colorbar": {
              "outlinewidth": 0,
              "ticks": ""
             }
            },
            "type": "scattermapbox"
           }
          ],
          "scatterpolar": [
           {
            "marker": {
             "colorbar": {
              "outlinewidth": 0,
              "ticks": ""
             }
            },
            "type": "scatterpolar"
           }
          ],
          "scatterpolargl": [
           {
            "marker": {
             "colorbar": {
              "outlinewidth": 0,
              "ticks": ""
             }
            },
            "type": "scatterpolargl"
           }
          ],
          "scatterternary": [
           {
            "marker": {
             "colorbar": {
              "outlinewidth": 0,
              "ticks": ""
             }
            },
            "type": "scatterternary"
           }
          ],
          "surface": [
           {
            "colorbar": {
             "outlinewidth": 0,
             "ticks": ""
            },
            "colorscale": [
             [
              0,
              "#0d0887"
             ],
             [
              0.1111111111111111,
              "#46039f"
             ],
             [
              0.2222222222222222,
              "#7201a8"
             ],
             [
              0.3333333333333333,
              "#9c179e"
             ],
             [
              0.4444444444444444,
              "#bd3786"
             ],
             [
              0.5555555555555556,
              "#d8576b"
             ],
             [
              0.6666666666666666,
              "#ed7953"
             ],
             [
              0.7777777777777778,
              "#fb9f3a"
             ],
             [
              0.8888888888888888,
              "#fdca26"
             ],
             [
              1,
              "#f0f921"
             ]
            ],
            "type": "surface"
           }
          ],
          "table": [
           {
            "cells": {
             "fill": {
              "color": "#EBF0F8"
             },
             "line": {
              "color": "white"
             }
            },
            "header": {
             "fill": {
              "color": "#C8D4E3"
             },
             "line": {
              "color": "white"
             }
            },
            "type": "table"
           }
          ]
         },
         "layout": {
          "annotationdefaults": {
           "arrowcolor": "#2a3f5f",
           "arrowhead": 0,
           "arrowwidth": 1
          },
          "autotypenumbers": "strict",
          "coloraxis": {
           "colorbar": {
            "outlinewidth": 0,
            "ticks": ""
           }
          },
          "colorscale": {
           "diverging": [
            [
             0,
             "#8e0152"
            ],
            [
             0.1,
             "#c51b7d"
            ],
            [
             0.2,
             "#de77ae"
            ],
            [
             0.3,
             "#f1b6da"
            ],
            [
             0.4,
             "#fde0ef"
            ],
            [
             0.5,
             "#f7f7f7"
            ],
            [
             0.6,
             "#e6f5d0"
            ],
            [
             0.7,
             "#b8e186"
            ],
            [
             0.8,
             "#7fbc41"
            ],
            [
             0.9,
             "#4d9221"
            ],
            [
             1,
             "#276419"
            ]
           ],
           "sequential": [
            [
             0,
             "#0d0887"
            ],
            [
             0.1111111111111111,
             "#46039f"
            ],
            [
             0.2222222222222222,
             "#7201a8"
            ],
            [
             0.3333333333333333,
             "#9c179e"
            ],
            [
             0.4444444444444444,
             "#bd3786"
            ],
            [
             0.5555555555555556,
             "#d8576b"
            ],
            [
             0.6666666666666666,
             "#ed7953"
            ],
            [
             0.7777777777777778,
             "#fb9f3a"
            ],
            [
             0.8888888888888888,
             "#fdca26"
            ],
            [
             1,
             "#f0f921"
            ]
           ],
           "sequentialminus": [
            [
             0,
             "#0d0887"
            ],
            [
             0.1111111111111111,
             "#46039f"
            ],
            [
             0.2222222222222222,
             "#7201a8"
            ],
            [
             0.3333333333333333,
             "#9c179e"
            ],
            [
             0.4444444444444444,
             "#bd3786"
            ],
            [
             0.5555555555555556,
             "#d8576b"
            ],
            [
             0.6666666666666666,
             "#ed7953"
            ],
            [
             0.7777777777777778,
             "#fb9f3a"
            ],
            [
             0.8888888888888888,
             "#fdca26"
            ],
            [
             1,
             "#f0f921"
            ]
           ]
          },
          "colorway": [
           "#636efa",
           "#EF553B",
           "#00cc96",
           "#ab63fa",
           "#FFA15A",
           "#19d3f3",
           "#FF6692",
           "#B6E880",
           "#FF97FF",
           "#FECB52"
          ],
          "font": {
           "color": "#2a3f5f"
          },
          "geo": {
           "bgcolor": "white",
           "lakecolor": "white",
           "landcolor": "#E5ECF6",
           "showlakes": true,
           "showland": true,
           "subunitcolor": "white"
          },
          "hoverlabel": {
           "align": "left"
          },
          "hovermode": "closest",
          "mapbox": {
           "style": "light"
          },
          "paper_bgcolor": "white",
          "plot_bgcolor": "#E5ECF6",
          "polar": {
           "angularaxis": {
            "gridcolor": "white",
            "linecolor": "white",
            "ticks": ""
           },
           "bgcolor": "#E5ECF6",
           "radialaxis": {
            "gridcolor": "white",
            "linecolor": "white",
            "ticks": ""
           }
          },
          "scene": {
           "xaxis": {
            "backgroundcolor": "#E5ECF6",
            "gridcolor": "white",
            "gridwidth": 2,
            "linecolor": "white",
            "showbackground": true,
            "ticks": "",
            "zerolinecolor": "white"
           },
           "yaxis": {
            "backgroundcolor": "#E5ECF6",
            "gridcolor": "white",
            "gridwidth": 2,
            "linecolor": "white",
            "showbackground": true,
            "ticks": "",
            "zerolinecolor": "white"
           },
           "zaxis": {
            "backgroundcolor": "#E5ECF6",
            "gridcolor": "white",
            "gridwidth": 2,
            "linecolor": "white",
            "showbackground": true,
            "ticks": "",
            "zerolinecolor": "white"
           }
          },
          "shapedefaults": {
           "line": {
            "color": "#2a3f5f"
           }
          },
          "ternary": {
           "aaxis": {
            "gridcolor": "white",
            "linecolor": "white",
            "ticks": ""
           },
           "baxis": {
            "gridcolor": "white",
            "linecolor": "white",
            "ticks": ""
           },
           "bgcolor": "#E5ECF6",
           "caxis": {
            "gridcolor": "white",
            "linecolor": "white",
            "ticks": ""
           }
          },
          "title": {
           "x": 0.05
          },
          "xaxis": {
           "automargin": true,
           "gridcolor": "white",
           "linecolor": "white",
           "ticks": "",
           "title": {
            "standoff": 15
           },
           "zerolinecolor": "white",
           "zerolinewidth": 2
          },
          "yaxis": {
           "automargin": true,
           "gridcolor": "white",
           "linecolor": "white",
           "ticks": "",
           "title": {
            "standoff": 15
           },
           "zerolinecolor": "white",
           "zerolinewidth": 2
          }
         }
        },
        "title": {
         "font": {
          "size": 18
         },
         "text": "SALES PER WEEK",
         "x": 0.1,
         "y": 0.9
        },
        "width": 700,
        "xaxis": {
         "linecolor": "rgba(169, 169, 169, 1)",
         "linewidth": 1,
         "showline": true
        },
        "yaxis": {
         "title": {
          "text": "UNITS SOLD"
         }
        }
       }
      }
     },
     "metadata": {},
     "output_type": "display_data"
    }
   ],
   "source": [
    "product = 'CAPA PP'\n",
    "step = 'week'\n",
    "\n",
    "df_product, df_dates = product_over_year(df_vendas, product, step)\n",
    "plot_product_over_year(df_product, product, step)"
   ]
  },
  {
   "cell_type": "code",
   "execution_count": 35,
   "metadata": {},
   "outputs": [
    {
     "data": {
      "application/vnd.plotly.v1+json": {
       "config": {
        "plotlyServerURL": "https://plotly.com"
       },
       "data": [
        {
         "line": {
          "color": "rgb(114, 172, 77)",
          "width": 3
         },
         "mode": "lines",
         "type": "scatter",
         "x": [
          "2017-04-07",
          "2017-04-14",
          "2017-04-21",
          "2017-05-05",
          "2017-05-12",
          "2017-05-19",
          "2017-05-26",
          "2017-06-02",
          "2017-06-09",
          "2017-06-16",
          "2017-06-23",
          "2017-06-30",
          "2017-07-07",
          "2017-07-14",
          "2017-07-21",
          "2017-07-28",
          "2017-08-04",
          "2017-08-11",
          "2017-08-18",
          "2017-08-25",
          "2017-09-01",
          "2017-09-08",
          "2017-09-15",
          "2017-09-22",
          "2017-09-29",
          "2017-10-06",
          "2017-10-13",
          "2017-10-20",
          "2017-10-27",
          "2017-11-03",
          "2017-11-10",
          "2017-11-17",
          "2017-12-01",
          "2017-12-08",
          "2017-12-15",
          "2017-12-22",
          "2017-12-29",
          "2018-01-05",
          "2018-01-12",
          "2018-01-19",
          "2018-01-26",
          "2018-02-02",
          "2018-02-23",
          "2018-03-02",
          "2018-03-09",
          "2018-03-16",
          "2018-03-23",
          "2018-03-30",
          "2018-04-06",
          "2018-04-13",
          "2018-04-20",
          "2018-04-27",
          "2018-05-04",
          "2018-05-11",
          "2018-05-18",
          "2018-05-25",
          "2018-06-01",
          "2018-06-08",
          "2018-06-15",
          "2018-06-22",
          "2018-06-29",
          "2018-07-06",
          "2018-07-13",
          "2018-07-20",
          "2018-07-27",
          "2018-08-03",
          "2018-08-10",
          "2018-08-24",
          "2018-08-31",
          "2018-09-07",
          "2018-09-14",
          "2018-09-28",
          "2018-10-05",
          "2018-10-12",
          "2018-10-19",
          "2018-10-26",
          "2018-11-02",
          "2018-11-09",
          "2018-11-16",
          "2018-11-23",
          "2018-11-30",
          "2018-12-07",
          "2018-12-14",
          "2018-12-21",
          "2018-12-28",
          "2019-01-04",
          "2019-01-11",
          "2019-01-18",
          "2019-01-25",
          "2019-02-01",
          "2019-02-08",
          "2019-02-15",
          "2019-02-22",
          "2019-03-01",
          "2019-03-08",
          "2019-03-15",
          "2019-03-22",
          "2019-04-05",
          "2019-04-12",
          "2019-04-19",
          "2019-04-26",
          "2019-05-10",
          "2019-05-17",
          "2019-05-24",
          "2019-05-31",
          "2019-06-07",
          "2019-06-14",
          "2019-06-21",
          "2019-07-05",
          "2019-07-12",
          "2019-07-19",
          "2019-07-26",
          "2019-08-02",
          "2019-08-09",
          "2019-08-16",
          "2019-08-23",
          "2019-08-30",
          "2019-09-06",
          "2019-09-13",
          "2019-09-20",
          "2019-09-27",
          "2019-10-04",
          "2019-10-11",
          "2019-10-18",
          "2019-10-25",
          "2019-11-01",
          "2019-11-08",
          "2019-11-15",
          "2019-11-29",
          "2019-12-06",
          "2019-12-13",
          "2019-12-20",
          "2020-01-03",
          "2020-01-17",
          "2020-01-24",
          "2020-01-31",
          "2020-02-07",
          "2020-02-14",
          "2020-02-21",
          "2020-02-28",
          "2020-03-06",
          "2020-03-13",
          "2020-04-03",
          "2020-04-17",
          "2020-05-15",
          "2020-05-29",
          "2020-06-12",
          "2020-06-19",
          "2020-07-03",
          "2020-07-10",
          "2020-07-17",
          "2020-07-24",
          "2020-07-31",
          "2020-08-07",
          "2020-08-14",
          "2020-08-21",
          "2020-08-28",
          "2020-09-04",
          "2020-09-11",
          "2020-09-18",
          "2020-09-25",
          "2020-10-02",
          "2020-10-09",
          "2020-10-16",
          "2020-10-23",
          "2020-10-30",
          "2020-11-06",
          "2020-11-13",
          "2020-11-20",
          "2020-11-27",
          "2020-12-04",
          "2020-12-11",
          "2020-12-18",
          "2020-12-25",
          "2021-01-08",
          "2021-01-15",
          "2021-01-22",
          "2021-01-29",
          "2021-02-05",
          "2021-02-12",
          "2021-02-19",
          "2021-02-26",
          "2021-03-05",
          "2021-03-12",
          "2021-04-02",
          "2021-04-09",
          "2021-04-16",
          "2021-04-23",
          "2021-04-30",
          "2021-05-07",
          "2021-05-14",
          "2021-05-21",
          "2021-05-28",
          "2021-06-04",
          "2021-06-18",
          "2021-06-25",
          "2021-07-02",
          "2021-07-16",
          "2021-07-23",
          "2021-07-30",
          "2021-08-06",
          "2021-08-13",
          "2021-08-20",
          "2021-08-27",
          "2021-09-03",
          "2021-09-10",
          "2021-09-17",
          "2021-09-24",
          "2021-10-01",
          "2021-10-08",
          "2021-10-15",
          "2021-10-22",
          "2021-10-29",
          "2021-11-05",
          "2021-11-12",
          "2021-12-03",
          "2021-12-10",
          "2021-12-17",
          "2021-12-24",
          "2022-01-07",
          "2022-01-14",
          "2022-01-21",
          "2022-01-28",
          "2022-02-04",
          "2022-02-11",
          "2022-02-18",
          "2022-02-25",
          "2022-03-04",
          "2022-03-11",
          "2022-03-18",
          "2022-03-25",
          "2022-04-01",
          "2022-04-08",
          "2022-04-15",
          "2022-04-22",
          "2022-04-29",
          "2022-05-06",
          "2022-05-13",
          "2022-05-20",
          "2022-05-27",
          "2022-06-03",
          "2022-06-17",
          "2022-07-01",
          "2022-07-08",
          "2022-07-15",
          "2022-07-29",
          "2022-08-05",
          "2022-08-12",
          "2022-08-19",
          "2022-08-26",
          "2022-09-02",
          "2022-09-09",
          "2022-09-16",
          "2022-09-23",
          "2022-09-30",
          "2022-10-07",
          "2022-10-14",
          "2022-10-21",
          "2022-10-28",
          "2022-11-04",
          "2022-11-11",
          "2022-11-18",
          "2022-11-25",
          "2022-12-02",
          "2022-12-16",
          "2022-12-23",
          "2022-12-30",
          "2023-01-06",
          "2023-01-13",
          "2023-01-20",
          "2023-01-27",
          "2023-02-03",
          "2023-02-10",
          "2023-03-03",
          "2023-03-10",
          "2023-03-17",
          "2023-03-24",
          "2023-03-31",
          "2023-04-07",
          "2023-04-28",
          "2023-05-05",
          "2023-05-12",
          "2023-05-19"
         ],
         "y": [
          1,
          3,
          1,
          6,
          6,
          9,
          19,
          3,
          2,
          10,
          3,
          2,
          4,
          2,
          8,
          4,
          6,
          1,
          3,
          3,
          4,
          2,
          10,
          2,
          2,
          6,
          4,
          6,
          2,
          2,
          5,
          2,
          2,
          4,
          4,
          6,
          1,
          3,
          5,
          7,
          3,
          1,
          4,
          5,
          2,
          4,
          3,
          2,
          2,
          5,
          3,
          4,
          6,
          7,
          3,
          2,
          6,
          4,
          3,
          4,
          5,
          1,
          3,
          2,
          7,
          2,
          4,
          2,
          4,
          4,
          2,
          5,
          3,
          5,
          1,
          6,
          4,
          6,
          3,
          2,
          2,
          4,
          3,
          2,
          3,
          1,
          2,
          4,
          4,
          9,
          3,
          5,
          7,
          7,
          2,
          9,
          4,
          6,
          7,
          5,
          1,
          5,
          2,
          5,
          3,
          2,
          4,
          3,
          3,
          2,
          4,
          2,
          5,
          6,
          4,
          3,
          4,
          1,
          2,
          2,
          2,
          3,
          3,
          4,
          3,
          7,
          3,
          3,
          2,
          2,
          4,
          3,
          1,
          2,
          4,
          1,
          6,
          9,
          1,
          5,
          4,
          3,
          1,
          1,
          1,
          1,
          2,
          3,
          4,
          5,
          1,
          9,
          3,
          4,
          5,
          2,
          9,
          5,
          5,
          8,
          6,
          4,
          4,
          9,
          6,
          4,
          5,
          1,
          8,
          3,
          6,
          1,
          5,
          5,
          2,
          3,
          2,
          2,
          2,
          3,
          2,
          4,
          3,
          2,
          2,
          3,
          4,
          2,
          2,
          3,
          4,
          4,
          2,
          2,
          4,
          3,
          3,
          3,
          3,
          5,
          2,
          4,
          3,
          1,
          2,
          4,
          3,
          15,
          2,
          1,
          3,
          2,
          4,
          5,
          1,
          4,
          2,
          4,
          2,
          4,
          2,
          2,
          3,
          3,
          2,
          8,
          2,
          1,
          1,
          5,
          2,
          4,
          3,
          3,
          1,
          4,
          2,
          2,
          1,
          4,
          4,
          1,
          1,
          3,
          2,
          4,
          1,
          4,
          2,
          2,
          2,
          4,
          6,
          5,
          3,
          1,
          1,
          2,
          2,
          1,
          3,
          1,
          3,
          6,
          4,
          1,
          2,
          5,
          1,
          1,
          1,
          1,
          1,
          1,
          3,
          2,
          1,
          4,
          1,
          4,
          1,
          2,
          3
         ]
        }
       ],
       "layout": {
        "annotations": [
         {
          "font": {
           "color": "rgb(114, 172, 77)",
           "size": 15
          },
          "showarrow": false,
          "text": "PLASTIFICADORA",
          "x": 0.02,
          "xref": "paper",
          "y": 1.2,
          "yref": "paper"
         }
        ],
        "height": 500,
        "margin": {
         "b": 50,
         "l": 10,
         "r": 10,
         "t": 150
        },
        "plot_bgcolor": "rgba(0,0,0,0)",
        "template": {
         "data": {
          "bar": [
           {
            "error_x": {
             "color": "#2a3f5f"
            },
            "error_y": {
             "color": "#2a3f5f"
            },
            "marker": {
             "line": {
              "color": "#E5ECF6",
              "width": 0.5
             },
             "pattern": {
              "fillmode": "overlay",
              "size": 10,
              "solidity": 0.2
             }
            },
            "type": "bar"
           }
          ],
          "barpolar": [
           {
            "marker": {
             "line": {
              "color": "#E5ECF6",
              "width": 0.5
             },
             "pattern": {
              "fillmode": "overlay",
              "size": 10,
              "solidity": 0.2
             }
            },
            "type": "barpolar"
           }
          ],
          "carpet": [
           {
            "aaxis": {
             "endlinecolor": "#2a3f5f",
             "gridcolor": "white",
             "linecolor": "white",
             "minorgridcolor": "white",
             "startlinecolor": "#2a3f5f"
            },
            "baxis": {
             "endlinecolor": "#2a3f5f",
             "gridcolor": "white",
             "linecolor": "white",
             "minorgridcolor": "white",
             "startlinecolor": "#2a3f5f"
            },
            "type": "carpet"
           }
          ],
          "choropleth": [
           {
            "colorbar": {
             "outlinewidth": 0,
             "ticks": ""
            },
            "type": "choropleth"
           }
          ],
          "contour": [
           {
            "colorbar": {
             "outlinewidth": 0,
             "ticks": ""
            },
            "colorscale": [
             [
              0,
              "#0d0887"
             ],
             [
              0.1111111111111111,
              "#46039f"
             ],
             [
              0.2222222222222222,
              "#7201a8"
             ],
             [
              0.3333333333333333,
              "#9c179e"
             ],
             [
              0.4444444444444444,
              "#bd3786"
             ],
             [
              0.5555555555555556,
              "#d8576b"
             ],
             [
              0.6666666666666666,
              "#ed7953"
             ],
             [
              0.7777777777777778,
              "#fb9f3a"
             ],
             [
              0.8888888888888888,
              "#fdca26"
             ],
             [
              1,
              "#f0f921"
             ]
            ],
            "type": "contour"
           }
          ],
          "contourcarpet": [
           {
            "colorbar": {
             "outlinewidth": 0,
             "ticks": ""
            },
            "type": "contourcarpet"
           }
          ],
          "heatmap": [
           {
            "colorbar": {
             "outlinewidth": 0,
             "ticks": ""
            },
            "colorscale": [
             [
              0,
              "#0d0887"
             ],
             [
              0.1111111111111111,
              "#46039f"
             ],
             [
              0.2222222222222222,
              "#7201a8"
             ],
             [
              0.3333333333333333,
              "#9c179e"
             ],
             [
              0.4444444444444444,
              "#bd3786"
             ],
             [
              0.5555555555555556,
              "#d8576b"
             ],
             [
              0.6666666666666666,
              "#ed7953"
             ],
             [
              0.7777777777777778,
              "#fb9f3a"
             ],
             [
              0.8888888888888888,
              "#fdca26"
             ],
             [
              1,
              "#f0f921"
             ]
            ],
            "type": "heatmap"
           }
          ],
          "heatmapgl": [
           {
            "colorbar": {
             "outlinewidth": 0,
             "ticks": ""
            },
            "colorscale": [
             [
              0,
              "#0d0887"
             ],
             [
              0.1111111111111111,
              "#46039f"
             ],
             [
              0.2222222222222222,
              "#7201a8"
             ],
             [
              0.3333333333333333,
              "#9c179e"
             ],
             [
              0.4444444444444444,
              "#bd3786"
             ],
             [
              0.5555555555555556,
              "#d8576b"
             ],
             [
              0.6666666666666666,
              "#ed7953"
             ],
             [
              0.7777777777777778,
              "#fb9f3a"
             ],
             [
              0.8888888888888888,
              "#fdca26"
             ],
             [
              1,
              "#f0f921"
             ]
            ],
            "type": "heatmapgl"
           }
          ],
          "histogram": [
           {
            "marker": {
             "pattern": {
              "fillmode": "overlay",
              "size": 10,
              "solidity": 0.2
             }
            },
            "type": "histogram"
           }
          ],
          "histogram2d": [
           {
            "colorbar": {
             "outlinewidth": 0,
             "ticks": ""
            },
            "colorscale": [
             [
              0,
              "#0d0887"
             ],
             [
              0.1111111111111111,
              "#46039f"
             ],
             [
              0.2222222222222222,
              "#7201a8"
             ],
             [
              0.3333333333333333,
              "#9c179e"
             ],
             [
              0.4444444444444444,
              "#bd3786"
             ],
             [
              0.5555555555555556,
              "#d8576b"
             ],
             [
              0.6666666666666666,
              "#ed7953"
             ],
             [
              0.7777777777777778,
              "#fb9f3a"
             ],
             [
              0.8888888888888888,
              "#fdca26"
             ],
             [
              1,
              "#f0f921"
             ]
            ],
            "type": "histogram2d"
           }
          ],
          "histogram2dcontour": [
           {
            "colorbar": {
             "outlinewidth": 0,
             "ticks": ""
            },
            "colorscale": [
             [
              0,
              "#0d0887"
             ],
             [
              0.1111111111111111,
              "#46039f"
             ],
             [
              0.2222222222222222,
              "#7201a8"
             ],
             [
              0.3333333333333333,
              "#9c179e"
             ],
             [
              0.4444444444444444,
              "#bd3786"
             ],
             [
              0.5555555555555556,
              "#d8576b"
             ],
             [
              0.6666666666666666,
              "#ed7953"
             ],
             [
              0.7777777777777778,
              "#fb9f3a"
             ],
             [
              0.8888888888888888,
              "#fdca26"
             ],
             [
              1,
              "#f0f921"
             ]
            ],
            "type": "histogram2dcontour"
           }
          ],
          "mesh3d": [
           {
            "colorbar": {
             "outlinewidth": 0,
             "ticks": ""
            },
            "type": "mesh3d"
           }
          ],
          "parcoords": [
           {
            "line": {
             "colorbar": {
              "outlinewidth": 0,
              "ticks": ""
             }
            },
            "type": "parcoords"
           }
          ],
          "pie": [
           {
            "automargin": true,
            "type": "pie"
           }
          ],
          "scatter": [
           {
            "fillpattern": {
             "fillmode": "overlay",
             "size": 10,
             "solidity": 0.2
            },
            "type": "scatter"
           }
          ],
          "scatter3d": [
           {
            "line": {
             "colorbar": {
              "outlinewidth": 0,
              "ticks": ""
             }
            },
            "marker": {
             "colorbar": {
              "outlinewidth": 0,
              "ticks": ""
             }
            },
            "type": "scatter3d"
           }
          ],
          "scattercarpet": [
           {
            "marker": {
             "colorbar": {
              "outlinewidth": 0,
              "ticks": ""
             }
            },
            "type": "scattercarpet"
           }
          ],
          "scattergeo": [
           {
            "marker": {
             "colorbar": {
              "outlinewidth": 0,
              "ticks": ""
             }
            },
            "type": "scattergeo"
           }
          ],
          "scattergl": [
           {
            "marker": {
             "colorbar": {
              "outlinewidth": 0,
              "ticks": ""
             }
            },
            "type": "scattergl"
           }
          ],
          "scattermapbox": [
           {
            "marker": {
             "colorbar": {
              "outlinewidth": 0,
              "ticks": ""
             }
            },
            "type": "scattermapbox"
           }
          ],
          "scatterpolar": [
           {
            "marker": {
             "colorbar": {
              "outlinewidth": 0,
              "ticks": ""
             }
            },
            "type": "scatterpolar"
           }
          ],
          "scatterpolargl": [
           {
            "marker": {
             "colorbar": {
              "outlinewidth": 0,
              "ticks": ""
             }
            },
            "type": "scatterpolargl"
           }
          ],
          "scatterternary": [
           {
            "marker": {
             "colorbar": {
              "outlinewidth": 0,
              "ticks": ""
             }
            },
            "type": "scatterternary"
           }
          ],
          "surface": [
           {
            "colorbar": {
             "outlinewidth": 0,
             "ticks": ""
            },
            "colorscale": [
             [
              0,
              "#0d0887"
             ],
             [
              0.1111111111111111,
              "#46039f"
             ],
             [
              0.2222222222222222,
              "#7201a8"
             ],
             [
              0.3333333333333333,
              "#9c179e"
             ],
             [
              0.4444444444444444,
              "#bd3786"
             ],
             [
              0.5555555555555556,
              "#d8576b"
             ],
             [
              0.6666666666666666,
              "#ed7953"
             ],
             [
              0.7777777777777778,
              "#fb9f3a"
             ],
             [
              0.8888888888888888,
              "#fdca26"
             ],
             [
              1,
              "#f0f921"
             ]
            ],
            "type": "surface"
           }
          ],
          "table": [
           {
            "cells": {
             "fill": {
              "color": "#EBF0F8"
             },
             "line": {
              "color": "white"
             }
            },
            "header": {
             "fill": {
              "color": "#C8D4E3"
             },
             "line": {
              "color": "white"
             }
            },
            "type": "table"
           }
          ]
         },
         "layout": {
          "annotationdefaults": {
           "arrowcolor": "#2a3f5f",
           "arrowhead": 0,
           "arrowwidth": 1
          },
          "autotypenumbers": "strict",
          "coloraxis": {
           "colorbar": {
            "outlinewidth": 0,
            "ticks": ""
           }
          },
          "colorscale": {
           "diverging": [
            [
             0,
             "#8e0152"
            ],
            [
             0.1,
             "#c51b7d"
            ],
            [
             0.2,
             "#de77ae"
            ],
            [
             0.3,
             "#f1b6da"
            ],
            [
             0.4,
             "#fde0ef"
            ],
            [
             0.5,
             "#f7f7f7"
            ],
            [
             0.6,
             "#e6f5d0"
            ],
            [
             0.7,
             "#b8e186"
            ],
            [
             0.8,
             "#7fbc41"
            ],
            [
             0.9,
             "#4d9221"
            ],
            [
             1,
             "#276419"
            ]
           ],
           "sequential": [
            [
             0,
             "#0d0887"
            ],
            [
             0.1111111111111111,
             "#46039f"
            ],
            [
             0.2222222222222222,
             "#7201a8"
            ],
            [
             0.3333333333333333,
             "#9c179e"
            ],
            [
             0.4444444444444444,
             "#bd3786"
            ],
            [
             0.5555555555555556,
             "#d8576b"
            ],
            [
             0.6666666666666666,
             "#ed7953"
            ],
            [
             0.7777777777777778,
             "#fb9f3a"
            ],
            [
             0.8888888888888888,
             "#fdca26"
            ],
            [
             1,
             "#f0f921"
            ]
           ],
           "sequentialminus": [
            [
             0,
             "#0d0887"
            ],
            [
             0.1111111111111111,
             "#46039f"
            ],
            [
             0.2222222222222222,
             "#7201a8"
            ],
            [
             0.3333333333333333,
             "#9c179e"
            ],
            [
             0.4444444444444444,
             "#bd3786"
            ],
            [
             0.5555555555555556,
             "#d8576b"
            ],
            [
             0.6666666666666666,
             "#ed7953"
            ],
            [
             0.7777777777777778,
             "#fb9f3a"
            ],
            [
             0.8888888888888888,
             "#fdca26"
            ],
            [
             1,
             "#f0f921"
            ]
           ]
          },
          "colorway": [
           "#636efa",
           "#EF553B",
           "#00cc96",
           "#ab63fa",
           "#FFA15A",
           "#19d3f3",
           "#FF6692",
           "#B6E880",
           "#FF97FF",
           "#FECB52"
          ],
          "font": {
           "color": "#2a3f5f"
          },
          "geo": {
           "bgcolor": "white",
           "lakecolor": "white",
           "landcolor": "#E5ECF6",
           "showlakes": true,
           "showland": true,
           "subunitcolor": "white"
          },
          "hoverlabel": {
           "align": "left"
          },
          "hovermode": "closest",
          "mapbox": {
           "style": "light"
          },
          "paper_bgcolor": "white",
          "plot_bgcolor": "#E5ECF6",
          "polar": {
           "angularaxis": {
            "gridcolor": "white",
            "linecolor": "white",
            "ticks": ""
           },
           "bgcolor": "#E5ECF6",
           "radialaxis": {
            "gridcolor": "white",
            "linecolor": "white",
            "ticks": ""
           }
          },
          "scene": {
           "xaxis": {
            "backgroundcolor": "#E5ECF6",
            "gridcolor": "white",
            "gridwidth": 2,
            "linecolor": "white",
            "showbackground": true,
            "ticks": "",
            "zerolinecolor": "white"
           },
           "yaxis": {
            "backgroundcolor": "#E5ECF6",
            "gridcolor": "white",
            "gridwidth": 2,
            "linecolor": "white",
            "showbackground": true,
            "ticks": "",
            "zerolinecolor": "white"
           },
           "zaxis": {
            "backgroundcolor": "#E5ECF6",
            "gridcolor": "white",
            "gridwidth": 2,
            "linecolor": "white",
            "showbackground": true,
            "ticks": "",
            "zerolinecolor": "white"
           }
          },
          "shapedefaults": {
           "line": {
            "color": "#2a3f5f"
           }
          },
          "ternary": {
           "aaxis": {
            "gridcolor": "white",
            "linecolor": "white",
            "ticks": ""
           },
           "baxis": {
            "gridcolor": "white",
            "linecolor": "white",
            "ticks": ""
           },
           "bgcolor": "#E5ECF6",
           "caxis": {
            "gridcolor": "white",
            "linecolor": "white",
            "ticks": ""
           }
          },
          "title": {
           "x": 0.05
          },
          "xaxis": {
           "automargin": true,
           "gridcolor": "white",
           "linecolor": "white",
           "ticks": "",
           "title": {
            "standoff": 15
           },
           "zerolinecolor": "white",
           "zerolinewidth": 2
          },
          "yaxis": {
           "automargin": true,
           "gridcolor": "white",
           "linecolor": "white",
           "ticks": "",
           "title": {
            "standoff": 15
           },
           "zerolinecolor": "white",
           "zerolinewidth": 2
          }
         }
        },
        "title": {
         "font": {
          "size": 18
         },
         "text": "SALES PER WEEK",
         "x": 0.1,
         "y": 0.9
        },
        "width": 700,
        "xaxis": {
         "linecolor": "rgba(169, 169, 169, 1)",
         "linewidth": 1,
         "showline": true
        },
        "yaxis": {
         "title": {
          "text": "UNITS SOLD"
         }
        }
       }
      }
     },
     "metadata": {},
     "output_type": "display_data"
    }
   ],
   "source": [
    "product = 'PLASTIFICADORA'\n",
    "step = 'week'\n",
    "\n",
    "df_product, df_dates = product_over_year(df_vendas, product, step)\n",
    "plot_product_over_year(df_product, product, step)"
   ]
  },
  {
   "cell_type": "markdown",
   "metadata": {},
   "source": [
    "## Time Series Decomposition"
   ]
  },
  {
   "cell_type": "markdown",
   "metadata": {},
   "source": [
    "## Client-specific buying behavior"
   ]
  },
  {
   "cell_type": "markdown",
   "metadata": {},
   "source": [
    "Let us now run through a couple of examples of client buying histories. We are interested in visually investigating whether we can spot patterns of purchase from specific buyers.  "
   ]
  }
 ],
 "metadata": {
  "kernelspec": {
   "display_name": "base",
   "language": "python",
   "name": "python3"
  },
  "language_info": {
   "codemirror_mode": {
    "name": "ipython",
    "version": 3
   },
   "file_extension": ".py",
   "mimetype": "text/x-python",
   "name": "python",
   "nbconvert_exporter": "python",
   "pygments_lexer": "ipython3",
   "version": "3.11.4"
  }
 },
 "nbformat": 4,
 "nbformat_minor": 2
}
